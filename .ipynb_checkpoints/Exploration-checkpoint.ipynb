{
 "cells": [
  {
   "cell_type": "code",
   "execution_count": 1,
   "id": "22455e16",
   "metadata": {},
   "outputs": [],
   "source": [
    "import tensorflow.keras as keras\n",
    "from tensorflow.keras.callbacks import ModelCheckpoint, EarlyStopping\n",
    "import numpy as np\n",
    "from tqdm import tqdm\n",
    "from scipy.stats import multivariate_normal\n",
    "\n",
    "(X_train, y_train), (X_test, y_test) = keras.datasets.cifar10.load_data()\n",
    "y_train, y_test = y_train[:, 0], y_test[:, 0]"
   ]
  },
  {
   "cell_type": "code",
   "execution_count": 2,
   "id": "8196eb5e",
   "metadata": {},
   "outputs": [],
   "source": [
    "#random_indices = np.random.choice(range(len(y_train)), 10000, replace = False)\n",
    "#X_train, y_train = X_train[random_indices], y_train[random_indices]\n",
    "#indices_of_subclasses = np.where(y_train < 5)[0]\n",
    "#X_train, y_train = X_train[indices_of_subclasses], y_train[indices_of_subclasses]\n",
    "\n",
    "#random_indices = np.random.choice(range(len(y_test)), 1000, replace = False)\n",
    "#X_train, y_train = X_train[random_indices], y_train[random_indices]\n",
    "#random_indices = np.random.choice(range(len(y_test)), 500, replace = False)\n",
    "#X_test, y_test = X_test[random_indices], y_test[random_indices]\n",
    "#indices_of_subclasses = np.where(y_test < 5)[0]\n",
    "#X_test, y_test = X_test[indices_of_subclasses], y_test[indices_of_subclasses]"
   ]
  },
  {
   "cell_type": "code",
   "execution_count": 3,
   "id": "ca71a0e9",
   "metadata": {},
   "outputs": [
    {
     "name": "stdout",
     "output_type": "stream",
     "text": [
      "Epoch 1/100\n",
      "1407/1407 [==============================] - 11s 6ms/step - loss: 1.5104 - acc: 0.4768 - val_loss: 1.1850 - val_acc: 0.5862\n",
      "Epoch 2/100\n",
      "1407/1407 [==============================] - 8s 6ms/step - loss: 1.1203 - acc: 0.6040 - val_loss: 0.9683 - val_acc: 0.6704\n",
      "Epoch 3/100\n",
      "1407/1407 [==============================] - 8s 6ms/step - loss: 0.9573 - acc: 0.6622 - val_loss: 0.9859 - val_acc: 0.6538\n",
      "Epoch 4/100\n",
      "1407/1407 [==============================] - 8s 6ms/step - loss: 0.8400 - acc: 0.7077 - val_loss: 0.8285 - val_acc: 0.7280\n",
      "Epoch 5/100\n",
      "1407/1407 [==============================] - 8s 6ms/step - loss: 0.7361 - acc: 0.7420 - val_loss: 0.8045 - val_acc: 0.7278\n",
      "Epoch 6/100\n",
      "1407/1407 [==============================] - 8s 6ms/step - loss: 0.6561 - acc: 0.7699 - val_loss: 0.8604 - val_acc: 0.7106\n",
      "Epoch 7/100\n",
      "1407/1407 [==============================] - 8s 6ms/step - loss: 0.5847 - acc: 0.7927 - val_loss: 0.8365 - val_acc: 0.7258\n",
      "Epoch 8/100\n",
      "1407/1407 [==============================] - 8s 6ms/step - loss: 0.5193 - acc: 0.8169 - val_loss: 0.8727 - val_acc: 0.7254\n",
      "Epoch 9/100\n",
      "1407/1407 [==============================] - 8s 6ms/step - loss: 0.4598 - acc: 0.8372 - val_loss: 0.7972 - val_acc: 0.7402\n",
      "Epoch 10/100\n",
      "1407/1407 [==============================] - 8s 6ms/step - loss: 0.4130 - acc: 0.8552 - val_loss: 0.7422 - val_acc: 0.7594\n",
      "Epoch 11/100\n",
      "1407/1407 [==============================] - 8s 6ms/step - loss: 0.3768 - acc: 0.8662 - val_loss: 0.7323 - val_acc: 0.7732\n",
      "Epoch 12/100\n",
      "1407/1407 [==============================] - 8s 6ms/step - loss: 0.3403 - acc: 0.8798 - val_loss: 0.8124 - val_acc: 0.7602\n",
      "Epoch 13/100\n",
      "1407/1407 [==============================] - 8s 6ms/step - loss: 0.3129 - acc: 0.8903 - val_loss: 0.8236 - val_acc: 0.7516\n",
      "Epoch 14/100\n",
      "1407/1407 [==============================] - 8s 6ms/step - loss: 0.2843 - acc: 0.8989 - val_loss: 0.8286 - val_acc: 0.7642\n",
      "Epoch 15/100\n",
      "1407/1407 [==============================] - 8s 6ms/step - loss: 0.2643 - acc: 0.9072 - val_loss: 0.8431 - val_acc: 0.7636\n",
      "Epoch 16/100\n",
      "1407/1407 [==============================] - 8s 6ms/step - loss: 0.2502 - acc: 0.9110 - val_loss: 0.8505 - val_acc: 0.7566\n",
      "Epoch 17/100\n",
      "1407/1407 [==============================] - 8s 6ms/step - loss: 0.2316 - acc: 0.9188 - val_loss: 0.9194 - val_acc: 0.7568\n",
      "Epoch 18/100\n",
      "1407/1407 [==============================] - 8s 6ms/step - loss: 0.2239 - acc: 0.9217 - val_loss: 0.8277 - val_acc: 0.7702\n",
      "Epoch 19/100\n",
      "1407/1407 [==============================] - 8s 6ms/step - loss: 0.2062 - acc: 0.9266 - val_loss: 0.9933 - val_acc: 0.7354\n",
      "Epoch 20/100\n",
      "1407/1407 [==============================] - 8s 6ms/step - loss: 0.1969 - acc: 0.9313 - val_loss: 0.9510 - val_acc: 0.7384\n",
      "Epoch 21/100\n",
      "1407/1407 [==============================] - 8s 6ms/step - loss: 0.1899 - acc: 0.9336 - val_loss: 0.9548 - val_acc: 0.7452\n",
      "Epoch 22/100\n",
      "1407/1407 [==============================] - 8s 6ms/step - loss: 0.1776 - acc: 0.9379 - val_loss: 0.9207 - val_acc: 0.7656\n",
      "Epoch 23/100\n",
      "1407/1407 [==============================] - 8s 6ms/step - loss: 0.1752 - acc: 0.9383 - val_loss: 0.8871 - val_acc: 0.7644\n",
      "Epoch 24/100\n",
      "1407/1407 [==============================] - 8s 6ms/step - loss: 0.1680 - acc: 0.9410 - val_loss: 0.9048 - val_acc: 0.7592\n",
      "Epoch 25/100\n",
      "1407/1407 [==============================] - 8s 6ms/step - loss: 0.1635 - acc: 0.9421 - val_loss: 0.9130 - val_acc: 0.7696\n",
      "Epoch 26/100\n",
      "1407/1407 [==============================] - 8s 6ms/step - loss: 0.1545 - acc: 0.9467 - val_loss: 0.8494 - val_acc: 0.7724\n",
      "Epoch 27/100\n",
      "1407/1407 [==============================] - 8s 6ms/step - loss: 0.1519 - acc: 0.9480 - val_loss: 0.9411 - val_acc: 0.7664\n",
      "Epoch 28/100\n",
      "1407/1407 [==============================] - 8s 6ms/step - loss: 0.1415 - acc: 0.9504 - val_loss: 0.9631 - val_acc: 0.7604\n",
      "Epoch 29/100\n",
      "1407/1407 [==============================] - 8s 6ms/step - loss: 0.1462 - acc: 0.9486 - val_loss: 0.9426 - val_acc: 0.7674\n",
      "Epoch 30/100\n",
      "1407/1407 [==============================] - 8s 6ms/step - loss: 0.1414 - acc: 0.9499 - val_loss: 0.9011 - val_acc: 0.7766\n",
      "Epoch 31/100\n",
      "1407/1407 [==============================] - 8s 6ms/step - loss: 0.1285 - acc: 0.9554 - val_loss: 0.9173 - val_acc: 0.7728\n",
      "Epoch 32/100\n",
      "1407/1407 [==============================] - 8s 6ms/step - loss: 0.1261 - acc: 0.9570 - val_loss: 0.9644 - val_acc: 0.7598\n",
      "Epoch 33/100\n",
      "1407/1407 [==============================] - 8s 6ms/step - loss: 0.1312 - acc: 0.9537 - val_loss: 1.1274 - val_acc: 0.7484\n",
      "Epoch 34/100\n",
      "1407/1407 [==============================] - 8s 6ms/step - loss: 0.1208 - acc: 0.9576 - val_loss: 1.0170 - val_acc: 0.7604\n",
      "Epoch 35/100\n",
      "1407/1407 [==============================] - 8s 6ms/step - loss: 0.1262 - acc: 0.9556 - val_loss: 1.0558 - val_acc: 0.7602\n",
      "Epoch 36/100\n",
      "1407/1407 [==============================] - 8s 6ms/step - loss: 0.1141 - acc: 0.9596 - val_loss: 1.3686 - val_acc: 0.7090\n",
      "Epoch 37/100\n",
      "1407/1407 [==============================] - 8s 6ms/step - loss: 0.1143 - acc: 0.9600 - val_loss: 0.9827 - val_acc: 0.7692\n",
      "Epoch 38/100\n",
      "1407/1407 [==============================] - 8s 6ms/step - loss: 0.1112 - acc: 0.9613 - val_loss: 0.9637 - val_acc: 0.7744\n",
      "Epoch 39/100\n",
      "1407/1407 [==============================] - 8s 6ms/step - loss: 0.1092 - acc: 0.9613 - val_loss: 1.0180 - val_acc: 0.7652\n",
      "Epoch 40/100\n",
      "1407/1407 [==============================] - 8s 6ms/step - loss: 0.1075 - acc: 0.9616 - val_loss: 1.0583 - val_acc: 0.7608\n",
      "Epoch 41/100\n",
      "1407/1407 [==============================] - 8s 6ms/step - loss: 0.1081 - acc: 0.9615 - val_loss: 1.0223 - val_acc: 0.7592\n",
      "Epoch 42/100\n",
      "1407/1407 [==============================] - 8s 6ms/step - loss: 0.1035 - acc: 0.9636 - val_loss: 0.9593 - val_acc: 0.7748\n",
      "Epoch 43/100\n",
      "1407/1407 [==============================] - 8s 6ms/step - loss: 0.1084 - acc: 0.9620 - val_loss: 0.9554 - val_acc: 0.7754\n",
      "Epoch 44/100\n",
      "1407/1407 [==============================] - 8s 6ms/step - loss: 0.1049 - acc: 0.9635 - val_loss: 0.9366 - val_acc: 0.7824\n",
      "Epoch 45/100\n",
      "1407/1407 [==============================] - 8s 6ms/step - loss: 0.0948 - acc: 0.9669 - val_loss: 1.0232 - val_acc: 0.7688\n",
      "Epoch 46/100\n",
      "1407/1407 [==============================] - 8s 6ms/step - loss: 0.0986 - acc: 0.9655 - val_loss: 0.9841 - val_acc: 0.7742\n",
      "Epoch 47/100\n",
      "1407/1407 [==============================] - 8s 6ms/step - loss: 0.0968 - acc: 0.9669 - val_loss: 1.0094 - val_acc: 0.7742\n",
      "Epoch 48/100\n",
      "1407/1407 [==============================] - 8s 6ms/step - loss: 0.0955 - acc: 0.9668 - val_loss: 1.0494 - val_acc: 0.7680\n",
      "Epoch 49/100\n",
      "1407/1407 [==============================] - 8s 6ms/step - loss: 0.0911 - acc: 0.9686 - val_loss: 1.0484 - val_acc: 0.7738\n",
      "Epoch 50/100\n",
      "1407/1407 [==============================] - 8s 6ms/step - loss: 0.0916 - acc: 0.9679 - val_loss: 1.0484 - val_acc: 0.7616\n",
      "Epoch 51/100\n",
      "1407/1407 [==============================] - 8s 6ms/step - loss: 0.0924 - acc: 0.9681 - val_loss: 0.9791 - val_acc: 0.7716\n",
      "Epoch 52/100\n",
      "1407/1407 [==============================] - 8s 6ms/step - loss: 0.0852 - acc: 0.9707 - val_loss: 1.0833 - val_acc: 0.7610\n",
      "Epoch 53/100\n",
      "1407/1407 [==============================] - 8s 6ms/step - loss: 0.0885 - acc: 0.9692 - val_loss: 1.0070 - val_acc: 0.7706\n",
      "Epoch 54/100\n",
      "1407/1407 [==============================] - 8s 6ms/step - loss: 0.0891 - acc: 0.9699 - val_loss: 0.9887 - val_acc: 0.7726\n",
      "Epoch 55/100\n",
      "1407/1407 [==============================] - 8s 6ms/step - loss: 0.0774 - acc: 0.9739 - val_loss: 1.0085 - val_acc: 0.7756\n",
      "Epoch 56/100\n",
      "1407/1407 [==============================] - 8s 6ms/step - loss: 0.0855 - acc: 0.9706 - val_loss: 1.1686 - val_acc: 0.7508\n",
      "Epoch 57/100\n",
      "1407/1407 [==============================] - 8s 6ms/step - loss: 0.0836 - acc: 0.9715 - val_loss: 1.0045 - val_acc: 0.7774\n",
      "Epoch 58/100\n",
      "1407/1407 [==============================] - 8s 6ms/step - loss: 0.0820 - acc: 0.9714 - val_loss: 1.0581 - val_acc: 0.7720\n",
      "Epoch 59/100\n",
      "1407/1407 [==============================] - 8s 6ms/step - loss: 0.0808 - acc: 0.9724 - val_loss: 1.0811 - val_acc: 0.7738\n",
      "Epoch 60/100\n",
      "1407/1407 [==============================] - 8s 6ms/step - loss: 0.0797 - acc: 0.9730 - val_loss: 1.0377 - val_acc: 0.7640\n",
      "Epoch 61/100\n"
     ]
    },
    {
     "name": "stdout",
     "output_type": "stream",
     "text": [
      "1407/1407 [==============================] - 8s 6ms/step - loss: 0.0831 - acc: 0.9710 - val_loss: 1.0947 - val_acc: 0.7724\n",
      "Epoch 62/100\n",
      "1407/1407 [==============================] - 8s 6ms/step - loss: 0.0747 - acc: 0.9746 - val_loss: 1.0709 - val_acc: 0.7722\n",
      "Epoch 63/100\n",
      "1407/1407 [==============================] - 8s 6ms/step - loss: 0.0733 - acc: 0.9741 - val_loss: 1.0294 - val_acc: 0.7758\n",
      "Epoch 64/100\n",
      "1407/1407 [==============================] - 8s 6ms/step - loss: 0.0781 - acc: 0.9729 - val_loss: 1.0369 - val_acc: 0.7682\n",
      "Epoch 65/100\n",
      "1407/1407 [==============================] - 8s 6ms/step - loss: 0.0757 - acc: 0.9736 - val_loss: 1.0393 - val_acc: 0.7720\n",
      "Epoch 66/100\n",
      "1407/1407 [==============================] - 8s 6ms/step - loss: 0.0766 - acc: 0.9726 - val_loss: 1.0553 - val_acc: 0.7708\n",
      "Epoch 67/100\n",
      "1407/1407 [==============================] - 8s 6ms/step - loss: 0.0732 - acc: 0.9745 - val_loss: 1.0299 - val_acc: 0.7778\n",
      "Epoch 68/100\n",
      "1407/1407 [==============================] - 8s 6ms/step - loss: 0.0715 - acc: 0.9755 - val_loss: 1.1453 - val_acc: 0.7566\n",
      "Epoch 69/100\n",
      "1407/1407 [==============================] - 8s 6ms/step - loss: 0.0674 - acc: 0.9769 - val_loss: 1.0237 - val_acc: 0.7750\n",
      "Epoch 70/100\n",
      "1407/1407 [==============================] - 8s 6ms/step - loss: 0.0737 - acc: 0.9741 - val_loss: 1.0623 - val_acc: 0.7730\n",
      "Epoch 71/100\n",
      "1407/1407 [==============================] - 8s 6ms/step - loss: 0.0662 - acc: 0.9767 - val_loss: 1.0491 - val_acc: 0.7734\n",
      "Epoch 72/100\n",
      "1407/1407 [==============================] - 8s 6ms/step - loss: 0.0713 - acc: 0.9753 - val_loss: 1.3753 - val_acc: 0.7370\n",
      "Epoch 73/100\n",
      "1407/1407 [==============================] - 8s 6ms/step - loss: 0.0683 - acc: 0.9767 - val_loss: 1.0424 - val_acc: 0.7750\n",
      "Epoch 74/100\n",
      "1407/1407 [==============================] - 8s 6ms/step - loss: 0.0708 - acc: 0.9754 - val_loss: 1.1108 - val_acc: 0.7700\n",
      "Epoch 75/100\n",
      "1407/1407 [==============================] - 8s 6ms/step - loss: 0.0642 - acc: 0.9773 - val_loss: 1.1426 - val_acc: 0.7642\n",
      "Epoch 76/100\n",
      "1407/1407 [==============================] - 8s 6ms/step - loss: 0.0692 - acc: 0.9761 - val_loss: 1.0770 - val_acc: 0.7692\n",
      "Epoch 77/100\n",
      "1407/1407 [==============================] - 8s 6ms/step - loss: 0.0655 - acc: 0.9772 - val_loss: 1.0551 - val_acc: 0.7788\n",
      "Epoch 78/100\n",
      "1407/1407 [==============================] - 8s 6ms/step - loss: 0.0639 - acc: 0.9786 - val_loss: 1.1590 - val_acc: 0.7696\n",
      "Epoch 79/100\n",
      "1407/1407 [==============================] - 8s 6ms/step - loss: 0.0639 - acc: 0.9791 - val_loss: 1.0105 - val_acc: 0.7858\n",
      "Epoch 80/100\n",
      "1407/1407 [==============================] - 8s 6ms/step - loss: 0.0646 - acc: 0.9776 - val_loss: 1.0566 - val_acc: 0.7746\n",
      "Epoch 81/100\n",
      "1407/1407 [==============================] - 8s 6ms/step - loss: 0.0645 - acc: 0.9775 - val_loss: 1.0732 - val_acc: 0.7752\n",
      "Epoch 82/100\n",
      "1407/1407 [==============================] - 8s 6ms/step - loss: 0.0609 - acc: 0.9798 - val_loss: 1.1161 - val_acc: 0.7632\n",
      "Epoch 83/100\n",
      "1407/1407 [==============================] - 8s 6ms/step - loss: 0.0609 - acc: 0.9790 - val_loss: 1.0894 - val_acc: 0.7732\n",
      "Epoch 84/100\n",
      "1407/1407 [==============================] - 8s 6ms/step - loss: 0.0636 - acc: 0.9783 - val_loss: 1.1285 - val_acc: 0.7736\n",
      "Epoch 85/100\n",
      "1407/1407 [==============================] - 8s 6ms/step - loss: 0.0570 - acc: 0.9805 - val_loss: 1.0766 - val_acc: 0.7810\n",
      "Epoch 86/100\n",
      "1407/1407 [==============================] - 8s 6ms/step - loss: 0.0608 - acc: 0.9795 - val_loss: 1.0987 - val_acc: 0.7792\n",
      "Epoch 87/100\n",
      "1407/1407 [==============================] - 8s 6ms/step - loss: 0.0618 - acc: 0.9786 - val_loss: 1.1182 - val_acc: 0.7706\n",
      "Epoch 88/100\n",
      "1407/1407 [==============================] - 8s 6ms/step - loss: 0.0599 - acc: 0.9796 - val_loss: 1.0690 - val_acc: 0.7788\n",
      "Epoch 89/100\n",
      "1407/1407 [==============================] - 8s 6ms/step - loss: 0.0569 - acc: 0.9804 - val_loss: 1.1146 - val_acc: 0.7746\n",
      "Epoch 90/100\n",
      "1407/1407 [==============================] - 8s 6ms/step - loss: 0.0536 - acc: 0.9814 - val_loss: 1.0665 - val_acc: 0.7798\n",
      "Epoch 91/100\n",
      "1407/1407 [==============================] - 8s 6ms/step - loss: 0.0550 - acc: 0.9811 - val_loss: 1.0695 - val_acc: 0.7796\n",
      "Epoch 92/100\n",
      "1407/1407 [==============================] - 8s 6ms/step - loss: 0.0569 - acc: 0.9810 - val_loss: 1.3930 - val_acc: 0.7364\n",
      "Epoch 93/100\n",
      "1407/1407 [==============================] - 8s 6ms/step - loss: 0.0585 - acc: 0.9805 - val_loss: 1.0921 - val_acc: 0.7720\n",
      "Epoch 94/100\n",
      "1407/1407 [==============================] - 8s 6ms/step - loss: 0.0557 - acc: 0.9817 - val_loss: 1.1310 - val_acc: 0.7672\n",
      "Epoch 95/100\n",
      "1407/1407 [==============================] - 8s 6ms/step - loss: 0.0530 - acc: 0.9817 - val_loss: 1.1154 - val_acc: 0.7706\n",
      "Epoch 96/100\n",
      "1407/1407 [==============================] - 8s 6ms/step - loss: 0.0542 - acc: 0.9809 - val_loss: 1.0467 - val_acc: 0.7882\n",
      "Epoch 97/100\n",
      "1407/1407 [==============================] - 8s 6ms/step - loss: 0.0551 - acc: 0.9815 - val_loss: 1.1636 - val_acc: 0.7716\n",
      "Epoch 98/100\n",
      "1407/1407 [==============================] - 8s 6ms/step - loss: 0.0542 - acc: 0.9815 - val_loss: 1.1085 - val_acc: 0.7776\n",
      "Epoch 99/100\n",
      "1407/1407 [==============================] - 8s 6ms/step - loss: 0.0540 - acc: 0.9817 - val_loss: 1.2443 - val_acc: 0.7686\n",
      "Epoch 100/100\n",
      "1407/1407 [==============================] - 8s 6ms/step - loss: 0.0537 - acc: 0.9818 - val_loss: 1.1119 - val_acc: 0.7720\n"
     ]
    },
    {
     "data": {
      "text/plain": [
       "<keras.callbacks.History at 0x7f53d87378b0>"
      ]
     },
     "execution_count": 3,
     "metadata": {},
     "output_type": "execute_result"
    }
   ],
   "source": [
    "'''\n",
    "from keras.applications.resnet import ResNet50\n",
    "encoder = ResNet50(include_top = False, input_shape = np.shape(X_train)[1:])\n",
    "encoding_X_train = encoder.predict(X_train)[:, 0, 0, :]\n",
    "encoding_X_test = encoder.predict(X_test)[:, 0, 0, :]\n",
    "inp = keras.layers.Input(np.shape(encoding_X_train)[1:])\n",
    "\n",
    "x = keras.layers.Dense(128, activation = 'relu')(inp)\n",
    "x = keras.layers.BatchNormalization()(x)\n",
    "x = keras.layers.Dense(128, activation = 'relu')(x)\n",
    "x = keras.layers.BatchNormalization()(x)\n",
    "x = keras.layers.Dense(128, activation = 'relu')(x)\n",
    "x = keras.layers.BatchNormalization()(x)\n",
    "cls_logits = keras.layers.Dense(units=len(np.unique(y_train)), activation = 'linear')(x)\n",
    "cls_out = keras.layers.Activation('softmax', name = 'cls_out')(cls_logits)\n",
    "\n",
    "network = keras.models.Model(inputs = inp, outputs = cls_out)\n",
    "network.compile(loss='categorical_crossentropy',\n",
    "          optimizer=keras.optimizers.Adam(learning_rate=3e-4),\n",
    "          metrics = ['acc'])\n",
    "network.fit(encoding_X_train, keras.utils.to_categorical(y_train), \n",
    "    epochs = 25,\n",
    "    verbose = 1,\n",
    "    validation_split = .1)\n",
    "'''\n",
    "#load and train model \n",
    "inp = keras.layers.Input(np.shape(X_train)[1:])\n",
    "\n",
    "x = keras.layers.Conv2D(filters=32, kernel_size=(3, 3), activation='relu')(inp)\n",
    "x = keras.layers.MaxPooling2D()(x)\n",
    "x = keras.layers.BatchNormalization()(x)\n",
    "x = keras.layers.Dropout(0.2)(x)\n",
    "x = keras.layers.Conv2D(filters=64, kernel_size=(3, 3), activation='relu')(x)\n",
    "x = keras.layers.MaxPooling2D()(x)\n",
    "x = keras.layers.BatchNormalization()(x)\n",
    "x = keras.layers.Dropout(0.2)(x)\n",
    "x = keras.layers.Flatten()(x)\n",
    "\n",
    "\n",
    "x = keras.layers.Dense(units=1024, activation='relu')(x)\n",
    "x = keras.layers.BatchNormalization()(x)\n",
    "x = keras.layers.Dropout(0.2)(x)\n",
    "x = keras.layers.Dense(units=512, activation='relu')(x)\n",
    "enc = keras.layers.BatchNormalization()(x)\n",
    "x = keras.layers.Dropout(0.2)(x)\n",
    "cls_logits = keras.layers.Dense(units=len(np.unique(y_train)), activation = 'linear')(enc)\n",
    "cls_out = keras.layers.Activation('softmax', name = 'cls_out')(cls_logits)\n",
    "\n",
    "network = keras.models.Model(inputs = inp, outputs = cls_out)\n",
    "encoder = keras.models.Model(inputs = inp, outputs = enc)\n",
    "network.compile(loss='categorical_crossentropy',\n",
    "          optimizer=keras.optimizers.Adam(learning_rate=3e-4),\n",
    "          metrics = ['acc'])\n",
    "network.fit(X_train, keras.utils.to_categorical(y_train), \n",
    "    epochs = 100,\n",
    "    verbose = 1,\n",
    "    validation_split = .1)"
   ]
  },
  {
   "cell_type": "code",
   "execution_count": 4,
   "id": "4eb6f360",
   "metadata": {},
   "outputs": [],
   "source": [
    "encoding_X_train = encoder.predict(X_train).reshape(X_train.shape[0], -1)\n",
    "encoding_X_test = encoder.predict(X_test).reshape(X_test.shape[0], -1)"
   ]
  },
  {
   "cell_type": "code",
   "execution_count": 5,
   "id": "b1b416d7",
   "metadata": {},
   "outputs": [],
   "source": [
    "class_means, class_95, class_100, class_105 = [], [], [], []\n",
    "for c in range(len(np.unique(y_train))):\n",
    "    examples_of_class = np.where(y_train == c)[0]\n",
    "    class_means.append(np.mean(encoding_X_train[examples_of_class], axis = 0))\n",
    "    class_95.append(np.percentile(np.sqrt(np.sum(encoding_X_train[examples_of_class] ** 2, axis = 1)), 95))\n",
    "    class_100.append(np.percentile(np.sqrt(np.sum(encoding_X_train[examples_of_class] ** 2, axis = 1)), 100))\n",
    "    class_105.append(class_100[-1] + (class_100[-1] - class_95[-1]))"
   ]
  },
  {
   "cell_type": "code",
   "execution_count": 159,
   "id": "ae6a42cd",
   "metadata": {},
   "outputs": [
    {
     "name": "stderr",
     "output_type": "stream",
     "text": [
      "100%|███████████████████████████████████████████████████████████████████████████████████████████████████████████████████████████████████████████████████████████████████████████████████████████████████████████████████████████████████████████| 10/10 [00:00<00:00, 14.51it/s]\n"
     ]
    }
   ],
   "source": [
    "from scipy.stats import multivariate_normal as mv\n",
    "vos_samples = []\n",
    "for c in tqdm(range(len(np.unique(y_train)))):\n",
    "    examples_of_class = np.where(y_train == c)[0]\n",
    "    vos_samples_of_class = mv.rvs(mean = 0, cov = 1, size = (int(len(examples_of_class) / 3), np.shape(encoding_X_train)[1]))\n",
    "    vos_samples_of_class = vos_samples_of_class / np.linalg.norm(vos_samples_of_class, axis =1)[:, np.newaxis]\n",
    "    magnitudes = np.random.uniform(class_95[c], class_105[c], size = len(vos_samples_of_class))\n",
    "    vos_samples_of_class = class_means[c] + vos_samples_of_class * class_105[c]#* magnitudes[:, np.newaxis]\n",
    "    vos_samples.extend(vos_samples_of_class)"
   ]
  },
  {
   "cell_type": "code",
   "execution_count": 160,
   "id": "d1703fb6",
   "metadata": {},
   "outputs": [],
   "source": [
    "ood_X_train = np.concatenate([encoding_X_train, vos_samples], axis = 0)\n",
    "ood_y_train = np.concatenate([keras.utils.to_categorical(y_train), np.ones((len(vos_samples), len(np.unique(y_train)))) / len(np.unique(y_train))])"
   ]
  },
  {
   "cell_type": "code",
   "execution_count": 161,
   "id": "32101551",
   "metadata": {},
   "outputs": [
    {
     "name": "stdout",
     "output_type": "stream",
     "text": [
      "Epoch 1/30\n",
      "1875/1875 [==============================] - 7s 3ms/step - loss: 1567.6945 - val_loss: 42.3173\n",
      "Epoch 2/30\n",
      "1875/1875 [==============================] - 6s 3ms/step - loss: 74.0113 - val_loss: 35.3236\n",
      "Epoch 3/30\n",
      "1875/1875 [==============================] - 6s 3ms/step - loss: 56.0045 - val_loss: 28.0177\n",
      "Epoch 4/30\n",
      "1875/1875 [==============================] - 6s 3ms/step - loss: 34.3625 - val_loss: 23.5703\n",
      "Epoch 5/30\n",
      "1875/1875 [==============================] - 6s 3ms/step - loss: 22.2798 - val_loss: 17.3852\n",
      "Epoch 6/30\n",
      "1875/1875 [==============================] - 6s 3ms/step - loss: 13.9903 - val_loss: 14.0071\n",
      "Epoch 7/30\n",
      "1875/1875 [==============================] - 6s 3ms/step - loss: 5.9524 - val_loss: 11.0353\n",
      "Epoch 8/30\n",
      "1875/1875 [==============================] - 6s 3ms/step - loss: 3.5281 - val_loss: 9.5265\n",
      "Epoch 9/30\n",
      "1875/1875 [==============================] - 6s 3ms/step - loss: 2.1527 - val_loss: 7.6051\n",
      "Epoch 10/30\n",
      "1875/1875 [==============================] - 6s 3ms/step - loss: 1.5610 - val_loss: 6.0843\n",
      "Epoch 11/30\n",
      "1875/1875 [==============================] - 6s 3ms/step - loss: 1.1565 - val_loss: 4.9807\n",
      "Epoch 12/30\n",
      "1875/1875 [==============================] - 6s 3ms/step - loss: 0.9337 - val_loss: 4.2387\n",
      "Epoch 13/30\n",
      "1875/1875 [==============================] - 6s 3ms/step - loss: 0.8295 - val_loss: 3.8130\n",
      "Epoch 14/30\n",
      "1875/1875 [==============================] - 6s 3ms/step - loss: 0.7652 - val_loss: 3.4491\n",
      "Epoch 15/30\n",
      "1875/1875 [==============================] - 6s 3ms/step - loss: 0.7092 - val_loss: 3.1942\n",
      "Epoch 16/30\n",
      "1875/1875 [==============================] - 6s 3ms/step - loss: 0.6705 - val_loss: 3.0933\n",
      "Epoch 17/30\n",
      "1875/1875 [==============================] - 6s 3ms/step - loss: 0.6536 - val_loss: 3.0612\n",
      "Epoch 18/30\n",
      "1875/1875 [==============================] - 6s 3ms/step - loss: 0.6368 - val_loss: 3.0167\n",
      "Epoch 19/30\n",
      "1875/1875 [==============================] - 6s 3ms/step - loss: 0.6294 - val_loss: 3.0018\n",
      "Epoch 20/30\n",
      "1875/1875 [==============================] - 6s 3ms/step - loss: 0.6197 - val_loss: 3.0135\n",
      "Epoch 21/30\n",
      "1875/1875 [==============================] - 6s 3ms/step - loss: 0.6166 - val_loss: 3.0132\n",
      "Epoch 22/30\n",
      "1875/1875 [==============================] - 6s 3ms/step - loss: 0.6103 - val_loss: 3.0233\n",
      "Epoch 23/30\n",
      "1875/1875 [==============================] - 6s 3ms/step - loss: 0.6048 - val_loss: 3.0336\n",
      "Epoch 24/30\n",
      "1875/1875 [==============================] - 6s 3ms/step - loss: 0.5984 - val_loss: 2.9891\n",
      "Epoch 25/30\n",
      "1875/1875 [==============================] - 6s 3ms/step - loss: 0.5963 - val_loss: 2.9712\n",
      "Epoch 26/30\n",
      "1875/1875 [==============================] - 6s 3ms/step - loss: 0.5916 - val_loss: 2.9865\n",
      "Epoch 27/30\n",
      "1875/1875 [==============================] - 6s 3ms/step - loss: 0.5880 - val_loss: 2.9673\n",
      "Epoch 28/30\n",
      "1875/1875 [==============================] - 6s 3ms/step - loss: 0.5863 - val_loss: 2.9620\n",
      "Epoch 29/30\n",
      "1875/1875 [==============================] - 6s 3ms/step - loss: 0.5832 - val_loss: 2.9496\n",
      "Epoch 30/30\n",
      "1875/1875 [==============================] - 6s 3ms/step - loss: 0.5799 - val_loss: 2.9107\n"
     ]
    },
    {
     "data": {
      "text/plain": [
       "<keras.callbacks.History at 0x7f53106ab3a0>"
      ]
     },
     "execution_count": 161,
     "metadata": {},
     "output_type": "execute_result"
    }
   ],
   "source": [
    "import tensorflow as tf\n",
    "x = keras.layers.Dense(100, activation = 'relu')(enc)\n",
    "x = keras.layers.Dropout(0.5)(x)\n",
    "x = keras.layers.BatchNormalization()(x)\n",
    "pre_temperature = keras.layers.Dense(units = 1, activation = 'linear')(x)\n",
    "#custom loss. We want the temperature to be unbounded on the positive side (and therefore when the pretemperature is greater than 0, it's unbounded; \n",
    "#but we also need to make sure the temperature is never negative - so we don't get infinite logits. So we do an exponentially decaying activation on the negative side)\n",
    "temperature = keras.layers.Activation(lambda v : tf.where(v < 0, keras.activations.exponential(v), 1 + keras.activations.linear(v)))(pre_temperature)\n",
    "ood_cls_logits = keras.layers.Lambda(lambda inputs: inputs[0] / inputs[1])([cls_logits, temperature])\n",
    "ood_cls_out = keras.layers.Activation('softmax')(ood_cls_logits)\n",
    "\n",
    "temperature_model = keras.models.Model(inputs = enc, outputs = temperature)\n",
    "ood_network = keras.models.Model(inputs = enc, outputs = ood_cls_out)\n",
    "for layer in network.layers:\n",
    "    layer.trainable = False\n",
    "ood_network.compile(loss='categorical_crossentropy',\n",
    "          optimizer=keras.optimizers.Adam(learning_rate=3e-4))\n",
    "ood_network.fit(ood_X_train, ood_y_train, \n",
    "    epochs = 30,\n",
    "    verbose = 1,\n",
    "    validation_split = .1)"
   ]
  },
  {
   "cell_type": "code",
   "execution_count": 183,
   "id": "5159ade5",
   "metadata": {},
   "outputs": [
    {
     "name": "stdout",
     "output_type": "stream",
     "text": [
      "In Distribution Temperature:  2.2026253\n"
     ]
    }
   ],
   "source": [
    "t = temperature_model.predict(encoding_X_train)\n",
    "print(\"In Distribution Temperature: \", np.mean(t))"
   ]
  },
  {
   "cell_type": "code",
   "execution_count": 185,
   "id": "9d2629d1",
   "metadata": {},
   "outputs": [
    {
     "name": "stdout",
     "output_type": "stream",
     "text": [
      "OOD Temperature (we want this to be much higher than the in distribution temperature):  18.314945\n"
     ]
    }
   ],
   "source": [
    "t = temperature_model.predict(np.array(vos_samples))\n",
    "print(\"OOD Temperature (we want this to be much higher than the in distribution temperature): \", np.mean(t))"
   ]
  },
  {
   "cell_type": "code",
   "execution_count": 188,
   "id": "c8dc85f9",
   "metadata": {},
   "outputs": [
    {
     "name": "stdout",
     "output_type": "stream",
     "text": [
      "Temperature Deflated OOD Confidence Average (we want this to be really low):  0.36736196\n"
     ]
    }
   ],
   "source": [
    "pred = ood_network.predict(np.array(vos_samples))\n",
    "print(\"Temperature Deflated OOD Confidence Average (we want this to be really low): \", np.mean(np.max(pred, axis = 1)))"
   ]
  },
  {
   "cell_type": "code",
   "execution_count": 189,
   "id": "b0e7a979",
   "metadata": {},
   "outputs": [
    {
     "name": "stdout",
     "output_type": "stream",
     "text": [
      "Temperature Deflated In-Distribution Confidence Average:  0.9551377\n"
     ]
    }
   ],
   "source": [
    "pred = ood_network.predict(encoding_X_train)\n",
    "print(\"Temperature Deflated In-Distribution Confidence Average: \", np.mean(np.max(pred, axis = 1)))"
   ]
  },
  {
   "cell_type": "code",
   "execution_count": 190,
   "id": "f29c5b83",
   "metadata": {},
   "outputs": [
    {
     "name": "stdout",
     "output_type": "stream",
     "text": [
      "Unaffected Model OOD Confidence Average (this being high shows networks are overconfident OOD):  0.9480723\n"
     ]
    }
   ],
   "source": [
    "pred = keras.models.Model(inputs = enc, outputs = cls_out).predict(np.array(vos_samples))\n",
    "print(\"Unaffected Model OOD Confidence Average (this being high shows networks are overconfident OOD): \", np.mean(np.max(pred, axis = 1)))"
   ]
  },
  {
   "cell_type": "code",
   "execution_count": 191,
   "id": "fbe9795c",
   "metadata": {},
   "outputs": [
    {
     "name": "stdout",
     "output_type": "stream",
     "text": [
      "Unaffected Model In-Distribution Confidence Average:  0.9906954\n"
     ]
    }
   ],
   "source": [
    "pred = network.predict(X_train)\n",
    "print(\"Unaffected Model In-Distribution Confidence Average: \", np.mean(np.max(pred, axis = 1)))"
   ]
  },
  {
   "cell_type": "code",
   "execution_count": 192,
   "id": "3a516436",
   "metadata": {},
   "outputs": [],
   "source": [
    "def get_ece(confidences, correctness):\n",
    "    hists = []\n",
    "    hists_hat = []\n",
    "    amts = []\n",
    "    num_bins = 100\n",
    "    for i in range(num_bins):\n",
    "        prop = i*1./num_bins\n",
    "        inds = np.where((confidences >= prop) & (confidences <= prop+1./num_bins))[0]\n",
    "        amts.append(len(inds))\n",
    "        if len(inds) > 0:\n",
    "            hists.append(len(np.where(correctness[inds] == 1)[0])*1./len(inds))\n",
    "            hists_hat.append(np.mean(confidences[inds]))\n",
    "        else:\n",
    "            hists.append(prop)\n",
    "            hists_hat.append(prop + 0.5/num_bins)\n",
    "    return np.sum(np.abs(np.array(hists) - np.array(hists_hat)) * np.array(amts)) / np.sum(amts)"
   ]
  },
  {
   "cell_type": "code",
   "execution_count": 193,
   "id": "51ac62ce",
   "metadata": {},
   "outputs": [
    {
     "name": "stdout",
     "output_type": "stream",
     "text": [
      "0.8422910368552128\n"
     ]
    },
    {
     "data": {
      "text/plain": [
       "0.03537729550633123"
      ]
     },
     "execution_count": 193,
     "metadata": {},
     "output_type": "execute_result"
    }
   ],
   "source": [
    "from sklearn.metrics import roc_auc_score, accuracy_score\n",
    "pred = network.predict(X_test)\n",
    "\n",
    "print(roc_auc_score(np.argmax(pred, axis = 1) == y_test, np.max(pred, axis = 1)))\n",
    "class_eces = []\n",
    "for j in range(len(np.unique(y_train))):\n",
    "    class_eces.append(get_ece(np.array(pred)[:, j], y_test == j))\n",
    "np.mean(class_eces)"
   ]
  },
  {
   "cell_type": "code",
   "execution_count": 194,
   "id": "1af5916f",
   "metadata": {},
   "outputs": [
    {
     "name": "stdout",
     "output_type": "stream",
     "text": [
      "0.8437897588946405\n"
     ]
    },
    {
     "data": {
      "text/plain": [
       "0.019492671695147873"
      ]
     },
     "execution_count": 194,
     "metadata": {},
     "output_type": "execute_result"
    }
   ],
   "source": [
    "pred = ood_network.predict(encoding_X_test)\n",
    "print(roc_auc_score(np.argmax(pred, axis = 1) == y_test, np.max(pred, axis = 1)))\n",
    "class_eces = []\n",
    "for j in range(len(np.unique(y_train))):\n",
    "    class_eces.append(get_ece(np.array(pred)[:, j], y_test == j))\n",
    "np.mean(class_eces)"
   ]
  },
  {
   "cell_type": "code",
   "execution_count": 195,
   "id": "9f39a436",
   "metadata": {},
   "outputs": [],
   "source": [
    "ood_scores_test = temperature_model.predict(encoding_X_test)[:, 0]"
   ]
  },
  {
   "cell_type": "code",
   "execution_count": 196,
   "id": "f2ddc875",
   "metadata": {},
   "outputs": [],
   "source": [
    "model_predictions = network.predict(X_test)\n",
    "ood_model_predictions = ood_network.predict(encoding_X_test)"
   ]
  },
  {
   "cell_type": "code",
   "execution_count": 197,
   "id": "576460f2",
   "metadata": {},
   "outputs": [],
   "source": [
    "num_intervals = 20"
   ]
  },
  {
   "cell_type": "code",
   "execution_count": 198,
   "id": "6a67deda",
   "metadata": {},
   "outputs": [],
   "source": [
    "#z_scores = p_label_error / (variance_confidences + 1e-12)\n",
    "from sklearn.metrics import average_precision_score\n",
    "order = np.argsort(ood_scores_test)[::-1]\n",
    "ps = []\n",
    "accs = []\n",
    "base_eces = []\n",
    "ood_model_eces = []\n",
    "\n",
    "for i in range(0, len(y_test), int(len(y_test) / num_intervals)):\n",
    "    class_eces = []\n",
    "    for j in range(len(np.unique(y_train))):\n",
    "        class_eces.append(get_ece(np.array(model_predictions)[order[:i + int(len(y_test) / num_intervals)], j], (y_test[order[:i + int(len(y_test) / num_intervals)]] == j)))\n",
    "    base_eces.append(np.median(class_eces))\n",
    "\n",
    "    class_eces = []\n",
    "    for j in range(len(np.unique(y_train))):\n",
    "        class_eces.append(get_ece(np.array(ood_model_predictions)[order[:i + int(len(y_test) / num_intervals)], j], (y_test[order[:i + int(len(y_test) / num_intervals)]] == j)))\n",
    "    ood_model_eces.append(np.median(class_eces))"
   ]
  },
  {
   "cell_type": "code",
   "execution_count": 199,
   "id": "7f0f7685",
   "metadata": {},
   "outputs": [
    {
     "data": {
      "text/plain": [
       "<matplotlib.legend.Legend at 0x7f5310f43d90>"
      ]
     },
     "execution_count": 199,
     "metadata": {},
     "output_type": "execute_result"
    },
    {
     "data": {
      "image/png": "[encoded data removed]",
      "text/plain": [
       "<Figure size 432x288 with 1 Axes>"
      ]
     },
     "metadata": {
      "needs_background": "light"
     },
     "output_type": "display_data"
    }
   ],
   "source": [
    "import matplotlib.pyplot as plt\n",
    "#plt.plot(ood_scores_test[order[np.arange(0, len(y_test), int(len(y_test) / num_intervals))]], base_eces, label = \"Unchanged Model\")\n",
    "plt.plot(np.arange(0, len(y_test), int(len(y_test) / num_intervals)) / len(y_test), base_eces, label = \"Unchanged Model\")\n",
    "#plt.plot(ood_scores_test[order[np.arange(0, len(y_test), int(len(y_test) / num_intervals))]], ood_model_eces, label = \"Penultimate-Dependent Temperature Deflation Model\")\n",
    "plt.plot(np.arange(0, len(y_test), int(len(y_test) / num_intervals)) / len(y_test), ood_model_eces, label = \"Penultimate-Dependent Temperature Deflation Model\")\n",
    "plt.xlabel(\"In-Distribution Score (Inverse Temperature)\")\n",
    "plt.ylabel(\"ECE Of Accepted Points\")\n",
    "plt.legend()"
   ]
  },
  {
   "cell_type": "markdown",
   "id": "bf43413d",
   "metadata": {},
   "source": [
    "The blue line decreasing shows that we can measure when the model has low ECE (when the temperature is high - or inverse temperature is low)\n",
    "\n",
    "The orange line being lower shows that this penultimate-dependent temperature lowers ECE, which is potentially lowered even further by training to uniform confidence on the Virtual Outliers"
   ]
  }
 ],
 "metadata": {
  "kernelspec": {
   "display_name": "Environment (conda_tensorflow2_p38)",
   "language": "python",
   "name": "conda_tensorflow2_p38"
  },
  "language_info": {
   "codemirror_mode": {
    "name": "ipython",
    "version": 3
   },
   "file_extension": ".py",
   "mimetype": "text/x-python",
   "name": "python",
   "nbconvert_exporter": "python",
   "pygments_lexer": "ipython3",
   "version": "3.8.12"
  }
 },
 "nbformat": 4,
 "nbformat_minor": 5
}
