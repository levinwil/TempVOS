{
 "cells": [
  {
   "cell_type": "code",
   "execution_count": 1,
   "id": "b85c6c2a",
   "metadata": {},
   "outputs": [],
   "source": [
    "import tensorflow.keras as keras\n",
    "from tensorflow.keras.callbacks import ModelCheckpoint, EarlyStopping\n",
    "import numpy as np\n",
    "from tqdm import tqdm\n",
    "from scipy.stats import multivariate_normal\n",
    "\n",
    "(X_train, y_train), (X_test, y_test) = keras.datasets.cifar10.load_data()\n",
    "y_train, y_test = y_train[:, 0], y_test[:, 0]"
   ]
  },
  {
   "cell_type": "code",
   "execution_count": 67,
   "id": "ec3941f1",
   "metadata": {},
   "outputs": [
    {
     "name": "stderr",
     "output_type": "stream",
     "text": [
      "100%|██████████████████████████████████████████████████████████████████████████████████████████████████████████████████████████████████████████████████████████████████████████████████████████████████████████████████████████████████████| 1000/1000 [00:01<00:00, 988.86it/s]\n"
     ]
    }
   ],
   "source": [
    "from skimage.transform import resize\n",
    "(X_ood, _), _ = keras.datasets.mnist.load_data()\n",
    "\n",
    "X_ood = X_ood[np.random.choice(range(len(X_ood)), 1000)]\n",
    "\n",
    "_X_ood = np.zeros((len(X_ood), 28, 28, 3))\n",
    "\n",
    "for k in range(3):\n",
    "    _X_ood[:, :, :, k] = X_ood\n",
    "\n",
    "X_ood = np.array([resize(_X_ood[i], (32, 32)) for i in tqdm(range(len(X_ood)))])"
   ]
  },
  {
   "cell_type": "code",
   "execution_count": 4,
   "id": "d66b6d52",
   "metadata": {},
   "outputs": [],
   "source": [
    "#random_indices = np.random.choice(range(len(y_train)), 10000, replace = False)\n",
    "#X_train, y_train = X_train[random_indices], y_train[random_indices]\n",
    "#indices_of_ood_subclasses = np.where(y_train >= 5)[0]\n",
    "#X_ood = X_train[indices_of_ood_subclasses]\n",
    "\n",
    "indices_of_subclasses = np.where(y_train < 5)[0]\n",
    "X_train, y_train = X_train[indices_of_subclasses], y_train[indices_of_subclasses]\n",
    "\n",
    "#random_indices = np.random.choice(range(len(y_test)), 1000, replace = False)\n",
    "#X_train, y_train = X_train[random_indices], y_train[random_indices]\n",
    "#random_indices = np.random.choice(range(len(y_test)), 500, replace = False)\n",
    "#X_test, y_test = X_test[random_indices], y_test[random_indices]\n",
    "indices_of_subclasses = np.where(y_test < 2)[0]\n",
    "X_test, y_test = X_test[indices_of_subclasses], y_test[indices_of_subclasses]"
   ]
  },
  {
   "cell_type": "code",
   "execution_count": 28,
   "id": "ffebc8b1",
   "metadata": {},
   "outputs": [
    {
     "name": "stdout",
     "output_type": "stream",
     "text": [
      "Epoch 1/15\n",
      "704/704 [==============================] - 4s 5ms/step - loss: 1.0927 - acc: 0.6111 - val_loss: 0.8654 - val_acc: 0.6692\n",
      "Epoch 2/15\n",
      "704/704 [==============================] - 3s 4ms/step - loss: 0.7503 - acc: 0.7191 - val_loss: 0.8195 - val_acc: 0.6960\n",
      "Epoch 3/15\n",
      "704/704 [==============================] - 3s 4ms/step - loss: 0.5941 - acc: 0.7747 - val_loss: 0.8788 - val_acc: 0.6804\n",
      "Epoch 4/15\n",
      "704/704 [==============================] - 3s 4ms/step - loss: 0.4967 - acc: 0.8111 - val_loss: 0.6379 - val_acc: 0.7888\n",
      "Epoch 5/15\n",
      "704/704 [==============================] - 3s 4ms/step - loss: 0.4185 - acc: 0.8438 - val_loss: 0.8784 - val_acc: 0.7192\n",
      "Epoch 6/15\n",
      "704/704 [==============================] - 3s 4ms/step - loss: 0.3526 - acc: 0.8684 - val_loss: 0.6310 - val_acc: 0.7928\n",
      "Epoch 7/15\n",
      "704/704 [==============================] - 3s 5ms/step - loss: 0.2956 - acc: 0.8903 - val_loss: 0.7183 - val_acc: 0.7820\n",
      "Epoch 8/15\n",
      "704/704 [==============================] - 3s 5ms/step - loss: 0.2432 - acc: 0.9128 - val_loss: 0.5907 - val_acc: 0.8148\n",
      "Epoch 9/15\n",
      "704/704 [==============================] - 3s 4ms/step - loss: 0.2039 - acc: 0.9269 - val_loss: 0.8889 - val_acc: 0.7496\n",
      "Epoch 10/15\n",
      "704/704 [==============================] - 3s 4ms/step - loss: 0.1622 - acc: 0.9424 - val_loss: 0.6777 - val_acc: 0.8012\n",
      "Epoch 11/15\n",
      "704/704 [==============================] - 3s 4ms/step - loss: 0.1392 - acc: 0.9503 - val_loss: 0.8369 - val_acc: 0.7860\n",
      "Epoch 12/15\n",
      "704/704 [==============================] - 3s 4ms/step - loss: 0.1243 - acc: 0.9573 - val_loss: 0.7048 - val_acc: 0.8112\n",
      "Epoch 13/15\n",
      "704/704 [==============================] - 3s 4ms/step - loss: 0.1071 - acc: 0.9636 - val_loss: 0.7654 - val_acc: 0.8036\n",
      "Epoch 14/15\n",
      "704/704 [==============================] - 3s 4ms/step - loss: 0.0964 - acc: 0.9679 - val_loss: 0.8049 - val_acc: 0.8092\n",
      "Epoch 15/15\n",
      "704/704 [==============================] - 3s 4ms/step - loss: 0.0861 - acc: 0.9716 - val_loss: 0.8697 - val_acc: 0.7900\n"
     ]
    },
    {
     "data": {
      "text/plain": [
       "<keras.callbacks.History at 0x7fd7ec3065b0>"
      ]
     },
     "execution_count": 28,
     "metadata": {},
     "output_type": "execute_result"
    }
   ],
   "source": [
    "'''\n",
    "from keras.applications.resnet import ResNet50\n",
    "encoder = ResNet50(include_top = False, input_shape = np.shape(X_train)[1:])\n",
    "encoding_X_train = encoder.predict(X_train)[:, 0, 0, :]\n",
    "encoding_X_test = encoder.predict(X_test)[:, 0, 0, :]\n",
    "inp = keras.layers.Input(np.shape(encoding_X_train)[1:])\n",
    "\n",
    "x = keras.layers.Dense(128, activation = 'relu')(inp)\n",
    "x = keras.layers.BatchNormalization()(x)\n",
    "x = keras.layers.Dense(128, activation = 'relu')(x)\n",
    "x = keras.layers.BatchNormalization()(x)\n",
    "x = keras.layers.Dense(128, activation = 'relu')(x)\n",
    "x = keras.layers.BatchNormalization()(x)\n",
    "cls_logits = keras.layers.Dense(units=len(np.unique(y_train)), activation = 'linear')(x)\n",
    "cls_out = keras.layers.Activation('softmax', name = 'cls_out')(cls_logits)\n",
    "\n",
    "network = keras.models.Model(inputs = inp, outputs = cls_out)\n",
    "network.compile(loss='categorical_crossentropy',\n",
    "          optimizer=keras.optimizers.Adam(learning_rate=3e-4),\n",
    "          metrics = ['acc'])\n",
    "network.fit(encoding_X_train, keras.utils.to_categorical(y_train), \n",
    "    epochs = 25,\n",
    "    verbose = 1,\n",
    "    validation_split = .1)\n",
    "'''\n",
    "#load and train model \n",
    "inp = keras.layers.Input(np.shape(X_train)[1:])\n",
    "\n",
    "x = keras.layers.Conv2D(filters=32, kernel_size=(3, 3), activation='relu')(inp)\n",
    "x = keras.layers.MaxPooling2D()(x)\n",
    "x = keras.layers.BatchNormalization()(x)\n",
    "x = keras.layers.Dropout(0.2)(x)\n",
    "x = keras.layers.Conv2D(filters=64, kernel_size=(3, 3), activation='relu')(x)\n",
    "x = keras.layers.MaxPooling2D()(x)\n",
    "x = keras.layers.BatchNormalization()(x)\n",
    "x = keras.layers.Dropout(0.2)(x)\n",
    "x = keras.layers.Flatten()(x)\n",
    "\n",
    "\n",
    "enc = keras.layers.Dense(units=1024, activation='relu')(x)\n",
    "x = keras.layers.BatchNormalization()(x)\n",
    "x = keras.layers.Dropout(0.2)(x)\n",
    "x = keras.layers.Dense(units=512, activation='relu')(x)\n",
    "x = keras.layers.BatchNormalization()(x)\n",
    "x = keras.layers.Dropout(0.2)(x)\n",
    "cls_logits = keras.layers.Dense(units=len(np.unique(y_train)), activation = 'linear')(enc)\n",
    "cls_out = keras.layers.Activation('softmax', name = 'cls_out')(cls_logits)\n",
    "\n",
    "network = keras.models.Model(inputs = inp, outputs = cls_out)\n",
    "encoder = keras.models.Model(inputs = inp, outputs = enc)\n",
    "network.compile(loss='categorical_crossentropy',\n",
    "          optimizer=keras.optimizers.Adam(learning_rate=3e-4),\n",
    "          metrics = ['acc'])\n",
    "network.fit(X_train, keras.utils.to_categorical(y_train), \n",
    "    epochs = 15,\n",
    "    verbose = 1,\n",
    "    validation_split = .1)"
   ]
  },
  {
   "cell_type": "code",
   "execution_count": 68,
   "id": "77045302",
   "metadata": {},
   "outputs": [],
   "source": [
    "encoding_X_train = encoder.predict(X_train).reshape(X_train.shape[0], -1)\n",
    "encoding_X_test = encoder.predict(X_test).reshape(X_test.shape[0], -1)\n",
    "encoding_X_ood = encoder.predict(X_ood).reshape(X_ood.shape[0], -1)"
   ]
  },
  {
   "cell_type": "code",
   "execution_count": 93,
   "id": "ebd8e39b",
   "metadata": {},
   "outputs": [],
   "source": [
    "class_means, class_75, class_85 = [], [], []\n",
    "for c in range(len(np.unique(y_train))):\n",
    "    examples_of_class = np.where(y_train == c)[0]\n",
    "    class_means.append(np.mean(encoding_X_train[examples_of_class], axis = 0))\n",
    "    class_75.append(np.percentile(np.sqrt(np.sum(encoding_X_train[examples_of_class] ** 2, axis = 1)), 75))\n",
    "    class_85.append(np.percentile(np.sqrt(np.sum(encoding_X_train[examples_of_class] ** 2, axis = 1)), 95))"
   ]
  },
  {
   "cell_type": "code",
   "execution_count": 94,
   "id": "18f4006c",
   "metadata": {},
   "outputs": [
    {
     "name": "stderr",
     "output_type": "stream",
     "text": [
      "100%|█████████████████████████████████████████████████████████████████████████████████████████████████████████████████████████████████████████████████████████████████████████████████████████████████████████████████████████████████████████████| 5/5 [00:00<00:00,  7.98it/s]\n"
     ]
    }
   ],
   "source": [
    "from scipy.stats import multivariate_normal as mv\n",
    "vos_samples = []\n",
    "for c in tqdm(range(len(np.unique(y_train)))):\n",
    "    examples_of_class = np.where(y_train == c)[0]\n",
    "    vos_samples_of_class = mv.rvs(mean = 0, cov = 1, size = (int(len(examples_of_class) / 3), np.shape(encoding_X_train)[1]))\n",
    "    vos_samples_of_class = vos_samples_of_class / np.linalg.norm(vos_samples_of_class, axis =1)[:, np.newaxis]\n",
    "    magnitudes = np.random.uniform(class_75[c], class_85[c], size = len(vos_samples_of_class))\n",
    "    vos_samples_of_class = class_means[c] + vos_samples_of_class * magnitudes[:, np.newaxis]\n",
    "    vos_samples.extend(vos_samples_of_class)"
   ]
  },
  {
   "cell_type": "code",
   "execution_count": 95,
   "id": "179c31af",
   "metadata": {},
   "outputs": [],
   "source": [
    "ood_X_train = np.concatenate([encoding_X_train, vos_samples], axis = 0)\n",
    "ood_y_train = np.concatenate([keras.utils.to_categorical(y_train), np.ones((len(vos_samples), len(np.unique(y_train)))) / len(np.unique(y_train))])"
   ]
  },
  {
   "cell_type": "code",
   "execution_count": 96,
   "id": "1552deff",
   "metadata": {},
   "outputs": [
    {
     "name": "stdout",
     "output_type": "stream",
     "text": [
      "Epoch 1/10\n",
      "938/938 [==============================] - 5s 5ms/step - loss: 1.2373 - val_loss: 4.2617\n",
      "Epoch 2/10\n",
      "938/938 [==============================] - 4s 5ms/step - loss: 0.6133 - val_loss: 3.4030\n",
      "Epoch 3/10\n",
      "938/938 [==============================] - 4s 5ms/step - loss: 0.5299 - val_loss: 2.9228\n",
      "Epoch 4/10\n",
      "938/938 [==============================] - 4s 5ms/step - loss: 0.4873 - val_loss: 2.6707\n",
      "Epoch 5/10\n",
      "938/938 [==============================] - 4s 5ms/step - loss: 0.4636 - val_loss: 2.2784\n",
      "Epoch 6/10\n",
      "938/938 [==============================] - 4s 5ms/step - loss: 0.4458 - val_loss: 2.6184\n",
      "Epoch 7/10\n",
      "938/938 [==============================] - 4s 5ms/step - loss: 0.4284 - val_loss: 2.4416\n",
      "Epoch 8/10\n",
      "938/938 [==============================] - 4s 5ms/step - loss: 0.4119 - val_loss: 2.6638\n",
      "Epoch 9/10\n",
      "938/938 [==============================] - 4s 5ms/step - loss: 0.4100 - val_loss: 2.7082\n",
      "Epoch 10/10\n",
      "938/938 [==============================] - 4s 5ms/step - loss: 0.4064 - val_loss: 2.3963\n"
     ]
    },
    {
     "data": {
      "text/plain": [
       "<keras.callbacks.History at 0x7fd8816135b0>"
      ]
     },
     "execution_count": 96,
     "metadata": {},
     "output_type": "execute_result"
    }
   ],
   "source": [
    "import tensorflow as tf\n",
    "x = keras.layers.Dense(100, activation = 'relu')(enc)\n",
    "x = keras.layers.BatchNormalization()(x)\n",
    "x = keras.layers.Dense(100, activation = 'relu')(x)\n",
    "x = keras.layers.BatchNormalization()(x)\n",
    "x = keras.layers.Dense(100, activation = 'relu')(x)\n",
    "x = keras.layers.BatchNormalization()(x)\n",
    "pre_temperature = keras.layers.Dense(units = 1, activation = 'linear')(x)\n",
    "#temperature = keras.layers.Lambda(lambda v : keras.activations.sigmoid(v) * 10)(pre_temperature)\n",
    "#custom loss. We want the temperature to be unbounded on the positive side (and therefore when the pretemperature is greater than 0, it's unbounded; \n",
    "#but we also need to make sure the temperature is never negative - so we don't get infinite logits. So we do an exponentially decaying activation on the negative side)\n",
    "temperature = keras.layers.Activation(lambda v : tf.where(v < 0, keras.activations.exponential(v), 1 + keras.activations.linear(v)))(pre_temperature)\n",
    "ood_cls_logits = keras.layers.Lambda(lambda inputs: inputs[0] / inputs[1])([cls_logits, temperature])\n",
    "ood_cls_out = keras.layers.Activation('softmax')(ood_cls_logits)\n",
    "\n",
    "temperature_model = keras.models.Model(inputs = enc, outputs = temperature)\n",
    "ood_network = keras.models.Model(inputs = enc, outputs = ood_cls_out)\n",
    "for layer in network.layers:\n",
    "    layer.trainable = False\n",
    "ood_network.compile(loss='categorical_crossentropy',\n",
    "          optimizer=keras.optimizers.Adam(learning_rate=3e-4))\n",
    "ood_network.fit(ood_X_train, ood_y_train, \n",
    "    epochs = 10,\n",
    "    verbose = 1,\n",
    "    validation_split = .1)"
   ]
  },
  {
   "cell_type": "code",
   "execution_count": 97,
   "id": "d14e1275",
   "metadata": {},
   "outputs": [
    {
     "name": "stdout",
     "output_type": "stream",
     "text": [
      "In Distribution Temperature:  0.93109524\n"
     ]
    }
   ],
   "source": [
    "t = temperature_model.predict(encoding_X_train)\n",
    "print(\"In Distribution Temperature: \", np.mean(t))"
   ]
  },
  {
   "cell_type": "code",
   "execution_count": 98,
   "id": "8ec84bc2",
   "metadata": {},
   "outputs": [
    {
     "name": "stdout",
     "output_type": "stream",
     "text": [
      "VO Temperature (we want this to be much higher than the in distribution temperature):  17.959219\n"
     ]
    }
   ],
   "source": [
    "t = temperature_model.predict(np.array(vos_samples))\n",
    "print(\"VO Temperature (we want this to be much higher than the in distribution temperature): \", np.mean(t))"
   ]
  },
  {
   "cell_type": "code",
   "execution_count": 99,
   "id": "08444294",
   "metadata": {},
   "outputs": [
    {
     "name": "stdout",
     "output_type": "stream",
     "text": [
      "OOD Temperature (we want this to be much higher than the in distribution temperature):  5.6269636\n"
     ]
    }
   ],
   "source": [
    "t = temperature_model.predict(encoding_X_ood)\n",
    "print(\"OOD Temperature (we want this to be much higher than the in distribution temperature): \", np.mean(t))"
   ]
  },
  {
   "cell_type": "code",
   "execution_count": 100,
   "id": "b62dfdc4",
   "metadata": {},
   "outputs": [
    {
     "name": "stdout",
     "output_type": "stream",
     "text": [
      "Temperature Deflated VO Confidence Average (we want this to be really low):  0.4024846\n"
     ]
    }
   ],
   "source": [
    "pred = ood_network.predict(np.array(vos_samples))\n",
    "print(\"Temperature Deflated VO Confidence Average (we want this to be really low): \", np.mean(np.max(pred, axis = 1)))"
   ]
  },
  {
   "cell_type": "code",
   "execution_count": 101,
   "id": "8cac78be",
   "metadata": {},
   "outputs": [
    {
     "name": "stdout",
     "output_type": "stream",
     "text": [
      "Temperature Deflated OOD Confidence Average (we want this to be really low):  0.6227749\n"
     ]
    }
   ],
   "source": [
    "pred = ood_network.predict(encoding_X_ood)\n",
    "print(\"Temperature Deflated OOD Confidence Average (we want this to be really low): \", np.mean(np.max(pred, axis = 1)))"
   ]
  },
  {
   "cell_type": "code",
   "execution_count": 104,
   "id": "13608711",
   "metadata": {},
   "outputs": [
    {
     "name": "stdout",
     "output_type": "stream",
     "text": [
      "Temperature Deflated In-Distribution Confidence Average:  0.95910174\n"
     ]
    }
   ],
   "source": [
    "pred = ood_network.predict(encoding_X_train)\n",
    "print(\"Temperature Deflated In-Distribution Confidence Average: \", np.mean(np.max(pred, axis = 1)))"
   ]
  },
  {
   "cell_type": "code",
   "execution_count": 105,
   "id": "665f0c35",
   "metadata": {},
   "outputs": [
    {
     "name": "stdout",
     "output_type": "stream",
     "text": [
      "Unaffected Model VO Confidence Average (this being high shows networks are overconfident OOD):  0.9663527\n"
     ]
    }
   ],
   "source": [
    "pred = keras.models.Model(inputs = enc, outputs = cls_out).predict(np.array(vos_samples))\n",
    "print(\"Unaffected Model VO Confidence Average (this being high shows networks are overconfident OOD): \", np.mean(np.max(pred, axis = 1)))"
   ]
  },
  {
   "cell_type": "code",
   "execution_count": 106,
   "id": "502b92fd",
   "metadata": {},
   "outputs": [
    {
     "name": "stdout",
     "output_type": "stream",
     "text": [
      "Unaffected Model OOD Confidence Average (this being high shows networks are overconfident OOD):  0.9042527\n"
     ]
    }
   ],
   "source": [
    "pred = keras.models.Model(inputs = enc, outputs = cls_out).predict(encoding_X_ood)\n",
    "print(\"Unaffected Model OOD Confidence Average (this being high shows networks are overconfident OOD): \", np.mean(np.max(pred, axis = 1)))"
   ]
  },
  {
   "cell_type": "code",
   "execution_count": 107,
   "id": "ba489416",
   "metadata": {},
   "outputs": [
    {
     "name": "stdout",
     "output_type": "stream",
     "text": [
      "Unaffected Model In-Distribution Confidence Average:  0.9623608\n"
     ]
    }
   ],
   "source": [
    "pred = network.predict(X_train)\n",
    "print(\"Unaffected Model In-Distribution Confidence Average: \", np.mean(np.max(pred, axis = 1)))"
   ]
  },
  {
   "cell_type": "code",
   "execution_count": 108,
   "id": "4721482e",
   "metadata": {},
   "outputs": [],
   "source": [
    "def get_ece(confidences, correctness):\n",
    "    hists = []\n",
    "    hists_hat = []\n",
    "    amts = []\n",
    "    num_bins = 100\n",
    "    for i in range(num_bins):\n",
    "        prop = i*1./num_bins\n",
    "        inds = np.where((confidences >= prop) & (confidences <= prop+1./num_bins))[0]\n",
    "        amts.append(len(inds))\n",
    "        if len(inds) > 0:\n",
    "            hists.append(len(np.where(correctness[inds] == 1)[0])*1./len(inds))\n",
    "            hists_hat.append(np.mean(confidences[inds]))\n",
    "        else:\n",
    "            hists.append(prop)\n",
    "            hists_hat.append(prop + 0.5/num_bins)\n",
    "    return np.sum(np.abs(np.array(hists) - np.array(hists_hat)) * np.array(amts)) / np.sum(amts)"
   ]
  },
  {
   "cell_type": "code",
   "execution_count": 109,
   "id": "9267b3e3",
   "metadata": {},
   "outputs": [
    {
     "name": "stdout",
     "output_type": "stream",
     "text": [
      "0.8550207262477202\n"
     ]
    },
    {
     "data": {
      "text/plain": [
       "0.07486338872620836"
      ]
     },
     "execution_count": 109,
     "metadata": {},
     "output_type": "execute_result"
    }
   ],
   "source": [
    "from sklearn.metrics import roc_auc_score, accuracy_score\n",
    "pred = network.predict(X_test)\n",
    "\n",
    "print(roc_auc_score(np.argmax(pred, axis = 1) == y_test, np.max(pred, axis = 1)))\n",
    "class_eces = []\n",
    "for j in range(len(np.unique(y_train))):\n",
    "    class_eces.append(get_ece(np.array(pred)[:, j], y_test == j))\n",
    "np.mean(class_eces)"
   ]
  },
  {
   "cell_type": "code",
   "execution_count": 110,
   "id": "f29f381f",
   "metadata": {},
   "outputs": [
    {
     "name": "stdout",
     "output_type": "stream",
     "text": [
      "0.8186486486486486\n"
     ]
    },
    {
     "data": {
      "text/plain": [
       "0.07414199875756167"
      ]
     },
     "execution_count": 110,
     "metadata": {},
     "output_type": "execute_result"
    }
   ],
   "source": [
    "pred = ood_network.predict(encoding_X_test)\n",
    "print(roc_auc_score(np.argmax(pred, axis = 1) == y_test, np.max(pred, axis = 1)))\n",
    "class_eces = []\n",
    "for j in range(len(np.unique(y_train))):\n",
    "    class_eces.append(get_ece(np.array(pred)[:, j], y_test == j))\n",
    "np.mean(class_eces)"
   ]
  },
  {
   "cell_type": "code",
   "execution_count": 111,
   "id": "80e790b5",
   "metadata": {},
   "outputs": [],
   "source": [
    "ood_scores_test = temperature_model.predict(encoding_X_test)[:, 0]"
   ]
  },
  {
   "cell_type": "code",
   "execution_count": 112,
   "id": "6fd18848",
   "metadata": {},
   "outputs": [],
   "source": [
    "model_predictions = network.predict(X_test)\n",
    "ood_model_predictions = ood_network.predict(encoding_X_test)"
   ]
  },
  {
   "cell_type": "code",
   "execution_count": 113,
   "id": "09b8182f",
   "metadata": {},
   "outputs": [],
   "source": [
    "num_intervals = 5"
   ]
  },
  {
   "cell_type": "code",
   "execution_count": 121,
   "id": "ef87a41b",
   "metadata": {},
   "outputs": [],
   "source": [
    "#z_scores = p_label_error / (variance_confidences + 1e-12)\n",
    "from sklearn.metrics import average_precision_score\n",
    "order = np.argsort(ood_scores_test)\n",
    "ps = []\n",
    "accs = []\n",
    "base_eces = []\n",
    "ood_model_eces = []\n",
    "\n",
    "for i in range(0, len(y_test), int(len(y_test) / num_intervals)):\n",
    "    class_eces = []\n",
    "    for j in range(len(np.unique(y_train))):\n",
    "        class_eces.append(get_ece(np.array(model_predictions)[order[i:i + int(len(y_test) / num_intervals)], j], (y_test[order[i:i + int(len(y_test) / num_intervals)]] == j)))\n",
    "    base_eces.append(np.median(class_eces))\n",
    "\n",
    "    class_eces = []\n",
    "    for j in range(len(np.unique(y_train))):\n",
    "        class_eces.append(get_ece(np.array(ood_model_predictions)[order[i:i + int(len(y_test) / num_intervals)], j], (y_test[order[i:i + int(len(y_test) / num_intervals)]] == j)))\n",
    "    ood_model_eces.append(np.median(class_eces))"
   ]
  },
  {
   "cell_type": "code",
   "execution_count": 122,
   "id": "adc2ef4c",
   "metadata": {},
   "outputs": [
    {
     "data": {
      "text/plain": [
       "<matplotlib.legend.Legend at 0x7fd8812b31c0>"
      ]
     },
     "execution_count": 122,
     "metadata": {},
     "output_type": "execute_result"
    },
    {
     "data": {
      "image/png": "[encoded data removed]",
      "text/plain": [
       "<Figure size 432x288 with 1 Axes>"
      ]
     },
     "metadata": {
      "needs_background": "light"
     },
     "output_type": "display_data"
    }
   ],
   "source": [
    "import matplotlib.pyplot as plt\n",
    "#plt.plot(ood_scores_test[order[np.arange(0, len(y_test), int(len(y_test) / num_intervals))]], base_eces, label = \"Unchanged Model\")\n",
    "plt.plot(np.arange(0, len(y_test), int(len(y_test) / num_intervals)) / len(y_test), base_eces, label = \"Unchanged Model\")\n",
    "#plt.plot(ood_scores_test[order[np.arange(0, len(y_test), int(len(y_test) / num_intervals))]], ood_model_eces, label = \"Penultimate-Dependent Temperature Deflation Model\")\n",
    "#plt.plot(np.arange(0, len(y_test), int(len(y_test) / num_intervals)) / len(y_test), ood_model_eces, label = \"Penultimate-Dependent Temperature Deflation Model\")\n",
    "plt.xlabel(\"Temperature\")\n",
    "plt.ylabel(\"ECE Of Accepted Points\")\n",
    "plt.legend()"
   ]
  },
  {
   "cell_type": "markdown",
   "id": "bb4b054e",
   "metadata": {},
   "source": [
    "The blue line increasing shows that when temperature is high, ECE is high -> we can detect when we're miscalibrated (when we're OOD) and we know it by a high temperature. On this, we deflate confidence."
   ]
  },
  {
   "cell_type": "code",
   "execution_count": null,
   "id": "73f6f20f",
   "metadata": {},
   "outputs": [],
   "source": []
  }
 ],
 "metadata": {
  "kernelspec": {
   "display_name": "Environment (conda_tensorflow2_p38)",
   "language": "python",
   "name": "conda_tensorflow2_p38"
  },
  "language_info": {
   "codemirror_mode": {
    "name": "ipython",
    "version": 3
   },
   "file_extension": ".py",
   "mimetype": "text/x-python",
   "name": "python",
   "nbconvert_exporter": "python",
   "pygments_lexer": "ipython3",
   "version": "3.8.12"
  }
 },
 "nbformat": 4,
 "nbformat_minor": 5
}
