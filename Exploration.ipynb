{
 "cells": [
  {
   "cell_type": "code",
   "execution_count": 333,
   "id": "92ee4926",
   "metadata": {},
   "outputs": [],
   "source": [
    "import tensorflow.keras as keras\n",
    "from tensorflow.keras.callbacks import ModelCheckpoint, EarlyStopping\n",
    "import numpy as np\n",
    "from tqdm import tqdm\n",
    "from scipy.stats import multivariate_normal\n",
    "\n",
    "(X_train, y_train), (X_test, y_test) = keras.datasets.cifar10.load_data()\n",
    "y_train, y_test = y_train[:, 0], y_test[:, 0]"
   ]
  },
  {
   "cell_type": "code",
   "execution_count": 452,
   "id": "a04e9b45",
   "metadata": {},
   "outputs": [
    {
     "name": "stderr",
     "output_type": "stream",
     "text": [
      "100%|█████████████████████████████████████████████████████████████████████████████████████████████████████████████████████████████████████████████████████████████████████████████████████████████████████████████████████████████████████| 3000/3000 [00:02<00:00, 1002.91it/s]\n"
     ]
    },
    {
     "data": {
      "text/plain": [
       "'\\nindices_of_ood_subclasses = np.where(y_train >= 2)[0]\\nX_ood = X_train[indices_of_ood_subclasses]\\n'"
      ]
     },
     "execution_count": 452,
     "metadata": {},
     "output_type": "execute_result"
    }
   ],
   "source": [
    "from skimage.transform import resize\n",
    "(X_ood, _), _ = keras.datasets.mnist.load_data()\n",
    "\n",
    "X_ood = X_ood[np.random.choice(range(len(X_ood)), int(len(X_ood) / 20))]\n",
    "\n",
    "_X_ood = np.zeros((len(X_ood), 28, 28, 3))\n",
    "\n",
    "for k in range(3):\n",
    "    _X_ood[:, :, :, k] = X_ood\n",
    "\n",
    "X_ood = np.array([resize(_X_ood[i], (32, 32)) for i in tqdm(range(len(X_ood)))])\n",
    "'''\n",
    "indices_of_ood_subclasses = np.where(y_train >= 2)[0]\n",
    "X_ood = X_train[indices_of_ood_subclasses]\n",
    "'''"
   ]
  },
  {
   "cell_type": "code",
   "execution_count": 335,
   "id": "9d65d281",
   "metadata": {},
   "outputs": [],
   "source": [
    "\n",
    "indices_of_subclasses = np.where(y_train < 2)[0]\n",
    "X_train, y_train = X_train[indices_of_subclasses], y_train[indices_of_subclasses]\n",
    "\n",
    "#random_indices = np.random.choice(range(len(y_test)), 1000, replace = False)\n",
    "#X_train, y_train = X_train[random_indices], y_train[random_indices]\n",
    "#random_indices = np.random.choice(range(len(y_test)), 500, replace = False)\n",
    "#X_test, y_test = X_test[random_indices], y_test[random_indices]\n",
    "indices_of_subclasses = np.where(y_test < 2)[0]\n",
    "X_test, y_test = X_test[indices_of_subclasses], y_test[indices_of_subclasses]"
   ]
  },
  {
   "cell_type": "code",
   "execution_count": 514,
   "id": "f9814712",
   "metadata": {},
   "outputs": [
    {
     "name": "stdout",
     "output_type": "stream",
     "text": [
      "Epoch 1/15\n",
      "282/282 [==============================] - 3s 7ms/step - loss: 0.4309 - acc: 0.8320 - val_loss: 0.3474 - val_acc: 0.8640\n",
      "Epoch 2/15\n",
      "282/282 [==============================] - 2s 6ms/step - loss: 0.2632 - acc: 0.8937 - val_loss: 0.2605 - val_acc: 0.8990\n",
      "Epoch 3/15\n",
      "282/282 [==============================] - 2s 6ms/step - loss: 0.2015 - acc: 0.9204 - val_loss: 0.1655 - val_acc: 0.9360\n",
      "Epoch 4/15\n",
      "282/282 [==============================] - 2s 6ms/step - loss: 0.1602 - acc: 0.9387 - val_loss: 0.1671 - val_acc: 0.9440\n",
      "Epoch 5/15\n",
      "282/282 [==============================] - 2s 6ms/step - loss: 0.1453 - acc: 0.9440 - val_loss: 0.1509 - val_acc: 0.9460\n",
      "Epoch 6/15\n",
      "282/282 [==============================] - 2s 6ms/step - loss: 0.1177 - acc: 0.9541 - val_loss: 0.1802 - val_acc: 0.9410\n",
      "Epoch 7/15\n",
      "282/282 [==============================] - 2s 6ms/step - loss: 0.0987 - acc: 0.9620 - val_loss: 0.1861 - val_acc: 0.9350\n",
      "Epoch 8/15\n",
      "282/282 [==============================] - 2s 6ms/step - loss: 0.0845 - acc: 0.9676 - val_loss: 0.1522 - val_acc: 0.9500\n",
      "Epoch 9/15\n",
      "282/282 [==============================] - 2s 6ms/step - loss: 0.0774 - acc: 0.9721 - val_loss: 0.1640 - val_acc: 0.9430\n",
      "Epoch 10/15\n",
      "282/282 [==============================] - 2s 6ms/step - loss: 0.0793 - acc: 0.9708 - val_loss: 0.1647 - val_acc: 0.9520\n",
      "Epoch 11/15\n",
      "282/282 [==============================] - 2s 6ms/step - loss: 0.0738 - acc: 0.9727 - val_loss: 0.1631 - val_acc: 0.9470\n",
      "Epoch 12/15\n",
      "282/282 [==============================] - 2s 6ms/step - loss: 0.0634 - acc: 0.9761 - val_loss: 0.1760 - val_acc: 0.9370\n",
      "Epoch 13/15\n",
      "282/282 [==============================] - 2s 6ms/step - loss: 0.0585 - acc: 0.9779 - val_loss: 0.1699 - val_acc: 0.9480\n",
      "Epoch 14/15\n",
      "282/282 [==============================] - 2s 6ms/step - loss: 0.0507 - acc: 0.9817 - val_loss: 0.1809 - val_acc: 0.9490\n",
      "Epoch 15/15\n",
      "282/282 [==============================] - 2s 6ms/step - loss: 0.0428 - acc: 0.9847 - val_loss: 0.1837 - val_acc: 0.9510\n"
     ]
    },
    {
     "data": {
      "text/plain": [
       "<keras.callbacks.History at 0x7fe11bd77790>"
      ]
     },
     "execution_count": 514,
     "metadata": {},
     "output_type": "execute_result"
    }
   ],
   "source": [
    "#load and train model \n",
    "inp = keras.layers.Input(np.shape(X_train)[1:])\n",
    "\n",
    "x = keras.layers.Conv2D(filters=32, kernel_size=(3, 3), activation='relu')(inp)\n",
    "x = keras.layers.MaxPooling2D()(x)\n",
    "x = keras.layers.BatchNormalization()(x)\n",
    "x = keras.layers.Dropout(0.2)(x)\n",
    "x = keras.layers.Conv2D(filters=64, kernel_size=(3, 3), activation='relu')(x)\n",
    "x = keras.layers.MaxPooling2D()(x)\n",
    "x = keras.layers.BatchNormalization()(x)\n",
    "x = keras.layers.Dropout(0.2)(x)\n",
    "x = keras.layers.Flatten()(x)\n",
    "\n",
    "\n",
    "x = keras.layers.Dense(units=1024, activation='relu')(x)\n",
    "x = keras.layers.BatchNormalization()(x)\n",
    "x = keras.layers.Dropout(0.2)(x)\n",
    "x = keras.layers.Dense(units=512, activation='relu')(x)\n",
    "enc = keras.layers.BatchNormalization()(x)\n",
    "x = keras.layers.Dropout(0.2)(x)\n",
    "cls_logits = keras.layers.Dense(units=len(np.unique(y_train)), activation = 'linear')(enc)\n",
    "cls_out = keras.layers.Activation('softmax', name = 'cls_out')(cls_logits)\n",
    "\n",
    "network = keras.models.Model(inputs = inp, outputs = cls_out)\n",
    "encoder = keras.models.Model(inputs = inp, outputs = enc)\n",
    "network.compile(loss='categorical_crossentropy',\n",
    "          optimizer=keras.optimizers.Adam(learning_rate=3e-4),\n",
    "          metrics = ['acc'])\n",
    "network.fit(X_train, keras.utils.to_categorical(y_train), \n",
    "    epochs = 15,\n",
    "    verbose = 1,\n",
    "    validation_split = .1)"
   ]
  },
  {
   "cell_type": "code",
   "execution_count": 515,
   "id": "63ba8a43",
   "metadata": {},
   "outputs": [],
   "source": [
    "encoding_X_train = encoder.predict(X_train).reshape(X_train.shape[0], -1)\n",
    "encoding_X_test = encoder.predict(X_test).reshape(X_test.shape[0], -1)"
   ]
  },
  {
   "cell_type": "code",
   "execution_count": 516,
   "id": "9521666f",
   "metadata": {},
   "outputs": [],
   "source": [
    "encoding_X_ood = encoder.predict(X_ood).reshape(X_ood.shape[0], -1)"
   ]
  },
  {
   "cell_type": "code",
   "execution_count": 579,
   "id": "b08cded2",
   "metadata": {},
   "outputs": [],
   "source": [
    "class_means, class_lower_percentile, class_upper_percentile = [], [], []\n",
    "for c in range(len(np.unique(y_train))):\n",
    "    examples_of_class = np.where(y_train == c)[0]\n",
    "    class_means.append(np.mean(encoding_X_train[examples_of_class], axis = 0))\n",
    "    class_lower_percentile.append(np.percentile(np.sqrt(np.sum(encoding_X_train[examples_of_class] ** 2, axis = 1)), 75))\n",
    "    class_upper_percentile.append(np.percentile(np.sqrt(np.sum(encoding_X_train[examples_of_class] ** 2, axis = 1)), 100))"
   ]
  },
  {
   "cell_type": "code",
   "execution_count": 580,
   "id": "2c2f2220",
   "metadata": {},
   "outputs": [
    {
     "name": "stderr",
     "output_type": "stream",
     "text": [
      "100%|█████████████████████████████████████████████████████████████████████████████████████████████████████████████████████████████████████████████████████████████████████████████████████████████████████████████████████████████████████████████| 2/2 [00:00<00:00, 17.38it/s]\n"
     ]
    }
   ],
   "source": [
    "from scipy.stats import multivariate_normal as mv\n",
    "vos_samples = []\n",
    "for c in tqdm(range(len(np.unique(y_train)))):\n",
    "    examples_of_class = np.where(y_train == c)[0]\n",
    "    vos_samples_of_class = mv.rvs(mean = 0, cov = 1, size = (int(len(examples_of_class) / 3), np.shape(encoding_X_train)[1]))\n",
    "    vos_samples_of_class = vos_samples_of_class / np.linalg.norm(vos_samples_of_class, axis =1)[:, np.newaxis]\n",
    "    magnitudes = np.random.uniform(class_lower_percentile[c], class_upper_percentile[c], size = len(vos_samples_of_class))\n",
    "    vos_samples_of_class = class_means[c] + vos_samples_of_class * magnitudes[:, np.newaxis]\n",
    "    vos_samples.extend(vos_samples_of_class)"
   ]
  },
  {
   "cell_type": "code",
   "execution_count": 581,
   "id": "cea9afb1",
   "metadata": {},
   "outputs": [],
   "source": [
    "ood_X_train = np.concatenate([encoding_X_train, vos_samples], axis = 0)\n",
    "ood_y_train = np.concatenate([keras.utils.to_categorical(y_train), np.ones((len(vos_samples), len(np.unique(y_train)))) / len(np.unique(y_train))])"
   ]
  },
  {
   "cell_type": "code",
   "execution_count": 582,
   "id": "df049d58",
   "metadata": {},
   "outputs": [
    {
     "name": "stdout",
     "output_type": "stream",
     "text": [
      "Epoch 1/15\n",
      "375/375 [==============================] - 3s 5ms/step - loss: 166.1800 - val_loss: 2.9495\n",
      "Epoch 2/15\n",
      "375/375 [==============================] - 2s 5ms/step - loss: 0.4473 - val_loss: 2.8184\n",
      "Epoch 3/15\n",
      "375/375 [==============================] - 2s 4ms/step - loss: 0.3981 - val_loss: 2.6015\n",
      "Epoch 4/15\n",
      "375/375 [==============================] - 2s 5ms/step - loss: 0.3717 - val_loss: 2.4808\n",
      "Epoch 5/15\n",
      "375/375 [==============================] - 2s 5ms/step - loss: 0.3498 - val_loss: 2.1193\n",
      "Epoch 6/15\n",
      "375/375 [==============================] - 2s 5ms/step - loss: 0.3339 - val_loss: 2.0803\n",
      "Epoch 7/15\n",
      "375/375 [==============================] - 2s 5ms/step - loss: 0.3297 - val_loss: 2.1344\n",
      "Epoch 8/15\n",
      "375/375 [==============================] - 2s 5ms/step - loss: 0.3066 - val_loss: 1.9016\n",
      "Epoch 9/15\n",
      "375/375 [==============================] - 2s 5ms/step - loss: 0.2987 - val_loss: 1.8853\n",
      "Epoch 10/15\n",
      "375/375 [==============================] - 2s 5ms/step - loss: 0.2823 - val_loss: 1.7889\n",
      "Epoch 11/15\n",
      "375/375 [==============================] - 2s 5ms/step - loss: 0.2714 - val_loss: 1.5909\n",
      "Epoch 12/15\n",
      "375/375 [==============================] - 2s 5ms/step - loss: 0.2644 - val_loss: 1.5967\n",
      "Epoch 13/15\n",
      "375/375 [==============================] - 2s 4ms/step - loss: 0.2588 - val_loss: 1.5535\n",
      "Epoch 14/15\n",
      "375/375 [==============================] - 2s 5ms/step - loss: 0.2506 - val_loss: 1.4929\n",
      "Epoch 15/15\n",
      "375/375 [==============================] - 2s 4ms/step - loss: 0.2440 - val_loss: 1.5277\n"
     ]
    },
    {
     "data": {
      "text/plain": [
       "<keras.callbacks.History at 0x7fe0ed2e1460>"
      ]
     },
     "execution_count": 582,
     "metadata": {},
     "output_type": "execute_result"
    }
   ],
   "source": [
    "import tensorflow as tf\n",
    "x = keras.layers.Dense(100, activation = 'relu')(enc)\n",
    "x = keras.layers.BatchNormalization()(x)\n",
    "x = keras.layers.Dense(100, activation = 'relu')(x)\n",
    "x = keras.layers.BatchNormalization()(x)\n",
    "x = keras.layers.Dense(100, activation = 'relu')(x)\n",
    "x = keras.layers.BatchNormalization()(x)\n",
    "pre_temperature = keras.layers.Dense(units = 1, activation = 'linear')(x)\n",
    "#temperature = keras.layers.Lambda(lambda v : keras.activations.sigmoid(v) * 10)(pre_temperature)\n",
    "#custom loss. We want the temperature to be unbounded on the positive side (and therefore when the pretemperature is greater than 0, it's unbounded; \n",
    "#but we also need to make sure the temperature is never negative - so we don't get infinite logits. So we do an exponentially decaying activation on the negative side)\n",
    "temperature = keras.layers.Activation(lambda v : tf.where(v < 0, keras.activations.exponential(v), 1 + keras.activations.linear(v)))(pre_temperature)\n",
    "ood_cls_logits = keras.layers.Lambda(lambda inputs: inputs[0] / inputs[1])([cls_logits, temperature])\n",
    "ood_cls_out = keras.layers.Activation('softmax')(ood_cls_logits)\n",
    "\n",
    "temperature_model = keras.models.Model(inputs = enc, outputs = temperature)\n",
    "ood_network = keras.models.Model(inputs = enc, outputs = ood_cls_out)\n",
    "for layer in network.layers:\n",
    "    layer.trainable = False\n",
    "ood_network.compile(loss='categorical_crossentropy',\n",
    "          optimizer=keras.optimizers.Adam(learning_rate=3e-2))\n",
    "ood_network.fit(ood_X_train, ood_y_train, \n",
    "    epochs = 15,\n",
    "    verbose = 1,\n",
    "    validation_split = .1)"
   ]
  },
  {
   "cell_type": "code",
   "execution_count": 654,
   "id": "a91994dc",
   "metadata": {
    "scrolled": true
   },
   "outputs": [],
   "source": [
    "from copy import deepcopy\n",
    "import tensorflow as tf\n",
    "encoding_X_ood_grad = deepcopy(encoding_X_ood)\n",
    "tensor = tf.convert_to_tensor(encoding_X_ood_grad, dtype=tf.float32)\n",
    "with tf.GradientTape(persistent=True) as tape:\n",
    "    tape.watch(tensor)\n",
    "    pred = ood_network(tensor)\n",
    "    y = [-pred[i, keras.backend.argmax(pred[i])] for i in range(len(pred))]\n",
    "dy_dx = tape.gradient(y, tensor)\n",
    "encoding_X_ood_grad -= dy_dx\n",
    "\n",
    "encoding_X_train_grad = deepcopy(encoding_X_train)\n",
    "tensor = tf.convert_to_tensor(encoding_X_train_grad, dtype=tf.float32)\n",
    "with tf.GradientTape(persistent=True) as tape:\n",
    "    tape.watch(tensor)\n",
    "    pred = ood_network(tensor)\n",
    "    y = [-pred[i, keras.backend.argmax(pred[i])] for i in range(len(pred))]\n",
    "dy_dx = tape.gradient(y, tensor)\n",
    "encoding_X_train_grad -= dy_dx"
   ]
  },
  {
   "cell_type": "code",
   "execution_count": 655,
   "id": "047d61e7",
   "metadata": {},
   "outputs": [
    {
     "name": "stdout",
     "output_type": "stream",
     "text": [
      "In Distribution Temperature:  2.366917\n"
     ]
    }
   ],
   "source": [
    "t = temperature_model.predict(encoding_X_train)\n",
    "print(\"In Distribution Temperature: \", np.mean(t))"
   ]
  },
  {
   "cell_type": "code",
   "execution_count": 656,
   "id": "9938ce0c",
   "metadata": {},
   "outputs": [
    {
     "name": "stdout",
     "output_type": "stream",
     "text": [
      "In Distribution Grad Temperature:  2.3586535\n"
     ]
    }
   ],
   "source": [
    "t = temperature_model.predict(encoding_X_train_grad)\n",
    "print(\"In Distribution Grad Temperature: \", np.mean(t))"
   ]
  },
  {
   "cell_type": "code",
   "execution_count": 657,
   "id": "82b85214",
   "metadata": {},
   "outputs": [
    {
     "name": "stdout",
     "output_type": "stream",
     "text": [
      "VO Temperature (we want this to be much higher than the in distribution temperature):  7.5467553\n"
     ]
    }
   ],
   "source": [
    "t = temperature_model.predict(np.array(vos_samples))\n",
    "print(\"VO Temperature (we want this to be much higher than the in distribution temperature): \", np.mean(t))"
   ]
  },
  {
   "cell_type": "code",
   "execution_count": 658,
   "id": "7844bc83",
   "metadata": {},
   "outputs": [
    {
     "name": "stdout",
     "output_type": "stream",
     "text": [
      "OOD Temperature (we want this to be much higher than the in distribution temperature):  10.414315\n"
     ]
    }
   ],
   "source": [
    "t = temperature_model.predict(encoding_X_ood)\n",
    "print(\"OOD Temperature (we want this to be much higher than the in distribution temperature): \", np.mean(t))"
   ]
  },
  {
   "cell_type": "code",
   "execution_count": 659,
   "id": "5cbe30ae",
   "metadata": {},
   "outputs": [
    {
     "name": "stdout",
     "output_type": "stream",
     "text": [
      "OOD Grad Temperature (we want this to be much higher than the in distribution temperature):  10.406044\n"
     ]
    }
   ],
   "source": [
    "t = temperature_model.predict(encoding_X_ood_grad)\n",
    "print(\"OOD Grad Temperature (we want this to be much higher than the in distribution temperature): \", np.mean(t))"
   ]
  },
  {
   "cell_type": "code",
   "execution_count": 660,
   "id": "13130765",
   "metadata": {},
   "outputs": [
    {
     "name": "stdout",
     "output_type": "stream",
     "text": [
      "Temperature Deflated VO Confidence Average (we want this to be really low):  0.83224255\n"
     ]
    }
   ],
   "source": [
    "vos_pred = ood_network.predict(np.array(vos_samples))\n",
    "print(\"Temperature Deflated VO Confidence Average (we want this to be really low): \", np.mean(np.max(vos_pred, axis = 1)))"
   ]
  },
  {
   "cell_type": "code",
   "execution_count": 661,
   "id": "efac8545",
   "metadata": {},
   "outputs": [
    {
     "name": "stdout",
     "output_type": "stream",
     "text": [
      "Temperature Deflated OOD Confidence Average (we want this to be really low):  0.7016384\n"
     ]
    }
   ],
   "source": [
    "ood_pred = ood_network.predict(encoding_X_ood)\n",
    "print(\"Temperature Deflated OOD Confidence Average (we want this to be really low): \", np.mean(np.max(ood_pred, axis = 1)))"
   ]
  },
  {
   "cell_type": "code",
   "execution_count": 662,
   "id": "d819eed8",
   "metadata": {},
   "outputs": [
    {
     "name": "stdout",
     "output_type": "stream",
     "text": [
      "Temperature Deflated OOD Grad Confidence Average (we want this to be really low):  0.7036039\n"
     ]
    }
   ],
   "source": [
    "ood_grad_pred = ood_network.predict(encoding_X_ood_grad)\n",
    "print(\"Temperature Deflated OOD Grad Confidence Average (we want this to be really low): \", np.mean(np.max(ood_grad_pred, axis = 1)))"
   ]
  },
  {
   "cell_type": "code",
   "execution_count": 663,
   "id": "627bb49c",
   "metadata": {},
   "outputs": [
    {
     "name": "stdout",
     "output_type": "stream",
     "text": [
      "Temperature Deflated In-Distribution Confidence Average:  0.96994084\n"
     ]
    }
   ],
   "source": [
    "id_pred = ood_network.predict(encoding_X_train)\n",
    "print(\"Temperature Deflated In-Distribution Confidence Average: \", np.mean(np.max(id_pred, axis = 1)))"
   ]
  },
  {
   "cell_type": "code",
   "execution_count": 664,
   "id": "38374b85",
   "metadata": {},
   "outputs": [
    {
     "name": "stdout",
     "output_type": "stream",
     "text": [
      "Temperature Deflated In-Distribution Grad Confidence Average:  0.97295856\n"
     ]
    }
   ],
   "source": [
    "id_grad_pred = ood_network.predict(encoding_X_train_grad)\n",
    "print(\"Temperature Deflated In-Distribution Grad Confidence Average: \", np.mean(np.max(id_grad_pred, axis = 1)))"
   ]
  },
  {
   "cell_type": "code",
   "execution_count": 667,
   "id": "c800e231",
   "metadata": {},
   "outputs": [
    {
     "name": "stdout",
     "output_type": "stream",
     "text": [
      "AUC:  0.9763833333333333\n",
      "Grad AUC:  0.9817306333333332\n"
     ]
    }
   ],
   "source": [
    "from sklearn.metrics import roc_auc_score\n",
    "print(\"AUC: \",roc_auc_score(np.concatenate([np.ones((len(id_pred))), np.zeros((len(ood_pred)))]), np.concatenate([np.max(id_pred, axis = 1), np.max(ood_pred, axis = 1)])))\n",
    "print(\"Grad AUC: \",roc_auc_score(np.concatenate([np.ones((len(id_grad_pred))), np.zeros((len(ood_grad_pred)))]), np.concatenate([np.max(id_grad_pred, axis = 1), np.max(ood_grad_pred, axis = 1)])))"
   ]
  },
  {
   "cell_type": "code",
   "execution_count": 668,
   "id": "15016bdd",
   "metadata": {},
   "outputs": [
    {
     "name": "stdout",
     "output_type": "stream",
     "text": [
      "Unaffected Model VO Confidence Average (this being high shows networks are overconfident OOD):  0.977785\n"
     ]
    }
   ],
   "source": [
    "vo_pred = keras.models.Model(inputs = enc, outputs = cls_out).predict(np.array(vos_samples))\n",
    "print(\"Unaffected Model VO Confidence Average (this being high shows networks are overconfident OOD): \", np.mean(np.max(vo_pred, axis = 1)))"
   ]
  },
  {
   "cell_type": "code",
   "execution_count": 669,
   "id": "41a891fe",
   "metadata": {},
   "outputs": [
    {
     "name": "stdout",
     "output_type": "stream",
     "text": [
      "Unaffected Model OOD Confidence Average (this being high shows networks are overconfident OOD):  0.94881797\n"
     ]
    }
   ],
   "source": [
    "ood_pred = keras.models.Model(inputs = enc, outputs = cls_out).predict(encoding_X_ood)\n",
    "print(\"Unaffected Model OOD Confidence Average (this being high shows networks are overconfident OOD): \", np.mean(np.max(ood_pred, axis = 1)))"
   ]
  },
  {
   "cell_type": "code",
   "execution_count": 671,
   "id": "8c4c052c",
   "metadata": {},
   "outputs": [
    {
     "name": "stdout",
     "output_type": "stream",
     "text": [
      "Unaffected Model OOD Grad Confidence Average (this being high shows networks are overconfident OOD):  0.9524294\n"
     ]
    }
   ],
   "source": [
    "ood_grad_pred = keras.models.Model(inputs = enc, outputs = cls_out).predict(encoding_X_ood_grad)\n",
    "print(\"Unaffected Model OOD Grad Confidence Average (this being high shows networks are overconfident OOD): \", np.mean(np.max(ood_grad_pred, axis = 1)))"
   ]
  },
  {
   "cell_type": "code",
   "execution_count": 674,
   "id": "b06478ad",
   "metadata": {},
   "outputs": [
    {
     "name": "stdout",
     "output_type": "stream",
     "text": [
      "Unaffected Model In-Distribution Confidence Average:  0.9902293\n"
     ]
    }
   ],
   "source": [
    "id_pred = network.predict(X_train)\n",
    "print(\"Unaffected Model In-Distribution Confidence Average: \", np.mean(np.max(id_pred, axis = 1)))"
   ]
  },
  {
   "cell_type": "code",
   "execution_count": 675,
   "id": "6db62fbc",
   "metadata": {},
   "outputs": [
    {
     "name": "stdout",
     "output_type": "stream",
     "text": [
      "Unaffected Model In-Distribution Grad Confidence Average:  0.9902293\n"
     ]
    }
   ],
   "source": [
    "id_grad_pred = network.predict(X_train)\n",
    "print(\"Unaffected Model In-Distribution Grad Confidence Average: \", np.mean(np.max(id_grad_pred, axis = 1)))"
   ]
  },
  {
   "cell_type": "code",
   "execution_count": 676,
   "id": "533b7d5f",
   "metadata": {},
   "outputs": [
    {
     "name": "stdout",
     "output_type": "stream",
     "text": [
      "AUC:  0.6046514833333334\n",
      "Grad AUC:  0.60194295\n"
     ]
    }
   ],
   "source": [
    "from sklearn.metrics import roc_auc_score\n",
    "print(\"AUC: \",roc_auc_score(np.concatenate([np.ones((len(id_pred))), np.zeros((len(ood_pred)))]), np.concatenate([np.max(id_pred, axis = 1), np.max(ood_pred, axis = 1)])))\n",
    "print(\"Grad AUC: \",roc_auc_score(np.concatenate([np.ones((len(id_grad_pred))), np.zeros((len(ood_grad_pred)))]), np.concatenate([np.max(id_grad_pred, axis = 1), np.max(ood_grad_pred, axis = 1)])))"
   ]
  },
  {
   "cell_type": "code",
   "execution_count": 283,
   "id": "741e01be",
   "metadata": {},
   "outputs": [],
   "source": [
    "def get_ece(confidences, correctness):\n",
    "    hists = []\n",
    "    hists_hat = []\n",
    "    amts = []\n",
    "    num_bins = 100\n",
    "    for i in range(num_bins):\n",
    "        prop = i*1./num_bins\n",
    "        inds = np.where((confidences >= prop) & (confidences <= prop+1./num_bins))[0]\n",
    "        amts.append(len(inds))\n",
    "        if len(inds) > 0:\n",
    "            hists.append(len(np.where(correctness[inds] == 1)[0])*1./len(inds))\n",
    "            hists_hat.append(np.mean(confidences[inds]))\n",
    "        else:\n",
    "            hists.append(prop)\n",
    "            hists_hat.append(prop + 0.5/num_bins)\n",
    "    return np.sum(np.abs(np.array(hists) - np.array(hists_hat)) * np.array(amts)) / np.sum(amts)"
   ]
  },
  {
   "cell_type": "code",
   "execution_count": 284,
   "id": "b4d90276",
   "metadata": {},
   "outputs": [
    {
     "name": "stdout",
     "output_type": "stream",
     "text": [
      "0.8739016309789354\n"
     ]
    },
    {
     "data": {
      "text/plain": [
       "0.059906843707809465"
      ]
     },
     "execution_count": 284,
     "metadata": {},
     "output_type": "execute_result"
    }
   ],
   "source": [
    "from sklearn.metrics import roc_auc_score, accuracy_score\n",
    "pred = network.predict(X_test)\n",
    "\n",
    "print(roc_auc_score(np.argmax(pred, axis = 1) == y_test, np.max(pred, axis = 1)))\n",
    "class_eces = []\n",
    "for j in range(len(np.unique(y_train))):\n",
    "    class_eces.append(get_ece(np.array(pred)[:, j], y_test == j))\n",
    "np.mean(class_eces)"
   ]
  },
  {
   "cell_type": "code",
   "execution_count": 285,
   "id": "c040209b",
   "metadata": {},
   "outputs": [
    {
     "name": "stdout",
     "output_type": "stream",
     "text": [
      "0.8143316620212697\n"
     ]
    },
    {
     "data": {
      "text/plain": [
       "0.06499555899842381"
      ]
     },
     "execution_count": 285,
     "metadata": {},
     "output_type": "execute_result"
    }
   ],
   "source": [
    "pred = ood_network.predict(encoding_X_test)\n",
    "print(roc_auc_score(np.argmax(pred, axis = 1) == y_test, np.max(pred, axis = 1)))\n",
    "class_eces = []\n",
    "for j in range(len(np.unique(y_train))):\n",
    "    class_eces.append(get_ece(np.array(pred)[:, j], y_test == j))\n",
    "np.mean(class_eces)"
   ]
  },
  {
   "cell_type": "code",
   "execution_count": 286,
   "id": "35f53bd8",
   "metadata": {},
   "outputs": [],
   "source": [
    "ood_scores_test = temperature_model.predict(encoding_X_test)[:, 0]"
   ]
  },
  {
   "cell_type": "code",
   "execution_count": 287,
   "id": "beb871ba",
   "metadata": {},
   "outputs": [],
   "source": [
    "model_predictions = network.predict(X_test)\n",
    "ood_model_predictions = ood_network.predict(encoding_X_test)"
   ]
  },
  {
   "cell_type": "code",
   "execution_count": 288,
   "id": "6860fd8b",
   "metadata": {},
   "outputs": [],
   "source": [
    "num_intervals = 20"
   ]
  },
  {
   "cell_type": "code",
   "execution_count": 321,
   "id": "4fdf4698",
   "metadata": {},
   "outputs": [],
   "source": [
    "#z_scores = p_label_error / (variance_confidences + 1e-12)\n",
    "from sklearn.metrics import average_precision_score\n",
    "order = np.argsort(ood_scores_test)\n",
    "ps = []\n",
    "accs = []\n",
    "base_eces = []\n",
    "ood_model_eces = []\n",
    "base_confidences = []\n",
    "ood_model_confidences = []\n",
    "model_acc = []\n",
    "ood_model_acc = []\n",
    "\n",
    "for i in range(0, len(y_test), int(len(y_test) / num_intervals)):\n",
    "    class_eces = []\n",
    "    for j in range(len(np.unique(y_train))):\n",
    "        class_eces.append(np.mean(model_predictions[order[i:i + int(len(y_test) / num_intervals)], j]))#get_ece(np.array(model_predictions)[order[:i + int(len(y_test) / num_intervals)], j], y_test[order[:i + int(len(y_test) / num_intervals)]] == j))\n",
    "    base_eces.append(np.mean(class_eces))\n",
    "    base_confidences.append(np.mean(np.max(model_predictions[order[i:i + int(len(y_test) / num_intervals)]], axis = 1)))\n",
    "    model_acc.append(np.mean(np.argmax(model_predictions[order[i:i + int(len(y_test) / num_intervals)]], axis = 1) == y_test[order[i:i + int(len(y_test) / num_intervals)]]))\n",
    "\n",
    "    class_eces = []\n",
    "    for j in range(len(np.unique(y_train))):\n",
    "        class_eces.append(np.mean(np.array(ood_model_predictions)[order[:i + int(len(y_test) / num_intervals)], j]))#get_ece(np.array(ood_model_predictions)[order[:i + int(len(y_test) / num_intervals)], j], y_test[order[:i + int(len(y_test) / num_intervals)]] == j))\n",
    "    ood_model_eces.append(np.median(class_eces))\n",
    "    ood_model_confidences.append(np.mean(np.max(ood_model_predictions[order[i:i + int(len(y_test) / num_intervals)]], axis = 1)))\n",
    "    ood_model_acc.append(np.mean(np.argmax(ood_model_predictions[order[i:i + int(len(y_test) / num_intervals)]], axis = 1) == y_test[order[i:i + int(len(y_test) / num_intervals)]]))"
   ]
  },
  {
   "cell_type": "code",
   "execution_count": 322,
   "id": "677509d2",
   "metadata": {},
   "outputs": [
    {
     "data": {
      "text/plain": [
       "[1.0,\n",
       " 1.0,\n",
       " 0.9964615,\n",
       " 0.99706507,\n",
       " 0.99210966,\n",
       " 0.9998701,\n",
       " 0.9988194,\n",
       " 0.99262315,\n",
       " 0.9836587,\n",
       " 0.9903807,\n",
       " 0.9800699,\n",
       " 0.98944277,\n",
       " 0.9825737,\n",
       " 0.98193717,\n",
       " 0.95985913,\n",
       " 0.95834273,\n",
       " 0.95657325,\n",
       " 0.9341005,\n",
       " 0.93240553,\n",
       " 0.883628]"
      ]
     },
     "execution_count": 322,
     "metadata": {},
     "output_type": "execute_result"
    }
   ],
   "source": [
    "ood_model_confidences"
   ]
  },
  {
   "cell_type": "code",
   "execution_count": 332,
   "id": "a1f95266",
   "metadata": {},
   "outputs": [
    {
     "data": {
      "text/plain": [
       "[0.98,\n",
       " 0.98,\n",
       " 0.95,\n",
       " 0.97,\n",
       " 0.99,\n",
       " 0.96,\n",
       " 0.95,\n",
       " 0.93,\n",
       " 0.92,\n",
       " 0.9,\n",
       " 0.89,\n",
       " 0.92,\n",
       " 0.89,\n",
       " 0.96,\n",
       " 0.82,\n",
       " 0.9,\n",
       " 0.93,\n",
       " 0.92,\n",
       " 0.96,\n",
       " 0.89]"
      ]
     },
     "execution_count": 332,
     "metadata": {},
     "output_type": "execute_result"
    }
   ],
   "source": [
    "ood_model_acc"
   ]
  },
  {
   "cell_type": "code",
   "execution_count": 331,
   "id": "e8c49e4d",
   "metadata": {},
   "outputs": [
    {
     "data": {
      "text/plain": [
       "0.048392693519592286"
      ]
     },
     "execution_count": 331,
     "metadata": {},
     "output_type": "execute_result"
    }
   ],
   "source": [
    "np.mean(np.abs(np.array(ood_model_acc) - np.array(ood_model_confidences)))"
   ]
  },
  {
   "cell_type": "code",
   "execution_count": 329,
   "id": "69b8e213",
   "metadata": {},
   "outputs": [
    {
     "data": {
      "text/plain": [
       "0.03807096266746521"
      ]
     },
     "execution_count": 329,
     "metadata": {},
     "output_type": "execute_result"
    }
   ],
   "source": [
    "np.mean(np.abs(np.array(model_acc) - np.array(base_confidences)))"
   ]
  },
  {
   "cell_type": "code",
   "execution_count": 299,
   "id": "c8c13e64",
   "metadata": {},
   "outputs": [
    {
     "data": {
      "text/plain": [
       "<matplotlib.legend.Legend at 0x7fd8819c8bb0>"
      ]
     },
     "execution_count": 299,
     "metadata": {},
     "output_type": "execute_result"
    },
    {
     "data": {
      "image/png": "[encoded data removed]",
      "text/plain": [
       "<Figure size 432x288 with 1 Axes>"
      ]
     },
     "metadata": {
      "needs_background": "light"
     },
     "output_type": "display_data"
    }
   ],
   "source": [
    "import matplotlib.pyplot as plt\n",
    "plt.plot(ood_scores_test[order[np.arange(0, len(y_test), int(len(y_test) / num_intervals))]], base_eces, label = \"Unchanged Model\")\n",
    "#plt.plot(np.arange(0, len(y_test), int(len(y_test) / num_intervals)) / len(y_test), base_eces, label = \"Unchanged Model\")\n",
    "plt.plot(ood_scores_test[order[np.arange(0, len(y_test), int(len(y_test) / num_intervals))]], ood_model_eces, label = \"Penultimate-Dependent Temperature Deflation Model\")\n",
    "#plt.plot(np.arange(0, len(y_test), int(len(y_test) / num_intervals)) / len(y_test), ood_model_eces, label = \"Penultimate-Dependent Temperature Deflation Model\")\n",
    "plt.xlabel(\"Temperature\")\n",
    "plt.ylabel(\"ECE Of Accepted Points\")\n",
    "plt.legend()"
   ]
  },
  {
   "cell_type": "markdown",
   "id": "17d8a789",
   "metadata": {},
   "source": [
    "The blue line increasing shows that when temperature is high, ECE is high -> we can detect when we're miscalibrated (when we're OOD) and we know it by a high temperature. On this, we deflate confidence."
   ]
  },
  {
   "cell_type": "code",
   "execution_count": null,
   "id": "e155f8c4",
   "metadata": {},
   "outputs": [],
   "source": []
  }
 ],
 "metadata": {
  "kernelspec": {
   "display_name": "Environment (conda_tensorflow2_p38)",
   "language": "python",
   "name": "conda_tensorflow2_p38"
  },
  "language_info": {
   "codemirror_mode": {
    "name": "ipython",
    "version": 3
   },
   "file_extension": ".py",
   "mimetype": "text/x-python",
   "name": "python",
   "nbconvert_exporter": "python",
   "pygments_lexer": "ipython3",
   "version": "3.8.12"
  }
 },
 "nbformat": 4,
 "nbformat_minor": 5
}
