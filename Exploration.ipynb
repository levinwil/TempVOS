{
 "cells": [
  {
   "cell_type": "code",
   "execution_count": 1,
   "id": "9b29be6e",
   "metadata": {},
   "outputs": [],
   "source": [
    "import tensorflow.keras as keras\n",
    "from tensorflow.keras.callbacks import ModelCheckpoint, EarlyStopping\n",
    "import numpy as np\n",
    "from tqdm import tqdm\n",
    "from scipy.stats import multivariate_normal\n",
    "\n",
    "(X_train, y_train), (X_test, y_test) = keras.datasets.cifar10.load_data()\n",
    "y_train, y_test = y_train[:, 0], y_test[:, 0]"
   ]
  },
  {
   "cell_type": "code",
   "execution_count": 2,
   "id": "a1c074c0",
   "metadata": {},
   "outputs": [],
   "source": [
    "#random_indices = np.random.choice(range(len(y_train)), 10000, replace = False)\n",
    "#X_train, y_train = X_train[random_indices], y_train[random_indices]\n",
    "#indices_of_subclasses = np.where(y_train < 5)[0]\n",
    "#X_train, y_train = X_train[indices_of_subclasses], y_train[indices_of_subclasses]\n",
    "\n",
    "#random_indices = np.random.choice(range(len(y_test)), 1000, replace = False)\n",
    "#X_train, y_train = X_train[random_indices], y_train[random_indices]\n",
    "#random_indices = np.random.choice(range(len(y_test)), 500, replace = False)\n",
    "#X_test, y_test = X_test[random_indices], y_test[random_indices]\n",
    "#indices_of_subclasses = np.where(y_test < 5)[0]\n",
    "#X_test, y_test = X_test[indices_of_subclasses], y_test[indices_of_subclasses]"
   ]
  },
  {
   "cell_type": "code",
   "execution_count": 200,
   "id": "2d4b2347",
   "metadata": {},
   "outputs": [
    {
     "name": "stdout",
     "output_type": "stream",
     "text": [
      "Epoch 1/15\n",
      "1407/1407 [==============================] - 10s 6ms/step - loss: 1.5568 - acc: 0.4604 - val_loss: 1.2901 - val_acc: 0.5500\n",
      "Epoch 2/15\n",
      "1407/1407 [==============================] - 8s 6ms/step - loss: 1.1607 - acc: 0.5902 - val_loss: 1.0546 - val_acc: 0.6336\n",
      "Epoch 3/15\n",
      "1407/1407 [==============================] - 8s 6ms/step - loss: 0.9978 - acc: 0.6484 - val_loss: 0.9376 - val_acc: 0.6768\n",
      "Epoch 4/15\n",
      "1407/1407 [==============================] - 8s 6ms/step - loss: 0.8760 - acc: 0.6934 - val_loss: 0.9107 - val_acc: 0.6972\n",
      "Epoch 5/15\n",
      "1407/1407 [==============================] - 8s 6ms/step - loss: 0.7681 - acc: 0.7322 - val_loss: 0.8877 - val_acc: 0.7066\n",
      "Epoch 6/15\n",
      "1407/1407 [==============================] - 8s 6ms/step - loss: 0.6899 - acc: 0.7560 - val_loss: 0.7897 - val_acc: 0.7416\n",
      "Epoch 7/15\n",
      "1407/1407 [==============================] - 8s 6ms/step - loss: 0.6185 - acc: 0.7824 - val_loss: 0.8318 - val_acc: 0.7256\n",
      "Epoch 8/15\n",
      "1407/1407 [==============================] - 8s 6ms/step - loss: 0.5489 - acc: 0.8069 - val_loss: 1.0630 - val_acc: 0.6674\n",
      "Epoch 9/15\n",
      "1407/1407 [==============================] - 9s 6ms/step - loss: 0.4902 - acc: 0.8264 - val_loss: 0.8305 - val_acc: 0.7392\n",
      "Epoch 10/15\n",
      "1407/1407 [==============================] - 8s 6ms/step - loss: 0.4436 - acc: 0.8440 - val_loss: 0.8133 - val_acc: 0.7402\n",
      "Epoch 11/15\n",
      "1407/1407 [==============================] - 8s 6ms/step - loss: 0.3934 - acc: 0.8610 - val_loss: 0.8335 - val_acc: 0.7374\n",
      "Epoch 12/15\n",
      "1407/1407 [==============================] - 8s 6ms/step - loss: 0.3538 - acc: 0.8745 - val_loss: 0.8820 - val_acc: 0.7294\n",
      "Epoch 13/15\n",
      "1407/1407 [==============================] - 8s 6ms/step - loss: 0.3218 - acc: 0.8872 - val_loss: 0.8292 - val_acc: 0.7548\n",
      "Epoch 14/15\n",
      "1407/1407 [==============================] - 8s 6ms/step - loss: 0.3082 - acc: 0.8914 - val_loss: 0.8180 - val_acc: 0.7524\n",
      "Epoch 15/15\n",
      "1407/1407 [==============================] - 8s 6ms/step - loss: 0.2856 - acc: 0.8989 - val_loss: 0.8430 - val_acc: 0.7604\n"
     ]
    },
    {
     "data": {
      "text/plain": [
       "<keras.callbacks.History at 0x7f5310ed9490>"
      ]
     },
     "execution_count": 200,
     "metadata": {},
     "output_type": "execute_result"
    }
   ],
   "source": [
    "'''\n",
    "from keras.applications.resnet import ResNet50\n",
    "encoder = ResNet50(include_top = False, input_shape = np.shape(X_train)[1:])\n",
    "encoding_X_train = encoder.predict(X_train)[:, 0, 0, :]\n",
    "encoding_X_test = encoder.predict(X_test)[:, 0, 0, :]\n",
    "inp = keras.layers.Input(np.shape(encoding_X_train)[1:])\n",
    "\n",
    "x = keras.layers.Dense(128, activation = 'relu')(inp)\n",
    "x = keras.layers.BatchNormalization()(x)\n",
    "x = keras.layers.Dense(128, activation = 'relu')(x)\n",
    "x = keras.layers.BatchNormalization()(x)\n",
    "x = keras.layers.Dense(128, activation = 'relu')(x)\n",
    "x = keras.layers.BatchNormalization()(x)\n",
    "cls_logits = keras.layers.Dense(units=len(np.unique(y_train)), activation = 'linear')(x)\n",
    "cls_out = keras.layers.Activation('softmax', name = 'cls_out')(cls_logits)\n",
    "\n",
    "network = keras.models.Model(inputs = inp, outputs = cls_out)\n",
    "network.compile(loss='categorical_crossentropy',\n",
    "          optimizer=keras.optimizers.Adam(learning_rate=3e-4),\n",
    "          metrics = ['acc'])\n",
    "network.fit(encoding_X_train, keras.utils.to_categorical(y_train), \n",
    "    epochs = 25,\n",
    "    verbose = 1,\n",
    "    validation_split = .1)\n",
    "'''\n",
    "#load and train model \n",
    "inp = keras.layers.Input(np.shape(X_train)[1:])\n",
    "\n",
    "x = keras.layers.Conv2D(filters=32, kernel_size=(3, 3), activation='relu')(inp)\n",
    "x = keras.layers.MaxPooling2D()(x)\n",
    "x = keras.layers.BatchNormalization()(x)\n",
    "x = keras.layers.Dropout(0.2)(x)\n",
    "x = keras.layers.Conv2D(filters=64, kernel_size=(3, 3), activation='relu')(x)\n",
    "x = keras.layers.MaxPooling2D()(x)\n",
    "x = keras.layers.BatchNormalization()(x)\n",
    "x = keras.layers.Dropout(0.2)(x)\n",
    "x = keras.layers.Flatten()(x)\n",
    "\n",
    "\n",
    "x = keras.layers.Dense(units=1024, activation='relu')(x)\n",
    "x = keras.layers.BatchNormalization()(x)\n",
    "x = keras.layers.Dropout(0.2)(x)\n",
    "x = keras.layers.Dense(units=512, activation='relu')(x)\n",
    "enc = keras.layers.BatchNormalization()(x)\n",
    "x = keras.layers.Dropout(0.2)(x)\n",
    "cls_logits = keras.layers.Dense(units=len(np.unique(y_train)), activation = 'linear')(enc)\n",
    "cls_out = keras.layers.Activation('softmax', name = 'cls_out')(cls_logits)\n",
    "\n",
    "network = keras.models.Model(inputs = inp, outputs = cls_out)\n",
    "encoder = keras.models.Model(inputs = inp, outputs = enc)\n",
    "network.compile(loss='categorical_crossentropy',\n",
    "          optimizer=keras.optimizers.Adam(learning_rate=3e-4),\n",
    "          metrics = ['acc'])\n",
    "network.fit(X_train, keras.utils.to_categorical(y_train), \n",
    "    epochs = 15,\n",
    "    verbose = 1,\n",
    "    validation_split = .1)"
   ]
  },
  {
   "cell_type": "code",
   "execution_count": 201,
   "id": "bc677571",
   "metadata": {},
   "outputs": [],
   "source": [
    "encoding_X_train = encoder.predict(X_train).reshape(X_train.shape[0], -1)\n",
    "encoding_X_test = encoder.predict(X_test).reshape(X_test.shape[0], -1)"
   ]
  },
  {
   "cell_type": "code",
   "execution_count": 202,
   "id": "ebe77c91",
   "metadata": {},
   "outputs": [],
   "source": [
    "class_means, class_95, class_100, class_105 = [], [], [], []\n",
    "for c in range(len(np.unique(y_train))):\n",
    "    examples_of_class = np.where(y_train == c)[0]\n",
    "    class_means.append(np.mean(encoding_X_train[examples_of_class], axis = 0))\n",
    "    class_95.append(np.percentile(np.sqrt(np.sum(encoding_X_train[examples_of_class] ** 2, axis = 1)), 95))\n",
    "    class_100.append(np.percentile(np.sqrt(np.sum(encoding_X_train[examples_of_class] ** 2, axis = 1)), 100))\n",
    "    class_105.append(class_100[-1] + (class_100[-1] - class_95[-1]))"
   ]
  },
  {
   "cell_type": "code",
   "execution_count": 203,
   "id": "d1cf20bf",
   "metadata": {},
   "outputs": [
    {
     "name": "stderr",
     "output_type": "stream",
     "text": [
      "100%|███████████████████████████████████████████████████████████████████████████████████████████████████████████████████████████████████████████████████████████████████████████████████████████████████████████████████████████████████████████| 10/10 [00:00<00:00, 14.26it/s]\n"
     ]
    }
   ],
   "source": [
    "from scipy.stats import multivariate_normal as mv\n",
    "vos_samples = []\n",
    "for c in tqdm(range(len(np.unique(y_train)))):\n",
    "    examples_of_class = np.where(y_train == c)[0]\n",
    "    vos_samples_of_class = mv.rvs(mean = 0, cov = 1, size = (int(len(examples_of_class) / 3), np.shape(encoding_X_train)[1]))\n",
    "    vos_samples_of_class = vos_samples_of_class / np.linalg.norm(vos_samples_of_class, axis =1)[:, np.newaxis]\n",
    "    magnitudes = np.random.uniform(class_95[c], class_105[c], size = len(vos_samples_of_class))\n",
    "    vos_samples_of_class = class_means[c] + vos_samples_of_class * class_105[c]#* magnitudes[:, np.newaxis]\n",
    "    vos_samples.extend(vos_samples_of_class)"
   ]
  },
  {
   "cell_type": "code",
   "execution_count": 204,
   "id": "4726d69a",
   "metadata": {},
   "outputs": [],
   "source": [
    "ood_X_train = np.concatenate([encoding_X_train, vos_samples], axis = 0)\n",
    "ood_y_train = np.concatenate([keras.utils.to_categorical(y_train), np.ones((len(vos_samples), len(np.unique(y_train)))) / len(np.unique(y_train))])"
   ]
  },
  {
   "cell_type": "code",
   "execution_count": 233,
   "id": "1c1872f3",
   "metadata": {},
   "outputs": [
    {
     "name": "stdout",
     "output_type": "stream",
     "text": [
      "Epoch 1/30\n",
      "1875/1875 [==============================] - 7s 3ms/step - loss: 28.0701 - val_loss: 11.4367\n",
      "Epoch 2/30\n",
      "1875/1875 [==============================] - 6s 3ms/step - loss: 2.6400 - val_loss: 9.4665\n",
      "Epoch 3/30\n",
      "1875/1875 [==============================] - 6s 3ms/step - loss: 1.8463 - val_loss: 7.6562\n",
      "Epoch 4/30\n",
      "1875/1875 [==============================] - 6s 3ms/step - loss: 1.3976 - val_loss: 6.4000\n",
      "Epoch 5/30\n",
      "1875/1875 [==============================] - 6s 3ms/step - loss: 1.1441 - val_loss: 5.4389\n",
      "Epoch 6/30\n",
      "1875/1875 [==============================] - 6s 3ms/step - loss: 0.9735 - val_loss: 4.6555\n",
      "Epoch 7/30\n",
      "1875/1875 [==============================] - 6s 3ms/step - loss: 0.8325 - val_loss: 4.0788\n",
      "Epoch 8/30\n",
      "1875/1875 [==============================] - 6s 3ms/step - loss: 0.7422 - val_loss: 3.4799\n",
      "Epoch 9/30\n",
      "1875/1875 [==============================] - 6s 3ms/step - loss: 0.6926 - val_loss: 3.2775\n",
      "Epoch 10/30\n",
      "1875/1875 [==============================] - 6s 3ms/step - loss: 0.6621 - val_loss: 3.0303\n",
      "Epoch 11/30\n",
      "1875/1875 [==============================] - 6s 3ms/step - loss: 0.6587 - val_loss: 2.9706\n",
      "Epoch 12/30\n",
      "1875/1875 [==============================] - 6s 3ms/step - loss: 0.6486 - val_loss: 2.9519\n",
      "Epoch 13/30\n",
      "1875/1875 [==============================] - 6s 3ms/step - loss: 0.6412 - val_loss: 2.9856\n",
      "Epoch 14/30\n",
      "1875/1875 [==============================] - 6s 3ms/step - loss: 0.6374 - val_loss: 2.9788\n",
      "Epoch 15/30\n",
      "1875/1875 [==============================] - 6s 3ms/step - loss: 0.6306 - val_loss: 2.9480\n",
      "Epoch 16/30\n",
      "1875/1875 [==============================] - 6s 3ms/step - loss: 0.6316 - val_loss: 2.9248\n",
      "Epoch 17/30\n",
      "1875/1875 [==============================] - 6s 3ms/step - loss: 0.6297 - val_loss: 2.9649\n",
      "Epoch 18/30\n",
      "1875/1875 [==============================] - 6s 3ms/step - loss: 0.6217 - val_loss: 2.9353\n",
      "Epoch 19/30\n",
      "1875/1875 [==============================] - 6s 3ms/step - loss: 0.6157 - val_loss: 2.9443\n",
      "Epoch 20/30\n",
      "1875/1875 [==============================] - 6s 3ms/step - loss: 0.6193 - val_loss: 2.9332\n",
      "Epoch 21/30\n",
      "1119/1875 [================>.............] - ETA: 2s - loss: 0.6214"
     ]
    },
    {
     "ename": "KeyboardInterrupt",
     "evalue": "",
     "output_type": "error",
     "traceback": [
      "\u001b[0;31m---------------------------------------------------------------------------\u001b[0m",
      "\u001b[0;31mKeyboardInterrupt\u001b[0m                         Traceback (most recent call last)",
      "\u001b[0;32m/tmp/ipykernel_31221/3199987703.py\u001b[0m in \u001b[0;36m<cell line: 19>\u001b[0;34m()\u001b[0m\n\u001b[1;32m     17\u001b[0m ood_network.compile(loss='categorical_crossentropy',\n\u001b[1;32m     18\u001b[0m           optimizer=keras.optimizers.Adam(learning_rate=3e-4))\n\u001b[0;32m---> 19\u001b[0;31m ood_network.fit(ood_X_train, ood_y_train, \n\u001b[0m\u001b[1;32m     20\u001b[0m     \u001b[0mepochs\u001b[0m \u001b[0;34m=\u001b[0m \u001b[0;36m30\u001b[0m\u001b[0;34m,\u001b[0m\u001b[0;34m\u001b[0m\u001b[0;34m\u001b[0m\u001b[0m\n\u001b[1;32m     21\u001b[0m     \u001b[0mverbose\u001b[0m \u001b[0;34m=\u001b[0m \u001b[0;36m1\u001b[0m\u001b[0;34m,\u001b[0m\u001b[0;34m\u001b[0m\u001b[0;34m\u001b[0m\u001b[0m\n",
      "\u001b[0;32m~/anaconda3/envs/tensorflow2_p38/lib/python3.8/site-packages/keras/utils/traceback_utils.py\u001b[0m in \u001b[0;36merror_handler\u001b[0;34m(*args, **kwargs)\u001b[0m\n\u001b[1;32m     62\u001b[0m     \u001b[0mfiltered_tb\u001b[0m \u001b[0;34m=\u001b[0m \u001b[0;32mNone\u001b[0m\u001b[0;34m\u001b[0m\u001b[0;34m\u001b[0m\u001b[0m\n\u001b[1;32m     63\u001b[0m     \u001b[0;32mtry\u001b[0m\u001b[0;34m:\u001b[0m\u001b[0;34m\u001b[0m\u001b[0;34m\u001b[0m\u001b[0m\n\u001b[0;32m---> 64\u001b[0;31m       \u001b[0;32mreturn\u001b[0m \u001b[0mfn\u001b[0m\u001b[0;34m(\u001b[0m\u001b[0;34m*\u001b[0m\u001b[0margs\u001b[0m\u001b[0;34m,\u001b[0m \u001b[0;34m**\u001b[0m\u001b[0mkwargs\u001b[0m\u001b[0;34m)\u001b[0m\u001b[0;34m\u001b[0m\u001b[0;34m\u001b[0m\u001b[0m\n\u001b[0m\u001b[1;32m     65\u001b[0m     \u001b[0;32mexcept\u001b[0m \u001b[0mException\u001b[0m \u001b[0;32mas\u001b[0m \u001b[0me\u001b[0m\u001b[0;34m:\u001b[0m  \u001b[0;31m# pylint: disable=broad-except\u001b[0m\u001b[0;34m\u001b[0m\u001b[0;34m\u001b[0m\u001b[0m\n\u001b[1;32m     66\u001b[0m       \u001b[0mfiltered_tb\u001b[0m \u001b[0;34m=\u001b[0m \u001b[0m_process_traceback_frames\u001b[0m\u001b[0;34m(\u001b[0m\u001b[0me\u001b[0m\u001b[0;34m.\u001b[0m\u001b[0m__traceback__\u001b[0m\u001b[0;34m)\u001b[0m\u001b[0;34m\u001b[0m\u001b[0;34m\u001b[0m\u001b[0m\n",
      "\u001b[0;32m~/anaconda3/envs/tensorflow2_p38/lib/python3.8/site-packages/keras/engine/training.py\u001b[0m in \u001b[0;36mfit\u001b[0;34m(self, x, y, batch_size, epochs, verbose, callbacks, validation_split, validation_data, shuffle, class_weight, sample_weight, initial_epoch, steps_per_epoch, validation_steps, validation_batch_size, validation_freq, max_queue_size, workers, use_multiprocessing)\u001b[0m\n\u001b[1;32m   1206\u001b[0m         \u001b[0mcallbacks\u001b[0m\u001b[0;34m.\u001b[0m\u001b[0mon_epoch_begin\u001b[0m\u001b[0;34m(\u001b[0m\u001b[0mepoch\u001b[0m\u001b[0;34m)\u001b[0m\u001b[0;34m\u001b[0m\u001b[0;34m\u001b[0m\u001b[0m\n\u001b[1;32m   1207\u001b[0m         \u001b[0;32mwith\u001b[0m \u001b[0mdata_handler\u001b[0m\u001b[0;34m.\u001b[0m\u001b[0mcatch_stop_iteration\u001b[0m\u001b[0;34m(\u001b[0m\u001b[0;34m)\u001b[0m\u001b[0;34m:\u001b[0m\u001b[0;34m\u001b[0m\u001b[0;34m\u001b[0m\u001b[0m\n\u001b[0;32m-> 1208\u001b[0;31m           \u001b[0;32mfor\u001b[0m \u001b[0mstep\u001b[0m \u001b[0;32min\u001b[0m \u001b[0mdata_handler\u001b[0m\u001b[0;34m.\u001b[0m\u001b[0msteps\u001b[0m\u001b[0;34m(\u001b[0m\u001b[0;34m)\u001b[0m\u001b[0;34m:\u001b[0m\u001b[0;34m\u001b[0m\u001b[0;34m\u001b[0m\u001b[0m\n\u001b[0m\u001b[1;32m   1209\u001b[0m             with tf.profiler.experimental.Trace(\n\u001b[1;32m   1210\u001b[0m                 \u001b[0;34m'train'\u001b[0m\u001b[0;34m,\u001b[0m\u001b[0;34m\u001b[0m\u001b[0;34m\u001b[0m\u001b[0m\n",
      "\u001b[0;32m~/anaconda3/envs/tensorflow2_p38/lib/python3.8/site-packages/keras/engine/data_adapter.py\u001b[0m in \u001b[0;36msteps\u001b[0;34m(self)\u001b[0m\n\u001b[1;32m   1248\u001b[0m       \u001b[0;32mif\u001b[0m \u001b[0mself\u001b[0m\u001b[0;34m.\u001b[0m\u001b[0m_insufficient_data\u001b[0m\u001b[0;34m:\u001b[0m  \u001b[0;31m# Set by `catch_stop_iteration`.\u001b[0m\u001b[0;34m\u001b[0m\u001b[0;34m\u001b[0m\u001b[0m\n\u001b[1;32m   1249\u001b[0m         \u001b[0;32mbreak\u001b[0m\u001b[0;34m\u001b[0m\u001b[0;34m\u001b[0m\u001b[0m\n\u001b[0;32m-> 1250\u001b[0;31m       \u001b[0moriginal_spe\u001b[0m \u001b[0;34m=\u001b[0m \u001b[0mself\u001b[0m\u001b[0;34m.\u001b[0m\u001b[0m_steps_per_execution\u001b[0m\u001b[0;34m.\u001b[0m\u001b[0mnumpy\u001b[0m\u001b[0;34m(\u001b[0m\u001b[0;34m)\u001b[0m\u001b[0;34m.\u001b[0m\u001b[0mitem\u001b[0m\u001b[0;34m(\u001b[0m\u001b[0;34m)\u001b[0m\u001b[0;34m\u001b[0m\u001b[0;34m\u001b[0m\u001b[0m\n\u001b[0m\u001b[1;32m   1251\u001b[0m       can_run_full_execution = (\n\u001b[1;32m   1252\u001b[0m           \u001b[0moriginal_spe\u001b[0m \u001b[0;34m==\u001b[0m \u001b[0;36m1\u001b[0m \u001b[0;32mor\u001b[0m\u001b[0;34m\u001b[0m\u001b[0;34m\u001b[0m\u001b[0m\n",
      "\u001b[0;32m~/anaconda3/envs/tensorflow2_p38/lib/python3.8/site-packages/tensorflow/python/ops/resource_variable_ops.py\u001b[0m in \u001b[0;36mnumpy\u001b[0;34m(self)\u001b[0m\n\u001b[1;32m    643\u001b[0m   \u001b[0;32mdef\u001b[0m \u001b[0mnumpy\u001b[0m\u001b[0;34m(\u001b[0m\u001b[0mself\u001b[0m\u001b[0;34m)\u001b[0m\u001b[0;34m:\u001b[0m\u001b[0;34m\u001b[0m\u001b[0;34m\u001b[0m\u001b[0m\n\u001b[1;32m    644\u001b[0m     \u001b[0;32mif\u001b[0m \u001b[0mcontext\u001b[0m\u001b[0;34m.\u001b[0m\u001b[0mexecuting_eagerly\u001b[0m\u001b[0;34m(\u001b[0m\u001b[0;34m)\u001b[0m\u001b[0;34m:\u001b[0m\u001b[0;34m\u001b[0m\u001b[0;34m\u001b[0m\u001b[0m\n\u001b[0;32m--> 645\u001b[0;31m       \u001b[0;32mreturn\u001b[0m \u001b[0mself\u001b[0m\u001b[0;34m.\u001b[0m\u001b[0mread_value\u001b[0m\u001b[0;34m(\u001b[0m\u001b[0;34m)\u001b[0m\u001b[0;34m.\u001b[0m\u001b[0mnumpy\u001b[0m\u001b[0;34m(\u001b[0m\u001b[0;34m)\u001b[0m\u001b[0;34m\u001b[0m\u001b[0;34m\u001b[0m\u001b[0m\n\u001b[0m\u001b[1;32m    646\u001b[0m     raise NotImplementedError(\n\u001b[1;32m    647\u001b[0m         \"numpy() is only available when eager execution is enabled.\")\n",
      "\u001b[0;32m~/anaconda3/envs/tensorflow2_p38/lib/python3.8/site-packages/tensorflow/python/framework/ops.py\u001b[0m in \u001b[0;36mnumpy\u001b[0;34m(self)\u001b[0m\n\u001b[1;32m   1147\u001b[0m     \"\"\"\n\u001b[1;32m   1148\u001b[0m     \u001b[0;31m# TODO(slebedev): Consider avoiding a copy for non-CPU or remote tensors.\u001b[0m\u001b[0;34m\u001b[0m\u001b[0;34m\u001b[0m\u001b[0;34m\u001b[0m\u001b[0m\n\u001b[0;32m-> 1149\u001b[0;31m     \u001b[0mmaybe_arr\u001b[0m \u001b[0;34m=\u001b[0m \u001b[0mself\u001b[0m\u001b[0;34m.\u001b[0m\u001b[0m_numpy\u001b[0m\u001b[0;34m(\u001b[0m\u001b[0;34m)\u001b[0m  \u001b[0;31m# pylint: disable=protected-access\u001b[0m\u001b[0;34m\u001b[0m\u001b[0;34m\u001b[0m\u001b[0m\n\u001b[0m\u001b[1;32m   1150\u001b[0m     \u001b[0;32mreturn\u001b[0m \u001b[0mmaybe_arr\u001b[0m\u001b[0;34m.\u001b[0m\u001b[0mcopy\u001b[0m\u001b[0;34m(\u001b[0m\u001b[0;34m)\u001b[0m \u001b[0;32mif\u001b[0m \u001b[0misinstance\u001b[0m\u001b[0;34m(\u001b[0m\u001b[0mmaybe_arr\u001b[0m\u001b[0;34m,\u001b[0m \u001b[0mnp\u001b[0m\u001b[0;34m.\u001b[0m\u001b[0mndarray\u001b[0m\u001b[0;34m)\u001b[0m \u001b[0;32melse\u001b[0m \u001b[0mmaybe_arr\u001b[0m\u001b[0;34m\u001b[0m\u001b[0;34m\u001b[0m\u001b[0m\n\u001b[1;32m   1151\u001b[0m \u001b[0;34m\u001b[0m\u001b[0m\n",
      "\u001b[0;32m~/anaconda3/envs/tensorflow2_p38/lib/python3.8/site-packages/tensorflow/python/framework/ops.py\u001b[0m in \u001b[0;36m_numpy\u001b[0;34m(self)\u001b[0m\n\u001b[1;32m   1113\u001b[0m   \u001b[0;32mdef\u001b[0m \u001b[0m_numpy\u001b[0m\u001b[0;34m(\u001b[0m\u001b[0mself\u001b[0m\u001b[0;34m)\u001b[0m\u001b[0;34m:\u001b[0m\u001b[0;34m\u001b[0m\u001b[0;34m\u001b[0m\u001b[0m\n\u001b[1;32m   1114\u001b[0m     \u001b[0;32mtry\u001b[0m\u001b[0;34m:\u001b[0m\u001b[0;34m\u001b[0m\u001b[0;34m\u001b[0m\u001b[0m\n\u001b[0;32m-> 1115\u001b[0;31m       \u001b[0;32mreturn\u001b[0m \u001b[0mself\u001b[0m\u001b[0;34m.\u001b[0m\u001b[0m_numpy_internal\u001b[0m\u001b[0;34m(\u001b[0m\u001b[0;34m)\u001b[0m\u001b[0;34m\u001b[0m\u001b[0;34m\u001b[0m\u001b[0m\n\u001b[0m\u001b[1;32m   1116\u001b[0m     \u001b[0;32mexcept\u001b[0m \u001b[0mcore\u001b[0m\u001b[0;34m.\u001b[0m\u001b[0m_NotOkStatusException\u001b[0m \u001b[0;32mas\u001b[0m \u001b[0me\u001b[0m\u001b[0;34m:\u001b[0m  \u001b[0;31m# pylint: disable=protected-access\u001b[0m\u001b[0;34m\u001b[0m\u001b[0;34m\u001b[0m\u001b[0m\n\u001b[1;32m   1117\u001b[0m       \u001b[0;32mraise\u001b[0m \u001b[0mcore\u001b[0m\u001b[0;34m.\u001b[0m\u001b[0m_status_to_exception\u001b[0m\u001b[0;34m(\u001b[0m\u001b[0me\u001b[0m\u001b[0;34m)\u001b[0m \u001b[0;32mfrom\u001b[0m \u001b[0;32mNone\u001b[0m  \u001b[0;31m# pylint: disable=protected-access\u001b[0m\u001b[0;34m\u001b[0m\u001b[0;34m\u001b[0m\u001b[0m\n",
      "\u001b[0;31mKeyboardInterrupt\u001b[0m: "
     ]
    }
   ],
   "source": [
    "import tensorflow as tf\n",
    "x = keras.layers.Dense(100, activation = 'relu')(enc)\n",
    "#x = keras.layers.Dropout(0.5)(x)\n",
    "x = keras.layers.BatchNormalization()(x)\n",
    "pre_temperature = keras.layers.Dense(units = 1, activation = 'linear')(x)\n",
    "#temperature = keras.layers.Lambda(lambda v : keras.activations.sigmoid(v) * 10)(pre_temperature)\n",
    "#custom loss. We want the temperature to be unbounded on the positive side (and therefore when the pretemperature is greater than 0, it's unbounded; \n",
    "#but we also need to make sure the temperature is never negative - so we don't get infinite logits. So we do an exponentially decaying activation on the negative side)\n",
    "temperature = keras.layers.Activation(lambda v : tf.where(v < 0, keras.activations.exponential(v), 1 + keras.activations.linear(v)))(pre_temperature)\n",
    "ood_cls_logits = keras.layers.Lambda(lambda inputs: inputs[0] / inputs[1])([cls_logits, temperature])\n",
    "ood_cls_out = keras.layers.Activation('softmax')(ood_cls_logits)\n",
    "\n",
    "temperature_model = keras.models.Model(inputs = enc, outputs = temperature)\n",
    "ood_network = keras.models.Model(inputs = enc, outputs = ood_cls_out)\n",
    "for layer in network.layers:\n",
    "    layer.trainable = False\n",
    "ood_network.compile(loss='categorical_crossentropy',\n",
    "          optimizer=keras.optimizers.Adam(learning_rate=3e-4))\n",
    "ood_network.fit(ood_X_train, ood_y_train, \n",
    "    epochs = 30,\n",
    "    verbose = 1,\n",
    "    validation_split = .1)"
   ]
  },
  {
   "cell_type": "code",
   "execution_count": 234,
   "id": "c81cac4b",
   "metadata": {},
   "outputs": [
    {
     "name": "stdout",
     "output_type": "stream",
     "text": [
      "In Distribution Temperature:  1.44436\n"
     ]
    }
   ],
   "source": [
    "t = temperature_model.predict(encoding_X_train)\n",
    "print(\"In Distribution Temperature: \", np.mean(t))"
   ]
  },
  {
   "cell_type": "code",
   "execution_count": 235,
   "id": "0a96cbab",
   "metadata": {},
   "outputs": [
    {
     "name": "stdout",
     "output_type": "stream",
     "text": [
      "OOD Temperature (we want this to be much higher than the in distribution temperature):  18.156837\n"
     ]
    }
   ],
   "source": [
    "t = temperature_model.predict(np.array(vos_samples))\n",
    "print(\"OOD Temperature (we want this to be much higher than the in distribution temperature): \", np.mean(t))"
   ]
  },
  {
   "cell_type": "code",
   "execution_count": 236,
   "id": "cd0d1518",
   "metadata": {},
   "outputs": [
    {
     "name": "stdout",
     "output_type": "stream",
     "text": [
      "Temperature Deflated OOD Confidence Average (we want this to be really low):  0.3315894\n"
     ]
    }
   ],
   "source": [
    "pred = ood_network.predict(np.array(vos_samples))\n",
    "print(\"Temperature Deflated OOD Confidence Average (we want this to be really low): \", np.mean(np.max(pred, axis = 1)))"
   ]
  },
  {
   "cell_type": "code",
   "execution_count": 237,
   "id": "c29e7023",
   "metadata": {},
   "outputs": [
    {
     "name": "stdout",
     "output_type": "stream",
     "text": [
      "Temperature Deflated In-Distribution Confidence Average:  0.8927313\n"
     ]
    }
   ],
   "source": [
    "pred = ood_network.predict(encoding_X_train)\n",
    "print(\"Temperature Deflated In-Distribution Confidence Average: \", np.mean(np.max(pred, axis = 1)))"
   ]
  },
  {
   "cell_type": "code",
   "execution_count": 238,
   "id": "2a14f2ea",
   "metadata": {},
   "outputs": [
    {
     "name": "stdout",
     "output_type": "stream",
     "text": [
      "Unaffected Model OOD Confidence Average (this being high shows networks are overconfident OOD):  0.918663\n"
     ]
    }
   ],
   "source": [
    "pred = keras.models.Model(inputs = enc, outputs = cls_out).predict(np.array(vos_samples))\n",
    "print(\"Unaffected Model OOD Confidence Average (this being high shows networks are overconfident OOD): \", np.mean(np.max(pred, axis = 1)))"
   ]
  },
  {
   "cell_type": "code",
   "execution_count": 239,
   "id": "6d69df2b",
   "metadata": {},
   "outputs": [
    {
     "name": "stdout",
     "output_type": "stream",
     "text": [
      "Unaffected Model In-Distribution Confidence Average:  0.9479082\n"
     ]
    }
   ],
   "source": [
    "pred = network.predict(X_train)\n",
    "print(\"Unaffected Model In-Distribution Confidence Average: \", np.mean(np.max(pred, axis = 1)))"
   ]
  },
  {
   "cell_type": "code",
   "execution_count": 240,
   "id": "6e999d3b",
   "metadata": {},
   "outputs": [],
   "source": [
    "def get_ece(confidences, correctness):\n",
    "    hists = []\n",
    "    hists_hat = []\n",
    "    amts = []\n",
    "    num_bins = 100\n",
    "    for i in range(num_bins):\n",
    "        prop = i*1./num_bins\n",
    "        inds = np.where((confidences >= prop) & (confidences <= prop+1./num_bins))[0]\n",
    "        amts.append(len(inds))\n",
    "        if len(inds) > 0:\n",
    "            hists.append(len(np.where(correctness[inds] == 1)[0])*1./len(inds))\n",
    "            hists_hat.append(np.mean(confidences[inds]))\n",
    "        else:\n",
    "            hists.append(prop)\n",
    "            hists_hat.append(prop + 0.5/num_bins)\n",
    "    return np.sum(np.abs(np.array(hists) - np.array(hists_hat)) * np.array(amts)) / np.sum(amts)"
   ]
  },
  {
   "cell_type": "code",
   "execution_count": 241,
   "id": "f99bd583",
   "metadata": {},
   "outputs": [
    {
     "name": "stdout",
     "output_type": "stream",
     "text": [
      "0.8337373679084153\n"
     ]
    },
    {
     "data": {
      "text/plain": [
       "0.02842556630767591"
      ]
     },
     "execution_count": 241,
     "metadata": {},
     "output_type": "execute_result"
    }
   ],
   "source": [
    "from sklearn.metrics import roc_auc_score, accuracy_score\n",
    "pred = network.predict(X_test)\n",
    "\n",
    "print(roc_auc_score(np.argmax(pred, axis = 1) == y_test, np.max(pred, axis = 1)))\n",
    "class_eces = []\n",
    "for j in range(len(np.unique(y_train))):\n",
    "    class_eces.append(get_ece(np.array(pred)[:, j], y_test == j))\n",
    "np.mean(class_eces)"
   ]
  },
  {
   "cell_type": "code",
   "execution_count": 242,
   "id": "955ac433",
   "metadata": {},
   "outputs": [
    {
     "name": "stdout",
     "output_type": "stream",
     "text": [
      "0.8334599177290059\n"
     ]
    },
    {
     "data": {
      "text/plain": [
       "0.018906922909779533"
      ]
     },
     "execution_count": 242,
     "metadata": {},
     "output_type": "execute_result"
    }
   ],
   "source": [
    "pred = ood_network.predict(encoding_X_test)\n",
    "print(roc_auc_score(np.argmax(pred, axis = 1) == y_test, np.max(pred, axis = 1)))\n",
    "class_eces = []\n",
    "for j in range(len(np.unique(y_train))):\n",
    "    class_eces.append(get_ece(np.array(pred)[:, j], y_test == j))\n",
    "np.mean(class_eces)"
   ]
  },
  {
   "cell_type": "code",
   "execution_count": 243,
   "id": "663b0d5b",
   "metadata": {},
   "outputs": [],
   "source": [
    "ood_scores_test = temperature_model.predict(encoding_X_test)[:, 0]"
   ]
  },
  {
   "cell_type": "code",
   "execution_count": 244,
   "id": "7dd3bf8e",
   "metadata": {},
   "outputs": [],
   "source": [
    "model_predictions = network.predict(X_test)\n",
    "ood_model_predictions = ood_network.predict(encoding_X_test)"
   ]
  },
  {
   "cell_type": "code",
   "execution_count": 252,
   "id": "e75a984b",
   "metadata": {},
   "outputs": [],
   "source": [
    "num_intervals = 5"
   ]
  },
  {
   "cell_type": "code",
   "execution_count": 253,
   "id": "9423db2d",
   "metadata": {},
   "outputs": [],
   "source": [
    "#z_scores = p_label_error / (variance_confidences + 1e-12)\n",
    "from sklearn.metrics import average_precision_score\n",
    "order = np.argsort(ood_scores_test)[::-1]\n",
    "ps = []\n",
    "accs = []\n",
    "base_eces = []\n",
    "ood_model_eces = []\n",
    "\n",
    "for i in range(0, len(y_test), int(len(y_test) / num_intervals)):\n",
    "    class_eces = []\n",
    "    for j in range(len(np.unique(y_train))):\n",
    "        class_eces.append(get_ece(np.array(model_predictions)[order[i:i + int(len(y_test) / num_intervals)], j], (y_test[order[i:i + int(len(y_test) / num_intervals)]] == j)))\n",
    "    base_eces.append(np.median(class_eces))\n",
    "\n",
    "    class_eces = []\n",
    "    for j in range(len(np.unique(y_train))):\n",
    "        class_eces.append(get_ece(np.array(ood_model_predictions)[order[i:i + int(len(y_test) / num_intervals)], j], (y_test[order[i:i + int(len(y_test) / num_intervals)]] == j)))\n",
    "    ood_model_eces.append(np.median(class_eces))"
   ]
  },
  {
   "cell_type": "code",
   "execution_count": 256,
   "id": "e0226f17",
   "metadata": {},
   "outputs": [
    {
     "data": {
      "text/plain": [
       "<matplotlib.legend.Legend at 0x7f4ee437cfa0>"
      ]
     },
     "execution_count": 256,
     "metadata": {},
     "output_type": "execute_result"
    },
    {
     "data": {
      "image/png": "[encoded data removed]",
      "text/plain": [
       "<Figure size 432x288 with 1 Axes>"
      ]
     },
     "metadata": {
      "needs_background": "light"
     },
     "output_type": "display_data"
    }
   ],
   "source": [
    "import matplotlib.pyplot as plt\n",
    "plt.plot(ood_scores_test[order[np.arange(0, len(y_test), int(len(y_test) / num_intervals))]], base_eces, label = \"Unchanged Model\")\n",
    "#plt.plot(np.arange(0, len(y_test), int(len(y_test) / num_intervals)) / len(y_test), base_eces, label = \"Unchanged Model\")\n",
    "plt.plot(ood_scores_test[order[np.arange(0, len(y_test), int(len(y_test) / num_intervals))]], ood_model_eces, label = \"Penultimate-Dependent Temperature Deflation Model\")\n",
    "#plt.plot(np.arange(0, len(y_test), int(len(y_test) / num_intervals)) / len(y_test), ood_model_eces, label = \"Penultimate-Dependent Temperature Deflation Model\")\n",
    "plt.xlabel(\"Temperature\")\n",
    "plt.ylabel(\"ECE Of Accepted Points\")\n",
    "plt.legend()"
   ]
  },
  {
   "cell_type": "markdown",
   "id": "bccad4da",
   "metadata": {},
   "source": [
    "The blue line increasing shows that when temperature i\n",
    "The orange line being lower shows that this penultimate-dependent temperature lowers ECE, which is potentially lowered even further by training to uniform confidence on the Virtual Outliers"
   ]
  }
 ],
 "metadata": {
  "kernelspec": {
   "display_name": "Environment (conda_tensorflow2_p38)",
   "language": "python",
   "name": "conda_tensorflow2_p38"
  },
  "language_info": {
   "codemirror_mode": {
    "name": "ipython",
    "version": 3
   },
   "file_extension": ".py",
   "mimetype": "text/x-python",
   "name": "python",
   "nbconvert_exporter": "python",
   "pygments_lexer": "ipython3",
   "version": "3.8.12"
  }
 },
 "nbformat": 4,
 "nbformat_minor": 5
}
