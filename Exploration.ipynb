{
 "cells": [
  {
   "cell_type": "code",
   "execution_count": 881,
   "id": "92ee4926",
   "metadata": {},
   "outputs": [],
   "source": [
    "import tensorflow.keras as keras\n",
    "from tensorflow.keras.callbacks import ModelCheckpoint, EarlyStopping\n",
    "import numpy as np\n",
    "from tqdm import tqdm\n",
    "from scipy.stats import multivariate_normal\n",
    "\n",
    "(X_train, y_train), (X_test, y_test) = keras.datasets.cifar10.load_data()\n",
    "y_train, y_test = y_train[:, 0], y_test[:, 0]"
   ]
  },
  {
   "cell_type": "code",
   "execution_count": 882,
   "id": "a04e9b45",
   "metadata": {},
   "outputs": [
    {
     "name": "stderr",
     "output_type": "stream",
     "text": [
      "100%|█████████████████████████████████████████████████████████████████████████████████████████████████████████████████████████████████████████████████████████████████████████████████████████████████████████████████████████████████████| 3000/3000 [00:02<00:00, 1017.37it/s]\n"
     ]
    },
    {
     "data": {
      "text/plain": [
       "'\\nindices_of_ood_subclasses = np.where(y_train >= 2)[0]\\nindices_of_ood_subclasses = np.random.choice(indices_of_ood_subclasses, int(len(X_train) / 20))\\nX_ood = X_train[indices_of_ood_subclasses]\\n'"
      ]
     },
     "execution_count": 882,
     "metadata": {},
     "output_type": "execute_result"
    }
   ],
   "source": [
    "\n",
    "from skimage.transform import resize\n",
    "(X_ood, _), _ = keras.datasets.mnist.load_data()\n",
    "\n",
    "X_ood = X_ood[np.random.choice(range(len(X_ood)), int(len(X_ood) / 20))]\n",
    "\n",
    "_X_ood = np.zeros((len(X_ood), 28, 28, 3))\n",
    "\n",
    "for k in range(3):\n",
    "    _X_ood[:, :, :, k] = X_ood\n",
    "\n",
    "X_ood = np.array([resize(_X_ood[i], (32, 32)) for i in tqdm(range(len(X_ood)))])\n",
    "'''\n",
    "indices_of_ood_subclasses = np.where(y_train >= 2)[0]\n",
    "indices_of_ood_subclasses = np.random.choice(indices_of_ood_subclasses, int(len(X_train) / 20))\n",
    "X_ood = X_train[indices_of_ood_subclasses]\n",
    "'''"
   ]
  },
  {
   "cell_type": "code",
   "execution_count": 883,
   "id": "9d65d281",
   "metadata": {},
   "outputs": [],
   "source": [
    "\n",
    "indices_of_subclasses = np.where(y_train < 2)[0]\n",
    "X_train, y_train = X_train[indices_of_subclasses], y_train[indices_of_subclasses]\n",
    "\n",
    "#random_indices = np.random.choice(range(len(y_test)), 1000, replace = False)\n",
    "#X_train, y_train = X_train[random_indices], y_train[random_indices]\n",
    "#random_indices = np.random.choice(range(len(y_test)), 500, replace = False)\n",
    "#X_test, y_test = X_test[random_indices], y_test[random_indices]\n",
    "indices_of_subclasses = np.where(y_test < 2)[0]\n",
    "X_test, y_test = X_test[indices_of_subclasses], y_test[indices_of_subclasses]"
   ]
  },
  {
   "cell_type": "code",
   "execution_count": 853,
   "id": "f9814712",
   "metadata": {},
   "outputs": [
    {
     "name": "stdout",
     "output_type": "stream",
     "text": [
      "Epoch 1/15\n",
      "282/282 [==============================] - 3s 7ms/step - loss: 0.4220 - acc: 0.8390 - val_loss: 0.2752 - val_acc: 0.8940\n",
      "Epoch 2/15\n",
      "282/282 [==============================] - 2s 6ms/step - loss: 0.2629 - acc: 0.8941 - val_loss: 0.2585 - val_acc: 0.9110\n",
      "Epoch 3/15\n",
      "282/282 [==============================] - 2s 6ms/step - loss: 0.2033 - acc: 0.9196 - val_loss: 0.1916 - val_acc: 0.9280\n",
      "Epoch 4/15\n",
      "282/282 [==============================] - 2s 6ms/step - loss: 0.1647 - acc: 0.9394 - val_loss: 0.2218 - val_acc: 0.9110\n",
      "Epoch 5/15\n",
      "282/282 [==============================] - 2s 6ms/step - loss: 0.1304 - acc: 0.9491 - val_loss: 0.1646 - val_acc: 0.9370\n",
      "Epoch 6/15\n",
      "282/282 [==============================] - 2s 6ms/step - loss: 0.1195 - acc: 0.9529 - val_loss: 0.1653 - val_acc: 0.9380\n",
      "Epoch 7/15\n",
      "282/282 [==============================] - 2s 6ms/step - loss: 0.0988 - acc: 0.9616 - val_loss: 0.1659 - val_acc: 0.9400\n",
      "Epoch 8/15\n",
      "282/282 [==============================] - 2s 6ms/step - loss: 0.0890 - acc: 0.9637 - val_loss: 0.2358 - val_acc: 0.9210\n",
      "Epoch 9/15\n",
      "282/282 [==============================] - 2s 6ms/step - loss: 0.0860 - acc: 0.9692 - val_loss: 0.1612 - val_acc: 0.9420\n",
      "Epoch 10/15\n",
      "282/282 [==============================] - 2s 6ms/step - loss: 0.0821 - acc: 0.9691 - val_loss: 0.1435 - val_acc: 0.9470\n",
      "Epoch 11/15\n",
      "282/282 [==============================] - 2s 6ms/step - loss: 0.0623 - acc: 0.9774 - val_loss: 0.1721 - val_acc: 0.9380\n",
      "Epoch 12/15\n",
      "282/282 [==============================] - 2s 6ms/step - loss: 0.0519 - acc: 0.9807 - val_loss: 0.1526 - val_acc: 0.9550\n",
      "Epoch 13/15\n",
      "282/282 [==============================] - 2s 6ms/step - loss: 0.0552 - acc: 0.9793 - val_loss: 0.1888 - val_acc: 0.9440\n",
      "Epoch 14/15\n",
      "282/282 [==============================] - 2s 6ms/step - loss: 0.0520 - acc: 0.9822 - val_loss: 0.1583 - val_acc: 0.9450\n",
      "Epoch 15/15\n",
      "282/282 [==============================] - 2s 6ms/step - loss: 0.0510 - acc: 0.9796 - val_loss: 0.1929 - val_acc: 0.9320\n"
     ]
    },
    {
     "data": {
      "text/plain": [
       "<keras.callbacks.History at 0x7fe0fe4321c0>"
      ]
     },
     "execution_count": 853,
     "metadata": {},
     "output_type": "execute_result"
    }
   ],
   "source": [
    "#load and train model \n",
    "inp = keras.layers.Input(np.shape(X_train)[1:])\n",
    "\n",
    "x = keras.layers.Conv2D(filters=32, kernel_size=(3, 3), activation='relu')(inp)\n",
    "x = keras.layers.MaxPooling2D()(x)\n",
    "x = keras.layers.BatchNormalization()(x)\n",
    "x = keras.layers.Dropout(0.2)(x)\n",
    "x = keras.layers.Conv2D(filters=64, kernel_size=(3, 3), activation='relu')(x)\n",
    "x = keras.layers.MaxPooling2D()(x)\n",
    "x = keras.layers.BatchNormalization()(x)\n",
    "x = keras.layers.Dropout(0.2)(x)\n",
    "x = keras.layers.Flatten()(x)\n",
    "\n",
    "\n",
    "x = keras.layers.Dense(units=1024, activation='relu')(x)\n",
    "x = keras.layers.BatchNormalization()(x)\n",
    "x = keras.layers.Dropout(0.2)(x)\n",
    "x = keras.layers.Dense(units=512, activation='relu')(x)\n",
    "enc = keras.layers.BatchNormalization()(x)\n",
    "x = keras.layers.Dropout(0.2)(x)\n",
    "cls_logits = keras.layers.Dense(units=len(np.unique(y_train)), activation = 'linear')(enc)\n",
    "cls_out = keras.layers.Activation('softmax', name = 'cls_out')(cls_logits)\n",
    "\n",
    "network = keras.models.Model(inputs = inp, outputs = cls_out)\n",
    "encoder = keras.models.Model(inputs = inp, outputs = enc)\n",
    "network.compile(loss='categorical_crossentropy',\n",
    "          optimizer=keras.optimizers.Adam(learning_rate=3e-4),\n",
    "          metrics = ['acc'])\n",
    "network.fit(X_train, keras.utils.to_categorical(y_train), \n",
    "    epochs = 15,\n",
    "    verbose = 1,\n",
    "    validation_split = .1)"
   ]
  },
  {
   "cell_type": "code",
   "execution_count": 854,
   "id": "63ba8a43",
   "metadata": {},
   "outputs": [],
   "source": [
    "encoding_X_train = encoder.predict(X_train).reshape(X_train.shape[0], -1)\n",
    "encoding_X_test = encoder.predict(X_test).reshape(X_test.shape[0], -1)"
   ]
  },
  {
   "cell_type": "code",
   "execution_count": 884,
   "id": "f62b53c7",
   "metadata": {},
   "outputs": [],
   "source": [
    "encoding_X_ood = encoder.predict(X_ood).reshape(X_ood.shape[0], -1)"
   ]
  },
  {
   "cell_type": "code",
   "execution_count": 1073,
   "id": "b08cded2",
   "metadata": {},
   "outputs": [],
   "source": [
    "class_means, class_lower_percentile, class_upper_percentile = [], [], []\n",
    "for c in range(len(np.unique(y_train))):\n",
    "    examples_of_class = np.where(y_train == c)[0]\n",
    "    class_means.append(np.mean(encoding_X_train[examples_of_class], axis = 0))\n",
    "    class_lower_percentile.append(np.percentile(np.sqrt(np.sum((encoding_X_train[examples_of_class] - class_means[c]) ** 2, axis = 1)), 55))\n",
    "    class_upper_percentile.append(np.percentile(np.sqrt(np.sum((encoding_X_train[examples_of_class] - class_means[c]) ** 2, axis = 1)), 100))"
   ]
  },
  {
   "cell_type": "code",
   "execution_count": 1076,
   "id": "2c2f2220",
   "metadata": {},
   "outputs": [
    {
     "name": "stderr",
     "output_type": "stream",
     "text": [
      "\r",
      "  0%|                                                                                                                                                                                                                                                     | 0/2 [00:00<?, ?it/s]"
     ]
    },
    {
     "data": {
      "image/png": "[encoded data removed]",
      "text/plain": [
       "<Figure size 432x288 with 1 Axes>"
      ]
     },
     "metadata": {
      "needs_background": "light"
     },
     "output_type": "display_data"
    },
    {
     "name": "stderr",
     "output_type": "stream",
     "text": [
      "\r",
      " 50%|██████████████████████████████████████████████████████████████████████████████████████████████████████████████████████▌                                                                                                                      | 1/2 [00:00<00:00,  1.94it/s]"
     ]
    },
    {
     "data": {
      "image/png": "[encoded data removed]",
      "text/plain": [
       "<Figure size 432x288 with 1 Axes>"
      ]
     },
     "metadata": {
      "needs_background": "light"
     },
     "output_type": "display_data"
    },
    {
     "name": "stderr",
     "output_type": "stream",
     "text": [
      "100%|█████████████████████████████████████████████████████████████████████████████████████████████████████████████████████████████████████████████████████████████████████████████████████████████████████████████████████████████████████████████| 2/2 [00:01<00:00,  1.95it/s]\n"
     ]
    }
   ],
   "source": [
    "from scipy.stats import multivariate_normal as mv\n",
    "vos_samples = []\n",
    "for c in tqdm(range(len(np.unique(y_train)))):\n",
    "    examples_of_class = np.where(y_train == c)[0]\n",
    "    vos_samples_of_class = mv.rvs(mean = 0, cov = 1, size = (int(len(examples_of_class) / 3), np.shape(encoding_X_train)[1]))\n",
    "    vos_samples_of_class = vos_samples_of_class / np.linalg.norm(vos_samples_of_class, axis =1)[:, np.newaxis]\n",
    "    magnitudes = np.random.uniform(class_lower_percentile[c], class_upper_percentile[c], size = len(vos_samples_of_class))\n",
    "    vos_samples_of_class = class_means[c] + vos_samples_of_class * magnitudes[:, np.newaxis]\n",
    "    non_data_uncertainty_vos_samples_of_class = []\n",
    "    distances = []\n",
    "    for sample in vos_samples_of_class:\n",
    "        is_distant = True\n",
    "        distance = np.inf\n",
    "        for j in range(len(np.unique(y_train))):\n",
    "            if j != c:\n",
    "                distance_from_other_class_center = np.sqrt(np.sum((sample - class_means[j]) ** 2)) / class_lower_percentile[j]\n",
    "                if distance_from_other_class_center < distance:\n",
    "                    distance = distance_from_other_class_center\n",
    "        distances.append(distance)\n",
    "        if distance > 6:\n",
    "            non_data_uncertainty_vos_samples_of_class.append(sample)\n",
    "    plt.hist(distances)\n",
    "    plt.show()\n",
    "    vos_samples.extend(non_data_uncertainty_vos_samples_of_class)"
   ]
  },
  {
   "cell_type": "code",
   "execution_count": 1077,
   "id": "cea9afb1",
   "metadata": {},
   "outputs": [],
   "source": [
    "ood_X_train = np.concatenate([encoding_X_train, vos_samples], axis = 0)\n",
    "ood_y_train = np.concatenate([keras.utils.to_categorical(y_train), np.ones((len(vos_samples), len(np.unique(y_train)))) / len(np.unique(y_train))])"
   ]
  },
  {
   "cell_type": "code",
   "execution_count": 1078,
   "id": "df049d58",
   "metadata": {},
   "outputs": [
    {
     "name": "stdout",
     "output_type": "stream",
     "text": [
      "Epoch 1/30\n",
      "312/312 [==============================] - 3s 5ms/step - loss: 0.0813 - val_loss: 10.7390\n",
      "Epoch 2/30\n",
      "312/312 [==============================] - 1s 4ms/step - loss: 0.0502 - val_loss: 26.1786\n",
      "Epoch 3/30\n",
      "312/312 [==============================] - 1s 4ms/step - loss: 0.0407 - val_loss: 2.4253\n",
      "Epoch 4/30\n",
      "312/312 [==============================] - 1s 4ms/step - loss: 0.0385 - val_loss: 4.5967\n",
      "Epoch 5/30\n",
      "312/312 [==============================] - 1s 4ms/step - loss: 0.0393 - val_loss: 3.1920\n",
      "Epoch 6/30\n",
      "312/312 [==============================] - 1s 4ms/step - loss: 0.0346 - val_loss: 3.6983\n",
      "Epoch 7/30\n",
      "312/312 [==============================] - 1s 4ms/step - loss: 0.0354 - val_loss: 3.7510\n",
      "Epoch 8/30\n",
      "312/312 [==============================] - 1s 4ms/step - loss: 0.0295 - val_loss: 9.7365\n",
      "Epoch 9/30\n",
      "312/312 [==============================] - 1s 4ms/step - loss: 0.0307 - val_loss: 30.4442\n",
      "Epoch 10/30\n",
      "312/312 [==============================] - 1s 4ms/step - loss: 0.0394 - val_loss: 30.0268\n",
      "Epoch 11/30\n",
      "312/312 [==============================] - 1s 4ms/step - loss: 0.0319 - val_loss: 28.1491\n",
      "Epoch 12/30\n",
      "162/312 [==============>...............] - ETA: 0s - loss: 0.0243"
     ]
    },
    {
     "ename": "KeyboardInterrupt",
     "evalue": "",
     "output_type": "error",
     "traceback": [
      "\u001b[0;31m---------------------------------------------------------------------------\u001b[0m",
      "\u001b[0;31mKeyboardInterrupt\u001b[0m                         Traceback (most recent call last)",
      "\u001b[0;32m/tmp/ipykernel_22234/793190387.py\u001b[0m in \u001b[0;36m<cell line: 22>\u001b[0;34m()\u001b[0m\n\u001b[1;32m     20\u001b[0m ood_network.compile(loss='categorical_crossentropy',\n\u001b[1;32m     21\u001b[0m           optimizer=keras.optimizers.Adam(learning_rate=3e-3))\n\u001b[0;32m---> 22\u001b[0;31m ood_network.fit(ood_X_train, ood_y_train, \n\u001b[0m\u001b[1;32m     23\u001b[0m     \u001b[0mepochs\u001b[0m \u001b[0;34m=\u001b[0m \u001b[0;36m30\u001b[0m\u001b[0;34m,\u001b[0m\u001b[0;34m\u001b[0m\u001b[0;34m\u001b[0m\u001b[0m\n\u001b[1;32m     24\u001b[0m     \u001b[0mverbose\u001b[0m \u001b[0;34m=\u001b[0m \u001b[0;36m1\u001b[0m\u001b[0;34m,\u001b[0m\u001b[0;34m\u001b[0m\u001b[0;34m\u001b[0m\u001b[0m\n",
      "\u001b[0;32m~/anaconda3/envs/tensorflow2_p38/lib/python3.8/site-packages/keras/utils/traceback_utils.py\u001b[0m in \u001b[0;36merror_handler\u001b[0;34m(*args, **kwargs)\u001b[0m\n\u001b[1;32m     62\u001b[0m     \u001b[0mfiltered_tb\u001b[0m \u001b[0;34m=\u001b[0m \u001b[0;32mNone\u001b[0m\u001b[0;34m\u001b[0m\u001b[0;34m\u001b[0m\u001b[0m\n\u001b[1;32m     63\u001b[0m     \u001b[0;32mtry\u001b[0m\u001b[0;34m:\u001b[0m\u001b[0;34m\u001b[0m\u001b[0;34m\u001b[0m\u001b[0m\n\u001b[0;32m---> 64\u001b[0;31m       \u001b[0;32mreturn\u001b[0m \u001b[0mfn\u001b[0m\u001b[0;34m(\u001b[0m\u001b[0;34m*\u001b[0m\u001b[0margs\u001b[0m\u001b[0;34m,\u001b[0m \u001b[0;34m**\u001b[0m\u001b[0mkwargs\u001b[0m\u001b[0;34m)\u001b[0m\u001b[0;34m\u001b[0m\u001b[0;34m\u001b[0m\u001b[0m\n\u001b[0m\u001b[1;32m     65\u001b[0m     \u001b[0;32mexcept\u001b[0m \u001b[0mException\u001b[0m \u001b[0;32mas\u001b[0m \u001b[0me\u001b[0m\u001b[0;34m:\u001b[0m  \u001b[0;31m# pylint: disable=broad-except\u001b[0m\u001b[0;34m\u001b[0m\u001b[0;34m\u001b[0m\u001b[0m\n\u001b[1;32m     66\u001b[0m       \u001b[0mfiltered_tb\u001b[0m \u001b[0;34m=\u001b[0m \u001b[0m_process_traceback_frames\u001b[0m\u001b[0;34m(\u001b[0m\u001b[0me\u001b[0m\u001b[0;34m.\u001b[0m\u001b[0m__traceback__\u001b[0m\u001b[0;34m)\u001b[0m\u001b[0;34m\u001b[0m\u001b[0;34m\u001b[0m\u001b[0m\n",
      "\u001b[0;32m~/anaconda3/envs/tensorflow2_p38/lib/python3.8/site-packages/keras/engine/training.py\u001b[0m in \u001b[0;36mfit\u001b[0;34m(self, x, y, batch_size, epochs, verbose, callbacks, validation_split, validation_data, shuffle, class_weight, sample_weight, initial_epoch, steps_per_epoch, validation_steps, validation_batch_size, validation_freq, max_queue_size, workers, use_multiprocessing)\u001b[0m\n\u001b[1;32m   1214\u001b[0m                 _r=1):\n\u001b[1;32m   1215\u001b[0m               \u001b[0mcallbacks\u001b[0m\u001b[0;34m.\u001b[0m\u001b[0mon_train_batch_begin\u001b[0m\u001b[0;34m(\u001b[0m\u001b[0mstep\u001b[0m\u001b[0;34m)\u001b[0m\u001b[0;34m\u001b[0m\u001b[0;34m\u001b[0m\u001b[0m\n\u001b[0;32m-> 1216\u001b[0;31m               \u001b[0mtmp_logs\u001b[0m \u001b[0;34m=\u001b[0m \u001b[0mself\u001b[0m\u001b[0;34m.\u001b[0m\u001b[0mtrain_function\u001b[0m\u001b[0;34m(\u001b[0m\u001b[0miterator\u001b[0m\u001b[0;34m)\u001b[0m\u001b[0;34m\u001b[0m\u001b[0;34m\u001b[0m\u001b[0m\n\u001b[0m\u001b[1;32m   1217\u001b[0m               \u001b[0;32mif\u001b[0m \u001b[0mdata_handler\u001b[0m\u001b[0;34m.\u001b[0m\u001b[0mshould_sync\u001b[0m\u001b[0;34m:\u001b[0m\u001b[0;34m\u001b[0m\u001b[0;34m\u001b[0m\u001b[0m\n\u001b[1;32m   1218\u001b[0m                 \u001b[0mcontext\u001b[0m\u001b[0;34m.\u001b[0m\u001b[0masync_wait\u001b[0m\u001b[0;34m(\u001b[0m\u001b[0;34m)\u001b[0m\u001b[0;34m\u001b[0m\u001b[0;34m\u001b[0m\u001b[0m\n",
      "\u001b[0;32m~/anaconda3/envs/tensorflow2_p38/lib/python3.8/site-packages/tensorflow/python/util/traceback_utils.py\u001b[0m in \u001b[0;36merror_handler\u001b[0;34m(*args, **kwargs)\u001b[0m\n\u001b[1;32m    148\u001b[0m     \u001b[0mfiltered_tb\u001b[0m \u001b[0;34m=\u001b[0m \u001b[0;32mNone\u001b[0m\u001b[0;34m\u001b[0m\u001b[0;34m\u001b[0m\u001b[0m\n\u001b[1;32m    149\u001b[0m     \u001b[0;32mtry\u001b[0m\u001b[0;34m:\u001b[0m\u001b[0;34m\u001b[0m\u001b[0;34m\u001b[0m\u001b[0m\n\u001b[0;32m--> 150\u001b[0;31m       \u001b[0;32mreturn\u001b[0m \u001b[0mfn\u001b[0m\u001b[0;34m(\u001b[0m\u001b[0;34m*\u001b[0m\u001b[0margs\u001b[0m\u001b[0;34m,\u001b[0m \u001b[0;34m**\u001b[0m\u001b[0mkwargs\u001b[0m\u001b[0;34m)\u001b[0m\u001b[0;34m\u001b[0m\u001b[0;34m\u001b[0m\u001b[0m\n\u001b[0m\u001b[1;32m    151\u001b[0m     \u001b[0;32mexcept\u001b[0m \u001b[0mException\u001b[0m \u001b[0;32mas\u001b[0m \u001b[0me\u001b[0m\u001b[0;34m:\u001b[0m\u001b[0;34m\u001b[0m\u001b[0;34m\u001b[0m\u001b[0m\n\u001b[1;32m    152\u001b[0m       \u001b[0mfiltered_tb\u001b[0m \u001b[0;34m=\u001b[0m \u001b[0m_process_traceback_frames\u001b[0m\u001b[0;34m(\u001b[0m\u001b[0me\u001b[0m\u001b[0;34m.\u001b[0m\u001b[0m__traceback__\u001b[0m\u001b[0;34m)\u001b[0m\u001b[0;34m\u001b[0m\u001b[0;34m\u001b[0m\u001b[0m\n",
      "\u001b[0;32m~/anaconda3/envs/tensorflow2_p38/lib/python3.8/site-packages/tensorflow/python/eager/def_function.py\u001b[0m in \u001b[0;36m__call__\u001b[0;34m(self, *args, **kwds)\u001b[0m\n\u001b[1;32m    908\u001b[0m \u001b[0;34m\u001b[0m\u001b[0m\n\u001b[1;32m    909\u001b[0m       \u001b[0;32mwith\u001b[0m \u001b[0mOptionalXlaContext\u001b[0m\u001b[0;34m(\u001b[0m\u001b[0mself\u001b[0m\u001b[0;34m.\u001b[0m\u001b[0m_jit_compile\u001b[0m\u001b[0;34m)\u001b[0m\u001b[0;34m:\u001b[0m\u001b[0;34m\u001b[0m\u001b[0;34m\u001b[0m\u001b[0m\n\u001b[0;32m--> 910\u001b[0;31m         \u001b[0mresult\u001b[0m \u001b[0;34m=\u001b[0m \u001b[0mself\u001b[0m\u001b[0;34m.\u001b[0m\u001b[0m_call\u001b[0m\u001b[0;34m(\u001b[0m\u001b[0;34m*\u001b[0m\u001b[0margs\u001b[0m\u001b[0;34m,\u001b[0m \u001b[0;34m**\u001b[0m\u001b[0mkwds\u001b[0m\u001b[0;34m)\u001b[0m\u001b[0;34m\u001b[0m\u001b[0;34m\u001b[0m\u001b[0m\n\u001b[0m\u001b[1;32m    911\u001b[0m \u001b[0;34m\u001b[0m\u001b[0m\n\u001b[1;32m    912\u001b[0m       \u001b[0mnew_tracing_count\u001b[0m \u001b[0;34m=\u001b[0m \u001b[0mself\u001b[0m\u001b[0;34m.\u001b[0m\u001b[0mexperimental_get_tracing_count\u001b[0m\u001b[0;34m(\u001b[0m\u001b[0;34m)\u001b[0m\u001b[0;34m\u001b[0m\u001b[0;34m\u001b[0m\u001b[0m\n",
      "\u001b[0;32m~/anaconda3/envs/tensorflow2_p38/lib/python3.8/site-packages/tensorflow/python/eager/def_function.py\u001b[0m in \u001b[0;36m_call\u001b[0;34m(self, *args, **kwds)\u001b[0m\n\u001b[1;32m    940\u001b[0m       \u001b[0;31m# In this case we have created variables on the first call, so we run the\u001b[0m\u001b[0;34m\u001b[0m\u001b[0;34m\u001b[0m\u001b[0;34m\u001b[0m\u001b[0m\n\u001b[1;32m    941\u001b[0m       \u001b[0;31m# defunned version which is guaranteed to never create variables.\u001b[0m\u001b[0;34m\u001b[0m\u001b[0;34m\u001b[0m\u001b[0;34m\u001b[0m\u001b[0m\n\u001b[0;32m--> 942\u001b[0;31m       \u001b[0;32mreturn\u001b[0m \u001b[0mself\u001b[0m\u001b[0;34m.\u001b[0m\u001b[0m_stateless_fn\u001b[0m\u001b[0;34m(\u001b[0m\u001b[0;34m*\u001b[0m\u001b[0margs\u001b[0m\u001b[0;34m,\u001b[0m \u001b[0;34m**\u001b[0m\u001b[0mkwds\u001b[0m\u001b[0;34m)\u001b[0m  \u001b[0;31m# pylint: disable=not-callable\u001b[0m\u001b[0;34m\u001b[0m\u001b[0;34m\u001b[0m\u001b[0m\n\u001b[0m\u001b[1;32m    943\u001b[0m     \u001b[0;32melif\u001b[0m \u001b[0mself\u001b[0m\u001b[0;34m.\u001b[0m\u001b[0m_stateful_fn\u001b[0m \u001b[0;32mis\u001b[0m \u001b[0;32mnot\u001b[0m \u001b[0;32mNone\u001b[0m\u001b[0;34m:\u001b[0m\u001b[0;34m\u001b[0m\u001b[0;34m\u001b[0m\u001b[0m\n\u001b[1;32m    944\u001b[0m       \u001b[0;31m# Release the lock early so that multiple threads can perform the call\u001b[0m\u001b[0;34m\u001b[0m\u001b[0;34m\u001b[0m\u001b[0;34m\u001b[0m\u001b[0m\n",
      "\u001b[0;32m~/anaconda3/envs/tensorflow2_p38/lib/python3.8/site-packages/tensorflow/python/eager/function.py\u001b[0m in \u001b[0;36m__call__\u001b[0;34m(self, *args, **kwargs)\u001b[0m\n\u001b[1;32m   3128\u001b[0m       (graph_function,\n\u001b[1;32m   3129\u001b[0m        filtered_flat_args) = self._maybe_define_function(args, kwargs)\n\u001b[0;32m-> 3130\u001b[0;31m     return graph_function._call_flat(\n\u001b[0m\u001b[1;32m   3131\u001b[0m         filtered_flat_args, captured_inputs=graph_function.captured_inputs)  # pylint: disable=protected-access\n\u001b[1;32m   3132\u001b[0m \u001b[0;34m\u001b[0m\u001b[0m\n",
      "\u001b[0;32m~/anaconda3/envs/tensorflow2_p38/lib/python3.8/site-packages/tensorflow/python/eager/function.py\u001b[0m in \u001b[0;36m_call_flat\u001b[0;34m(self, args, captured_inputs, cancellation_manager)\u001b[0m\n\u001b[1;32m   1957\u001b[0m         and executing_eagerly):\n\u001b[1;32m   1958\u001b[0m       \u001b[0;31m# No tape is watching; skip to running the function.\u001b[0m\u001b[0;34m\u001b[0m\u001b[0;34m\u001b[0m\u001b[0;34m\u001b[0m\u001b[0m\n\u001b[0;32m-> 1959\u001b[0;31m       return self._build_call_outputs(self._inference_function.call(\n\u001b[0m\u001b[1;32m   1960\u001b[0m           ctx, args, cancellation_manager=cancellation_manager))\n\u001b[1;32m   1961\u001b[0m     forward_backward = self._select_forward_and_backward_functions(\n",
      "\u001b[0;32m~/anaconda3/envs/tensorflow2_p38/lib/python3.8/site-packages/tensorflow/python/eager/function.py\u001b[0m in \u001b[0;36mcall\u001b[0;34m(self, ctx, args, cancellation_manager)\u001b[0m\n\u001b[1;32m    596\u001b[0m       \u001b[0;32mwith\u001b[0m \u001b[0m_InterpolateFunctionError\u001b[0m\u001b[0;34m(\u001b[0m\u001b[0mself\u001b[0m\u001b[0;34m)\u001b[0m\u001b[0;34m:\u001b[0m\u001b[0;34m\u001b[0m\u001b[0;34m\u001b[0m\u001b[0m\n\u001b[1;32m    597\u001b[0m         \u001b[0;32mif\u001b[0m \u001b[0mcancellation_manager\u001b[0m \u001b[0;32mis\u001b[0m \u001b[0;32mNone\u001b[0m\u001b[0;34m:\u001b[0m\u001b[0;34m\u001b[0m\u001b[0;34m\u001b[0m\u001b[0m\n\u001b[0;32m--> 598\u001b[0;31m           outputs = execute.execute(\n\u001b[0m\u001b[1;32m    599\u001b[0m               \u001b[0mstr\u001b[0m\u001b[0;34m(\u001b[0m\u001b[0mself\u001b[0m\u001b[0;34m.\u001b[0m\u001b[0msignature\u001b[0m\u001b[0;34m.\u001b[0m\u001b[0mname\u001b[0m\u001b[0;34m)\u001b[0m\u001b[0;34m,\u001b[0m\u001b[0;34m\u001b[0m\u001b[0;34m\u001b[0m\u001b[0m\n\u001b[1;32m    600\u001b[0m               \u001b[0mnum_outputs\u001b[0m\u001b[0;34m=\u001b[0m\u001b[0mself\u001b[0m\u001b[0;34m.\u001b[0m\u001b[0m_num_outputs\u001b[0m\u001b[0;34m,\u001b[0m\u001b[0;34m\u001b[0m\u001b[0;34m\u001b[0m\u001b[0m\n",
      "\u001b[0;32m~/anaconda3/envs/tensorflow2_p38/lib/python3.8/site-packages/tensorflow/python/eager/execute.py\u001b[0m in \u001b[0;36mquick_execute\u001b[0;34m(op_name, num_outputs, inputs, attrs, ctx, name)\u001b[0m\n\u001b[1;32m     56\u001b[0m   \u001b[0;32mtry\u001b[0m\u001b[0;34m:\u001b[0m\u001b[0;34m\u001b[0m\u001b[0;34m\u001b[0m\u001b[0m\n\u001b[1;32m     57\u001b[0m     \u001b[0mctx\u001b[0m\u001b[0;34m.\u001b[0m\u001b[0mensure_initialized\u001b[0m\u001b[0;34m(\u001b[0m\u001b[0;34m)\u001b[0m\u001b[0;34m\u001b[0m\u001b[0;34m\u001b[0m\u001b[0m\n\u001b[0;32m---> 58\u001b[0;31m     tensors = pywrap_tfe.TFE_Py_Execute(ctx._handle, device_name, op_name,\n\u001b[0m\u001b[1;32m     59\u001b[0m                                         inputs, attrs, num_outputs)\n\u001b[1;32m     60\u001b[0m   \u001b[0;32mexcept\u001b[0m \u001b[0mcore\u001b[0m\u001b[0;34m.\u001b[0m\u001b[0m_NotOkStatusException\u001b[0m \u001b[0;32mas\u001b[0m \u001b[0me\u001b[0m\u001b[0;34m:\u001b[0m\u001b[0;34m\u001b[0m\u001b[0;34m\u001b[0m\u001b[0m\n",
      "\u001b[0;31mKeyboardInterrupt\u001b[0m: "
     ]
    }
   ],
   "source": [
    "import tensorflow as tf\n",
    "x = keras.layers.Dense(100, activation = 'relu')(enc)\n",
    "x = keras.layers.BatchNormalization()(x)\n",
    "x = keras.layers.Dense(100, activation = 'relu')(x)\n",
    "x = keras.layers.BatchNormalization()(x)\n",
    "x = keras.layers.Dense(100, activation = 'relu')(x)\n",
    "x = keras.layers.BatchNormalization()(x)\n",
    "pre_temperature = keras.layers.Dense(units = 1, activation = 'linear')(x)\n",
    "#temperature = keras.layers.Lambda(lambda v : keras.activations.sigmoid(v) * 10)(pre_temperature)\n",
    "#custom loss. We want the temperature to be unbounded on the positive side (and therefore when the pretemperature is greater than 0, it's unbounded; \n",
    "#but we also need to make sure the temperature is never negative - so we don't get infinite logits. So we do an exponentially decaying activation on the negative side)\n",
    "temperature = keras.layers.Activation(lambda v : tf.where(v < 0, keras.activations.exponential(v), 1 + keras.activations.linear(v)))(pre_temperature)\n",
    "ood_cls_logits = keras.layers.Lambda(lambda inputs: inputs[0] / inputs[1])([cls_logits, temperature])\n",
    "ood_cls_out = keras.layers.Activation('softmax')(ood_cls_logits)\n",
    "\n",
    "temperature_model = keras.models.Model(inputs = enc, outputs = temperature)\n",
    "ood_network = keras.models.Model(inputs = enc, outputs = ood_cls_out)\n",
    "for layer in network.layers:\n",
    "    layer.trainable = False\n",
    "ood_network.compile(loss='categorical_crossentropy',\n",
    "          optimizer=keras.optimizers.Adam(learning_rate=3e-3))\n",
    "ood_network.fit(ood_X_train, ood_y_train, \n",
    "    epochs = 30,\n",
    "    verbose = 1,\n",
    "    validation_split = .1)"
   ]
  },
  {
   "cell_type": "code",
   "execution_count": 1085,
   "id": "52f77379",
   "metadata": {
    "scrolled": true
   },
   "outputs": [],
   "source": [
    "from copy import deepcopy\n",
    "import tensorflow as tf\n",
    "encoding_X_ood_grad = deepcopy(encoding_X_ood)\n",
    "tensor = tf.convert_to_tensor(encoding_X_ood_grad, dtype=tf.float32)\n",
    "with tf.GradientTape(persistent=True) as tape:\n",
    "    tape.watch(tensor)\n",
    "    pred = ood_network(tensor)\n",
    "    y = [pred[i, keras.backend.argmax(pred[i])] for i in range(len(pred))]\n",
    "dy_dx = tape.gradient(y, tensor)\n",
    "encoding_X_ood_grad -= 4e1 * dy_dx"
   ]
  },
  {
   "cell_type": "code",
   "execution_count": 1086,
   "id": "74fc3262",
   "metadata": {},
   "outputs": [],
   "source": [
    "encoding_X_train_grad = deepcopy(encoding_X_train)\n",
    "tensor = tf.convert_to_tensor(encoding_X_train_grad, dtype=tf.float32)\n",
    "with tf.GradientTape(persistent=True) as tape:\n",
    "    tape.watch(tensor)\n",
    "    pred = ood_network(tensor)\n",
    "    y = [pred[i, keras.backend.argmax(pred[i])] for i in range(len(pred))]\n",
    "dy_dx = tape.gradient(y, tensor)\n",
    "encoding_X_train_grad -= 4e1 * dy_dx"
   ]
  },
  {
   "cell_type": "code",
   "execution_count": 1087,
   "id": "a714b99f",
   "metadata": {},
   "outputs": [
    {
     "name": "stdout",
     "output_type": "stream",
     "text": [
      "In Distribution Temperature:  0.5172284\n"
     ]
    }
   ],
   "source": [
    "t = temperature_model.predict(encoding_X_train)\n",
    "print(\"In Distribution Temperature: \", np.mean(t))"
   ]
  },
  {
   "cell_type": "code",
   "execution_count": 1088,
   "id": "a6b57983",
   "metadata": {},
   "outputs": [
    {
     "name": "stdout",
     "output_type": "stream",
     "text": [
      "In Distribution Grad Temperature:  0.7329862\n"
     ]
    }
   ],
   "source": [
    "t = temperature_model.predict(encoding_X_train_grad)\n",
    "print(\"In Distribution Grad Temperature: \", np.mean(t))"
   ]
  },
  {
   "cell_type": "code",
   "execution_count": 1089,
   "id": "82b85214",
   "metadata": {},
   "outputs": [
    {
     "name": "stdout",
     "output_type": "stream",
     "text": [
      "VO Temperature (we want this to be much higher than the in distribution temperature):  4.3176055\n"
     ]
    }
   ],
   "source": [
    "t = temperature_model.predict(np.array(vos_samples))\n",
    "print(\"VO Temperature (we want this to be much higher than the in distribution temperature): \", np.mean(t))"
   ]
  },
  {
   "cell_type": "code",
   "execution_count": 1090,
   "id": "7844bc83",
   "metadata": {},
   "outputs": [
    {
     "name": "stdout",
     "output_type": "stream",
     "text": [
      "OOD Temperature (we want this to be much higher than the in distribution temperature):  9.2319765\n"
     ]
    }
   ],
   "source": [
    "t = temperature_model.predict(encoding_X_ood)\n",
    "print(\"OOD Temperature (we want this to be much higher than the in distribution temperature): \", np.mean(t))"
   ]
  },
  {
   "cell_type": "code",
   "execution_count": 1091,
   "id": "bf1e4551",
   "metadata": {},
   "outputs": [
    {
     "name": "stdout",
     "output_type": "stream",
     "text": [
      "OOD Grad Temperature (we want this to be much higher than the in distribution temperature):  9.526242\n"
     ]
    }
   ],
   "source": [
    "t = temperature_model.predict(encoding_X_ood_grad)\n",
    "print(\"OOD Grad Temperature (we want this to be much higher than the in distribution temperature): \", np.mean(t))"
   ]
  },
  {
   "cell_type": "code",
   "execution_count": 1092,
   "id": "13130765",
   "metadata": {},
   "outputs": [
    {
     "name": "stdout",
     "output_type": "stream",
     "text": [
      "Temperature Deflated VO Confidence Average (we want this to be really low):  0.8653182\n"
     ]
    }
   ],
   "source": [
    "vos_pred = ood_network.predict(np.array(vos_samples))\n",
    "print(\"Temperature Deflated VO Confidence Average (we want this to be really low): \", np.mean(np.max(vos_pred, axis = 1)))"
   ]
  },
  {
   "cell_type": "code",
   "execution_count": 1093,
   "id": "efac8545",
   "metadata": {},
   "outputs": [
    {
     "name": "stdout",
     "output_type": "stream",
     "text": [
      "Temperature Deflated OOD Confidence Average (we want this to be really low):  0.69136655\n"
     ]
    }
   ],
   "source": [
    "ood_pred = ood_network.predict(encoding_X_ood)\n",
    "print(\"Temperature Deflated OOD Confidence Average (we want this to be really low): \", np.mean(np.max(ood_pred, axis = 1)))"
   ]
  },
  {
   "cell_type": "code",
   "execution_count": 1094,
   "id": "70f05676",
   "metadata": {},
   "outputs": [
    {
     "name": "stdout",
     "output_type": "stream",
     "text": [
      "Temperature Deflated OOD Grad Confidence Average (we want this to be really low):  0.65577847\n"
     ]
    }
   ],
   "source": [
    "ood_grad_pred = ood_network.predict(encoding_X_ood_grad)\n",
    "print(\"Temperature Deflated OOD Grad Confidence Average (we want this to be really low): \", np.mean(np.max(ood_grad_pred, axis = 1)))"
   ]
  },
  {
   "cell_type": "code",
   "execution_count": 1095,
   "id": "627bb49c",
   "metadata": {},
   "outputs": [
    {
     "name": "stdout",
     "output_type": "stream",
     "text": [
      "Temperature Deflated In-Distribution Confidence Average:  0.98821145\n"
     ]
    }
   ],
   "source": [
    "id_pred = ood_network.predict(encoding_X_train)\n",
    "print(\"Temperature Deflated In-Distribution Confidence Average: \", np.mean(np.max(id_pred, axis = 1)))"
   ]
  },
  {
   "cell_type": "code",
   "execution_count": 1096,
   "id": "843a30f0",
   "metadata": {},
   "outputs": [
    {
     "name": "stdout",
     "output_type": "stream",
     "text": [
      "Temperature Deflated In-Distribution Grad Confidence Average:  0.9864173\n"
     ]
    }
   ],
   "source": [
    "id_grad_pred = ood_network.predict(encoding_X_train_grad)\n",
    "print(\"Temperature Deflated In-Distribution Grad Confidence Average: \", np.mean(np.max(id_grad_pred, axis = 1)))"
   ]
  },
  {
   "cell_type": "code",
   "execution_count": 1097,
   "id": "0687a13d",
   "metadata": {},
   "outputs": [
    {
     "name": "stdout",
     "output_type": "stream",
     "text": [
      "AUC:  0.9814259000000001\n",
      "Grad AUC:  0.9835589\n"
     ]
    }
   ],
   "source": [
    "from sklearn.metrics import roc_auc_score\n",
    "print(\"AUC: \",roc_auc_score(np.concatenate([np.ones((len(id_pred))), np.zeros((len(ood_pred)))]), np.concatenate([np.max(id_pred, axis = 1), np.max(ood_pred, axis = 1)])))\n",
    "print(\"Grad AUC: \",roc_auc_score(np.concatenate([np.ones((len(id_grad_pred))), np.zeros((len(ood_grad_pred)))]), np.concatenate([np.max(id_grad_pred, axis = 1), np.max(ood_grad_pred, axis = 1)])))"
   ]
  },
  {
   "cell_type": "code",
   "execution_count": 1098,
   "id": "15016bdd",
   "metadata": {},
   "outputs": [
    {
     "name": "stdout",
     "output_type": "stream",
     "text": [
      "Unaffected Model VO Confidence Average (this being high shows networks are overconfident OOD):  0.9610622\n"
     ]
    }
   ],
   "source": [
    "vo_pred = keras.models.Model(inputs = enc, outputs = cls_out).predict(np.array(vos_samples))\n",
    "print(\"Unaffected Model VO Confidence Average (this being high shows networks are overconfident OOD): \", np.mean(np.max(vo_pred, axis = 1)))"
   ]
  },
  {
   "cell_type": "code",
   "execution_count": 1099,
   "id": "41a891fe",
   "metadata": {},
   "outputs": [
    {
     "name": "stdout",
     "output_type": "stream",
     "text": [
      "Unaffected Model OOD Confidence Average (this being high shows networks are overconfident OOD):  0.9441205\n"
     ]
    }
   ],
   "source": [
    "ood_pred = keras.models.Model(inputs = enc, outputs = cls_out).predict(encoding_X_ood)\n",
    "print(\"Unaffected Model OOD Confidence Average (this being high shows networks are overconfident OOD): \", np.mean(np.max(ood_pred, axis = 1)))"
   ]
  },
  {
   "cell_type": "code",
   "execution_count": 1100,
   "id": "6fd40d3b",
   "metadata": {},
   "outputs": [
    {
     "name": "stdout",
     "output_type": "stream",
     "text": [
      "Unaffected Model OOD Grad Confidence Average (this being high shows networks are overconfident OOD):  0.919487\n"
     ]
    }
   ],
   "source": [
    "ood_grad_pred = keras.models.Model(inputs = enc, outputs = cls_out).predict(encoding_X_ood_grad)\n",
    "print(\"Unaffected Model OOD Grad Confidence Average (this being high shows networks are overconfident OOD): \", np.mean(np.max(ood_grad_pred, axis = 1)))"
   ]
  },
  {
   "cell_type": "code",
   "execution_count": 1101,
   "id": "b06478ad",
   "metadata": {},
   "outputs": [
    {
     "name": "stdout",
     "output_type": "stream",
     "text": [
      "Unaffected Model In-Distribution Confidence Average:  0.9791584\n"
     ]
    }
   ],
   "source": [
    "id_pred = network.predict(X_train)\n",
    "print(\"Unaffected Model In-Distribution Confidence Average: \", np.mean(np.max(id_pred, axis = 1)))"
   ]
  },
  {
   "cell_type": "code",
   "execution_count": 1102,
   "id": "4912a785",
   "metadata": {},
   "outputs": [
    {
     "name": "stdout",
     "output_type": "stream",
     "text": [
      "Unaffected Model In-Distribution Grad Confidence Average:  0.9791584\n"
     ]
    }
   ],
   "source": [
    "id_grad_pred = network.predict(X_train)\n",
    "print(\"Unaffected Model In-Distribution Grad Confidence Average: \", np.mean(np.max(id_grad_pred, axis = 1)))"
   ]
  },
  {
   "cell_type": "code",
   "execution_count": 1103,
   "id": "0ff74f46",
   "metadata": {},
   "outputs": [
    {
     "name": "stdout",
     "output_type": "stream",
     "text": [
      "AUC:  0.5570987666666667\n",
      "Grad AUC:  0.6500288333333333\n"
     ]
    }
   ],
   "source": [
    "from sklearn.metrics import roc_auc_score\n",
    "print(\"AUC: \",roc_auc_score(np.concatenate([np.ones((len(id_pred))), np.zeros((len(ood_pred)))]), np.concatenate([np.max(id_pred, axis = 1), np.max(ood_pred, axis = 1)])))\n",
    "print(\"Grad AUC: \",roc_auc_score(np.concatenate([np.ones((len(id_grad_pred))), np.zeros((len(ood_grad_pred)))]), np.concatenate([np.max(id_grad_pred, axis = 1), np.max(ood_grad_pred, axis = 1)])))"
   ]
  },
  {
   "cell_type": "code",
   "execution_count": 1104,
   "id": "741e01be",
   "metadata": {},
   "outputs": [],
   "source": [
    "def get_ece(confidences, correctness):\n",
    "    hists = []\n",
    "    hists_hat = []\n",
    "    amts = []\n",
    "    num_bins = 100\n",
    "    for i in range(num_bins):\n",
    "        prop = i*1./num_bins\n",
    "        inds = np.where((confidences >= prop) & (confidences <= prop+1./num_bins))[0]\n",
    "        amts.append(len(inds))\n",
    "        if len(inds) > 0:\n",
    "            hists.append(len(np.where(correctness[inds] == 1)[0])*1./len(inds))\n",
    "            hists_hat.append(np.mean(confidences[inds]))\n",
    "        else:\n",
    "            hists.append(prop)\n",
    "            hists_hat.append(prop + 0.5/num_bins)\n",
    "    return np.sum(np.abs(np.array(hists) - np.array(hists_hat)) * np.array(amts)) / np.sum(amts)"
   ]
  },
  {
   "cell_type": "code",
   "execution_count": 1105,
   "id": "b4d90276",
   "metadata": {},
   "outputs": [
    {
     "name": "stdout",
     "output_type": "stream",
     "text": [
      "0.8905379496526583\n"
     ]
    },
    {
     "data": {
      "text/plain": [
       "0.05034628552233335"
      ]
     },
     "execution_count": 1105,
     "metadata": {},
     "output_type": "execute_result"
    }
   ],
   "source": [
    "from sklearn.metrics import roc_auc_score, accuracy_score\n",
    "pred = network.predict(X_test)\n",
    "\n",
    "print(roc_auc_score(np.argmax(pred, axis = 1) == y_test, np.max(pred, axis = 1)))\n",
    "class_eces = []\n",
    "for j in range(len(np.unique(y_train))):\n",
    "    class_eces.append(get_ece(np.array(pred)[:, j], y_test == j))\n",
    "np.mean(class_eces)"
   ]
  },
  {
   "cell_type": "code",
   "execution_count": 1106,
   "id": "c040209b",
   "metadata": {},
   "outputs": [
    {
     "name": "stdout",
     "output_type": "stream",
     "text": [
      "0.8458091168581059\n"
     ]
    },
    {
     "data": {
      "text/plain": [
       "0.05485854825760907"
      ]
     },
     "execution_count": 1106,
     "metadata": {},
     "output_type": "execute_result"
    }
   ],
   "source": [
    "pred = ood_network.predict(encoding_X_test)\n",
    "print(roc_auc_score(np.argmax(pred, axis = 1) == y_test, np.max(pred, axis = 1)))\n",
    "class_eces = []\n",
    "for j in range(len(np.unique(y_train))):\n",
    "    class_eces.append(get_ece(np.array(pred)[:, j], y_test == j))\n",
    "np.mean(class_eces)"
   ]
  },
  {
   "cell_type": "code",
   "execution_count": 1107,
   "id": "35f53bd8",
   "metadata": {},
   "outputs": [],
   "source": [
    "ood_scores_test = temperature_model.predict(encoding_X_test)[:, 0]"
   ]
  },
  {
   "cell_type": "code",
   "execution_count": 1108,
   "id": "beb871ba",
   "metadata": {},
   "outputs": [],
   "source": [
    "model_predictions = network.predict(X_test)\n",
    "ood_model_predictions = ood_network.predict(encoding_X_test)"
   ]
  },
  {
   "cell_type": "code",
   "execution_count": 1109,
   "id": "6860fd8b",
   "metadata": {},
   "outputs": [],
   "source": [
    "num_intervals = 5"
   ]
  },
  {
   "cell_type": "code",
   "execution_count": 1112,
   "id": "4fdf4698",
   "metadata": {},
   "outputs": [],
   "source": [
    "#z_scores = p_label_error / (variance_confidences + 1e-12)\n",
    "from sklearn.metrics import average_precision_score\n",
    "order = np.argsort(ood_scores_test)[::-1]\n",
    "ps = []\n",
    "accs = []\n",
    "base_eces = []\n",
    "ood_model_eces = []\n",
    "base_confidences = []\n",
    "ood_model_confidences = []\n",
    "model_acc = []\n",
    "ood_model_acc = []\n",
    "\n",
    "for i in range(0, len(y_test), int(len(y_test) / num_intervals)):\n",
    "    class_eces = []\n",
    "    for j in range(len(np.unique(y_train))):\n",
    "        class_eces.append(get_ece(np.array(model_predictions)[order[:i + int(len(y_test) / num_intervals)], j], y_test[order[:i + int(len(y_test) / num_intervals)]] == j))\n",
    "    base_eces.append(np.mean(class_eces))\n",
    "    base_confidences.append(np.mean(np.max(model_predictions[order[i:i + int(len(y_test) / num_intervals)]], axis = 1)))\n",
    "    model_acc.append(np.mean(np.argmax(model_predictions[order[i:i + int(len(y_test) / num_intervals)]], axis = 1) == y_test[order[i:i + int(len(y_test) / num_intervals)]]))\n",
    "\n",
    "    class_eces = []\n",
    "    for j in range(len(np.unique(y_train))):\n",
    "        class_eces.append(get_ece(np.array(ood_model_predictions)[order[:i + int(len(y_test) / num_intervals)], j], y_test[order[:i + int(len(y_test) / num_intervals)]] == j))\n",
    "    ood_model_eces.append(np.median(class_eces))\n",
    "    ood_model_confidences.append(np.mean(np.max(ood_model_predictions[order[i:i + int(len(y_test) / num_intervals)]], axis = 1)))\n",
    "    ood_model_acc.append(np.mean(np.argmax(ood_model_predictions[order[i:i + int(len(y_test) / num_intervals)]], axis = 1) == y_test[order[i:i + int(len(y_test) / num_intervals)]]))"
   ]
  },
  {
   "cell_type": "code",
   "execution_count": 1113,
   "id": "c8c13e64",
   "metadata": {},
   "outputs": [
    {
     "data": {
      "text/plain": [
       "<matplotlib.legend.Legend at 0x7fe0961d8e50>"
      ]
     },
     "execution_count": 1113,
     "metadata": {},
     "output_type": "execute_result"
    },
    {
     "data": {
      "image/png": "[encoded data removed]",
      "text/plain": [
       "<Figure size 432x288 with 1 Axes>"
      ]
     },
     "metadata": {
      "needs_background": "light"
     },
     "output_type": "display_data"
    }
   ],
   "source": [
    "import matplotlib.pyplot as plt\n",
    "plt.plot(ood_scores_test[order[np.arange(0, len(y_test), int(len(y_test) / num_intervals))]], base_eces, label = \"Unchanged Model\")\n",
    "#plt.plot(np.arange(0, len(y_test), int(len(y_test) / num_intervals)) / len(y_test), base_eces, label = \"Unchanged Model\")\n",
    "#plt.plot(ood_scores_test[order[np.arange(0, len(y_test), int(len(y_test) / num_intervals))]], ood_model_eces, label = \"Penultimate-Dependent Temperature Deflation Model\")\n",
    "#plt.plot(np.arange(0, len(y_test), int(len(y_test) / num_intervals)) / len(y_test), ood_model_eces, label = \"Penultimate-Dependent Temperature Deflation Model\")\n",
    "plt.xlabel(\"Temperature\")\n",
    "plt.ylabel(\"ECE Of Accepted Points\")\n",
    "plt.legend()"
   ]
  },
  {
   "cell_type": "markdown",
   "id": "17d8a789",
   "metadata": {},
   "source": [
    "The blue line increasing shows that when temperature is high, ECE is high -> we can detect when the baseline model is miscalibrated (when we're OOD) and we know it by a high temperature. On this, we deflate confidence."
   ]
  },
  {
   "cell_type": "code",
   "execution_count": null,
   "id": "e155f8c4",
   "metadata": {},
   "outputs": [],
   "source": []
  }
 ],
 "metadata": {
  "kernelspec": {
   "display_name": "Environment (conda_tensorflow2_p38)",
   "language": "python",
   "name": "conda_tensorflow2_p38"
  },
  "language_info": {
   "codemirror_mode": {
    "name": "ipython",
    "version": 3
   },
   "file_extension": ".py",
   "mimetype": "text/x-python",
   "name": "python",
   "nbconvert_exporter": "python",
   "pygments_lexer": "ipython3",
   "version": "3.8.12"
  }
 },
 "nbformat": 4,
 "nbformat_minor": 5
}
